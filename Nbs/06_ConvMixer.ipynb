{
 "cells": [
  {
   "cell_type": "markdown",
   "id": "39e71c54",
   "metadata": {
    "ExecuteTime": {
     "end_time": "2021-10-11T08:45:24.102311Z",
     "start_time": "2021-10-11T08:45:24.098187Z"
    }
   },
   "source": [
    "# ConvMixer\n",
    "\n",
    "> ConvMixer model."
   ]
  },
  {
   "cell_type": "markdown",
   "id": "be09cd73",
   "metadata": {},
   "source": [
    "Implementation of ConvMixer.  \n",
    "ConvMixer - ICLR 2022 submission [\"Patches Are All You Need?\".](https://openreview.net/forum?id=TVHS5Y4dNvM)  \n",
    "Adopted from [https://github.com/tmp-iclr/convmixer](https://github.com/tmp-iclr/convmixer)  \n",
    "Home for convmixer: [https://github.com/locuslab/convmixer](https://github.com/locuslab/convmixer)"
   ]
  },
  {
   "cell_type": "markdown",
   "id": "0be91e3c",
   "metadata": {},
   "source": [
    "Purpose of this implementation - possibilities for tune this model.  \n",
    "For example - play with activation function, initialization etc.  "
   ]
  },
  {
   "cell_type": "markdown",
   "id": "47aef1f7",
   "metadata": {},
   "source": [
    "## Import and create model"
   ]
  },
  {
   "cell_type": "markdown",
   "id": "6a8d3baf",
   "metadata": {},
   "source": [
    "Base class for model - ConvMixer, return pytorch Sequential model.  "
   ]
  },
  {
   "cell_type": "code",
   "execution_count": null,
   "id": "85b7cf46",
   "metadata": {},
   "outputs": [],
   "source": [
    "from model_constructor import ConvMixer"
   ]
  },
  {
   "cell_type": "markdown",
   "id": "b34caa7a",
   "metadata": {},
   "source": [
    "Now we can create convmixer model:"
   ]
  },
  {
   "cell_type": "code",
   "execution_count": null,
   "id": "d9a89a76",
   "metadata": {},
   "outputs": [],
   "source": [
    "convmixer_1024_20 = ConvMixer(dim=1024, depth=20)"
   ]
  },
  {
   "cell_type": "code",
   "execution_count": null,
   "id": "bf63373e",
   "metadata": {},
   "outputs": [
    {
     "data": {
      "text/plain": [
       "ConvMixer(\n",
       "  (0): ConvLayer(\n",
       "    (conv): Conv2d(3, 1024, kernel_size=(7, 7), stride=(7, 7))\n",
       "    (act_fn): GELU(approximate='none')\n",
       "    (bn): BatchNorm2d(1024, eps=1e-05, momentum=0.1, affine=True, track_running_stats=True)\n",
       "  )\n",
       "  (1): Sequential(\n",
       "    (0): Residual(\n",
       "      (fn): ConvLayer(\n",
       "        (conv): Conv2d(1024, 1024, kernel_size=(9, 9), stride=(1, 1), padding=same, groups=1024)\n",
       "        (act_fn): GELU(approximate='none')\n",
       "        (bn): BatchNorm2d(1024, eps=1e-05, momentum=0.1, affine=True, track_running_stats=True)\n",
       "      )\n",
       "    )\n",
       "    (1): ConvLayer(\n",
       "      (conv): Conv2d(1024, 1024, kernel_size=(1, 1), stride=(1, 1))\n",
       "      (act_fn): GELU(approximate='none')\n",
       "      (bn): BatchNorm2d(1024, eps=1e-05, momentum=0.1, affine=True, track_running_stats=True)\n",
       "    )\n",
       "  )\n",
       "  (2): Sequential(\n",
       "    (0): Residual(\n",
       "      (fn): ConvLayer(\n",
       "        (conv): Conv2d(1024, 1024, kernel_size=(9, 9), stride=(1, 1), padding=same, groups=1024)\n",
       "        (act_fn): GELU(approximate='none')\n",
       "        (bn): BatchNorm2d(1024, eps=1e-05, momentum=0.1, affine=True, track_running_stats=True)\n",
       "      )\n",
       "    )\n",
       "    (1): ConvLayer(\n",
       "      (conv): Conv2d(1024, 1024, kernel_size=(1, 1), stride=(1, 1))\n",
       "      (act_fn): GELU(approximate='none')\n",
       "      (bn): BatchNorm2d(1024, eps=1e-05, momentum=0.1, affine=True, track_running_stats=True)\n",
       "    )\n",
       "  )\n",
       "  (3): Sequential(\n",
       "    (0): Residual(\n",
       "      (fn): ConvLayer(\n",
       "        (conv): Conv2d(1024, 1024, kernel_size=(9, 9), stride=(1, 1), padding=same, groups=1024)\n",
       "        (act_fn): GELU(approximate='none')\n",
       "        (bn): BatchNorm2d(1024, eps=1e-05, momentum=0.1, affine=True, track_running_stats=True)\n",
       "      )\n",
       "    )\n",
       "    (1): ConvLayer(\n",
       "      (conv): Conv2d(1024, 1024, kernel_size=(1, 1), stride=(1, 1))\n",
       "      (act_fn): GELU(approximate='none')\n",
       "      (bn): BatchNorm2d(1024, eps=1e-05, momentum=0.1, affine=True, track_running_stats=True)\n",
       "    )\n",
       "  )\n",
       "  (4): Sequential(\n",
       "    (0): Residual(\n",
       "      (fn): ConvLayer(\n",
       "        (conv): Conv2d(1024, 1024, kernel_size=(9, 9), stride=(1, 1), padding=same, groups=1024)\n",
       "        (act_fn): GELU(approximate='none')\n",
       "        (bn): BatchNorm2d(1024, eps=1e-05, momentum=0.1, affine=True, track_running_stats=True)\n",
       "      )\n",
       "    )\n",
       "    (1): ConvLayer(\n",
       "      (conv): Conv2d(1024, 1024, kernel_size=(1, 1), stride=(1, 1))\n",
       "      (act_fn): GELU(approximate='none')\n",
       "      (bn): BatchNorm2d(1024, eps=1e-05, momentum=0.1, affine=True, track_running_stats=True)\n",
       "    )\n",
       "  )\n",
       "  (5): Sequential(\n",
       "    (0): Residual(\n",
       "      (fn): ConvLayer(\n",
       "        (conv): Conv2d(1024, 1024, kernel_size=(9, 9), stride=(1, 1), padding=same, groups=1024)\n",
       "        (act_fn): GELU(approximate='none')\n",
       "        (bn): BatchNorm2d(1024, eps=1e-05, momentum=0.1, affine=True, track_running_stats=True)\n",
       "      )\n",
       "    )\n",
       "    (1): ConvLayer(\n",
       "      (conv): Conv2d(1024, 1024, kernel_size=(1, 1), stride=(1, 1))\n",
       "      (act_fn): GELU(approximate='none')\n",
       "      (bn): BatchNorm2d(1024, eps=1e-05, momentum=0.1, affine=True, track_running_stats=True)\n",
       "    )\n",
       "  )\n",
       "  (6): Sequential(\n",
       "    (0): Residual(\n",
       "      (fn): ConvLayer(\n",
       "        (conv): Conv2d(1024, 1024, kernel_size=(9, 9), stride=(1, 1), padding=same, groups=1024)\n",
       "        (act_fn): GELU(approximate='none')\n",
       "        (bn): BatchNorm2d(1024, eps=1e-05, momentum=0.1, affine=True, track_running_stats=True)\n",
       "      )\n",
       "    )\n",
       "    (1): ConvLayer(\n",
       "      (conv): Conv2d(1024, 1024, kernel_size=(1, 1), stride=(1, 1))\n",
       "      (act_fn): GELU(approximate='none')\n",
       "      (bn): BatchNorm2d(1024, eps=1e-05, momentum=0.1, affine=True, track_running_stats=True)\n",
       "    )\n",
       "  )\n",
       "  (7): Sequential(\n",
       "    (0): Residual(\n",
       "      (fn): ConvLayer(\n",
       "        (conv): Conv2d(1024, 1024, kernel_size=(9, 9), stride=(1, 1), padding=same, groups=1024)\n",
       "        (act_fn): GELU(approximate='none')\n",
       "        (bn): BatchNorm2d(1024, eps=1e-05, momentum=0.1, affine=True, track_running_stats=True)\n",
       "      )\n",
       "    )\n",
       "    (1): ConvLayer(\n",
       "      (conv): Conv2d(1024, 1024, kernel_size=(1, 1), stride=(1, 1))\n",
       "      (act_fn): GELU(approximate='none')\n",
       "      (bn): BatchNorm2d(1024, eps=1e-05, momentum=0.1, affine=True, track_running_stats=True)\n",
       "    )\n",
       "  )\n",
       "  (8): Sequential(\n",
       "    (0): Residual(\n",
       "      (fn): ConvLayer(\n",
       "        (conv): Conv2d(1024, 1024, kernel_size=(9, 9), stride=(1, 1), padding=same, groups=1024)\n",
       "        (act_fn): GELU(approximate='none')\n",
       "        (bn): BatchNorm2d(1024, eps=1e-05, momentum=0.1, affine=True, track_running_stats=True)\n",
       "      )\n",
       "    )\n",
       "    (1): ConvLayer(\n",
       "      (conv): Conv2d(1024, 1024, kernel_size=(1, 1), stride=(1, 1))\n",
       "      (act_fn): GELU(approximate='none')\n",
       "      (bn): BatchNorm2d(1024, eps=1e-05, momentum=0.1, affine=True, track_running_stats=True)\n",
       "    )\n",
       "  )\n",
       "  (9): Sequential(\n",
       "    (0): Residual(\n",
       "      (fn): ConvLayer(\n",
       "        (conv): Conv2d(1024, 1024, kernel_size=(9, 9), stride=(1, 1), padding=same, groups=1024)\n",
       "        (act_fn): GELU(approximate='none')\n",
       "        (bn): BatchNorm2d(1024, eps=1e-05, momentum=0.1, affine=True, track_running_stats=True)\n",
       "      )\n",
       "    )\n",
       "    (1): ConvLayer(\n",
       "      (conv): Conv2d(1024, 1024, kernel_size=(1, 1), stride=(1, 1))\n",
       "      (act_fn): GELU(approximate='none')\n",
       "      (bn): BatchNorm2d(1024, eps=1e-05, momentum=0.1, affine=True, track_running_stats=True)\n",
       "    )\n",
       "  )\n",
       "  (10): Sequential(\n",
       "    (0): Residual(\n",
       "      (fn): ConvLayer(\n",
       "        (conv): Conv2d(1024, 1024, kernel_size=(9, 9), stride=(1, 1), padding=same, groups=1024)\n",
       "        (act_fn): GELU(approximate='none')\n",
       "        (bn): BatchNorm2d(1024, eps=1e-05, momentum=0.1, affine=True, track_running_stats=True)\n",
       "      )\n",
       "    )\n",
       "    (1): ConvLayer(\n",
       "      (conv): Conv2d(1024, 1024, kernel_size=(1, 1), stride=(1, 1))\n",
       "      (act_fn): GELU(approximate='none')\n",
       "      (bn): BatchNorm2d(1024, eps=1e-05, momentum=0.1, affine=True, track_running_stats=True)\n",
       "    )\n",
       "  )\n",
       "  (11): Sequential(\n",
       "    (0): Residual(\n",
       "      (fn): ConvLayer(\n",
       "        (conv): Conv2d(1024, 1024, kernel_size=(9, 9), stride=(1, 1), padding=same, groups=1024)\n",
       "        (act_fn): GELU(approximate='none')\n",
       "        (bn): BatchNorm2d(1024, eps=1e-05, momentum=0.1, affine=True, track_running_stats=True)\n",
       "      )\n",
       "    )\n",
       "    (1): ConvLayer(\n",
       "      (conv): Conv2d(1024, 1024, kernel_size=(1, 1), stride=(1, 1))\n",
       "      (act_fn): GELU(approximate='none')\n",
       "      (bn): BatchNorm2d(1024, eps=1e-05, momentum=0.1, affine=True, track_running_stats=True)\n",
       "    )\n",
       "  )\n",
       "  (12): Sequential(\n",
       "    (0): Residual(\n",
       "      (fn): ConvLayer(\n",
       "        (conv): Conv2d(1024, 1024, kernel_size=(9, 9), stride=(1, 1), padding=same, groups=1024)\n",
       "        (act_fn): GELU(approximate='none')\n",
       "        (bn): BatchNorm2d(1024, eps=1e-05, momentum=0.1, affine=True, track_running_stats=True)\n",
       "      )\n",
       "    )\n",
       "    (1): ConvLayer(\n",
       "      (conv): Conv2d(1024, 1024, kernel_size=(1, 1), stride=(1, 1))\n",
       "      (act_fn): GELU(approximate='none')\n",
       "      (bn): BatchNorm2d(1024, eps=1e-05, momentum=0.1, affine=True, track_running_stats=True)\n",
       "    )\n",
       "  )\n",
       "  (13): Sequential(\n",
       "    (0): Residual(\n",
       "      (fn): ConvLayer(\n",
       "        (conv): Conv2d(1024, 1024, kernel_size=(9, 9), stride=(1, 1), padding=same, groups=1024)\n",
       "        (act_fn): GELU(approximate='none')\n",
       "        (bn): BatchNorm2d(1024, eps=1e-05, momentum=0.1, affine=True, track_running_stats=True)\n",
       "      )\n",
       "    )\n",
       "    (1): ConvLayer(\n",
       "      (conv): Conv2d(1024, 1024, kernel_size=(1, 1), stride=(1, 1))\n",
       "      (act_fn): GELU(approximate='none')\n",
       "      (bn): BatchNorm2d(1024, eps=1e-05, momentum=0.1, affine=True, track_running_stats=True)\n",
       "    )\n",
       "  )\n",
       "  (14): Sequential(\n",
       "    (0): Residual(\n",
       "      (fn): ConvLayer(\n",
       "        (conv): Conv2d(1024, 1024, kernel_size=(9, 9), stride=(1, 1), padding=same, groups=1024)\n",
       "        (act_fn): GELU(approximate='none')\n",
       "        (bn): BatchNorm2d(1024, eps=1e-05, momentum=0.1, affine=True, track_running_stats=True)\n",
       "      )\n",
       "    )\n",
       "    (1): ConvLayer(\n",
       "      (conv): Conv2d(1024, 1024, kernel_size=(1, 1), stride=(1, 1))\n",
       "      (act_fn): GELU(approximate='none')\n",
       "      (bn): BatchNorm2d(1024, eps=1e-05, momentum=0.1, affine=True, track_running_stats=True)\n",
       "    )\n",
       "  )\n",
       "  (15): Sequential(\n",
       "    (0): Residual(\n",
       "      (fn): ConvLayer(\n",
       "        (conv): Conv2d(1024, 1024, kernel_size=(9, 9), stride=(1, 1), padding=same, groups=1024)\n",
       "        (act_fn): GELU(approximate='none')\n",
       "        (bn): BatchNorm2d(1024, eps=1e-05, momentum=0.1, affine=True, track_running_stats=True)\n",
       "      )\n",
       "    )\n",
       "    (1): ConvLayer(\n",
       "      (conv): Conv2d(1024, 1024, kernel_size=(1, 1), stride=(1, 1))\n",
       "      (act_fn): GELU(approximate='none')\n",
       "      (bn): BatchNorm2d(1024, eps=1e-05, momentum=0.1, affine=True, track_running_stats=True)\n",
       "    )\n",
       "  )\n",
       "  (16): Sequential(\n",
       "    (0): Residual(\n",
       "      (fn): ConvLayer(\n",
       "        (conv): Conv2d(1024, 1024, kernel_size=(9, 9), stride=(1, 1), padding=same, groups=1024)\n",
       "        (act_fn): GELU(approximate='none')\n",
       "        (bn): BatchNorm2d(1024, eps=1e-05, momentum=0.1, affine=True, track_running_stats=True)\n",
       "      )\n",
       "    )\n",
       "    (1): ConvLayer(\n",
       "      (conv): Conv2d(1024, 1024, kernel_size=(1, 1), stride=(1, 1))\n",
       "      (act_fn): GELU(approximate='none')\n",
       "      (bn): BatchNorm2d(1024, eps=1e-05, momentum=0.1, affine=True, track_running_stats=True)\n",
       "    )\n",
       "  )\n",
       "  (17): Sequential(\n",
       "    (0): Residual(\n",
       "      (fn): ConvLayer(\n",
       "        (conv): Conv2d(1024, 1024, kernel_size=(9, 9), stride=(1, 1), padding=same, groups=1024)\n",
       "        (act_fn): GELU(approximate='none')\n",
       "        (bn): BatchNorm2d(1024, eps=1e-05, momentum=0.1, affine=True, track_running_stats=True)\n",
       "      )\n",
       "    )\n",
       "    (1): ConvLayer(\n",
       "      (conv): Conv2d(1024, 1024, kernel_size=(1, 1), stride=(1, 1))\n",
       "      (act_fn): GELU(approximate='none')\n",
       "      (bn): BatchNorm2d(1024, eps=1e-05, momentum=0.1, affine=True, track_running_stats=True)\n",
       "    )\n",
       "  )\n",
       "  (18): Sequential(\n",
       "    (0): Residual(\n",
       "      (fn): ConvLayer(\n",
       "        (conv): Conv2d(1024, 1024, kernel_size=(9, 9), stride=(1, 1), padding=same, groups=1024)\n",
       "        (act_fn): GELU(approximate='none')\n",
       "        (bn): BatchNorm2d(1024, eps=1e-05, momentum=0.1, affine=True, track_running_stats=True)\n",
       "      )\n",
       "    )\n",
       "    (1): ConvLayer(\n",
       "      (conv): Conv2d(1024, 1024, kernel_size=(1, 1), stride=(1, 1))\n",
       "      (act_fn): GELU(approximate='none')\n",
       "      (bn): BatchNorm2d(1024, eps=1e-05, momentum=0.1, affine=True, track_running_stats=True)\n",
       "    )\n",
       "  )\n",
       "  (19): Sequential(\n",
       "    (0): Residual(\n",
       "      (fn): ConvLayer(\n",
       "        (conv): Conv2d(1024, 1024, kernel_size=(9, 9), stride=(1, 1), padding=same, groups=1024)\n",
       "        (act_fn): GELU(approximate='none')\n",
       "        (bn): BatchNorm2d(1024, eps=1e-05, momentum=0.1, affine=True, track_running_stats=True)\n",
       "      )\n",
       "    )\n",
       "    (1): ConvLayer(\n",
       "      (conv): Conv2d(1024, 1024, kernel_size=(1, 1), stride=(1, 1))\n",
       "      (act_fn): GELU(approximate='none')\n",
       "      (bn): BatchNorm2d(1024, eps=1e-05, momentum=0.1, affine=True, track_running_stats=True)\n",
       "    )\n",
       "  )\n",
       "  (20): Sequential(\n",
       "    (0): Residual(\n",
       "      (fn): ConvLayer(\n",
       "        (conv): Conv2d(1024, 1024, kernel_size=(9, 9), stride=(1, 1), padding=same, groups=1024)\n",
       "        (act_fn): GELU(approximate='none')\n",
       "        (bn): BatchNorm2d(1024, eps=1e-05, momentum=0.1, affine=True, track_running_stats=True)\n",
       "      )\n",
       "    )\n",
       "    (1): ConvLayer(\n",
       "      (conv): Conv2d(1024, 1024, kernel_size=(1, 1), stride=(1, 1))\n",
       "      (act_fn): GELU(approximate='none')\n",
       "      (bn): BatchNorm2d(1024, eps=1e-05, momentum=0.1, affine=True, track_running_stats=True)\n",
       "    )\n",
       "  )\n",
       "  (21): AdaptiveAvgPool2d(output_size=(1, 1))\n",
       "  (22): Flatten(start_dim=1, end_dim=-1)\n",
       "  (23): Linear(in_features=1024, out_features=1000, bias=True)\n",
       ")"
      ]
     },
     "execution_count": null,
     "metadata": {},
     "output_type": "execute_result"
    }
   ],
   "source": [
    "#collapse_output\n",
    "convmixer_1024_20"
   ]
  },
  {
   "cell_type": "markdown",
   "id": "bd9c8aa5",
   "metadata": {},
   "source": [
    "## Change activation function."
   ]
  },
  {
   "cell_type": "code",
   "execution_count": null,
   "id": "cfd2ad23",
   "metadata": {},
   "outputs": [],
   "source": [
    "#hide\n",
    "from torch.nn import Mish"
   ]
  },
  {
   "cell_type": "markdown",
   "id": "5dafb03a",
   "metadata": {},
   "source": [
    "Lets create model with Mish (import it from torch) instead of GELU."
   ]
  },
  {
   "cell_type": "code",
   "execution_count": null,
   "id": "0f6823fb",
   "metadata": {},
   "outputs": [],
   "source": [
    "convmixer_1024_20 = ConvMixer(dim=1024, depth=20, act_fn=Mish())"
   ]
  },
  {
   "cell_type": "code",
   "execution_count": null,
   "id": "0a9a62a3",
   "metadata": {},
   "outputs": [
    {
     "data": {
      "text/plain": [
       "ConvLayer(\n",
       "  (conv): Conv2d(3, 1024, kernel_size=(7, 7), stride=(7, 7))\n",
       "  (act_fn): Mish()\n",
       "  (bn): BatchNorm2d(1024, eps=1e-05, momentum=0.1, affine=True, track_running_stats=True)\n",
       ")"
      ]
     },
     "execution_count": null,
     "metadata": {},
     "output_type": "execute_result"
    }
   ],
   "source": [
    "#collapse_output\n",
    "convmixer_1024_20[0]"
   ]
  },
  {
   "cell_type": "code",
   "execution_count": null,
   "id": "1515d9ca",
   "metadata": {},
   "outputs": [
    {
     "data": {
      "text/plain": [
       "Sequential(\n",
       "  (0): Residual(\n",
       "    (fn): ConvLayer(\n",
       "      (conv): Conv2d(1024, 1024, kernel_size=(9, 9), stride=(1, 1), padding=same, groups=1024)\n",
       "      (act_fn): Mish()\n",
       "      (bn): BatchNorm2d(1024, eps=1e-05, momentum=0.1, affine=True, track_running_stats=True)\n",
       "    )\n",
       "  )\n",
       "  (1): ConvLayer(\n",
       "    (conv): Conv2d(1024, 1024, kernel_size=(1, 1), stride=(1, 1))\n",
       "    (act_fn): Mish()\n",
       "    (bn): BatchNorm2d(1024, eps=1e-05, momentum=0.1, affine=True, track_running_stats=True)\n",
       "  )\n",
       ")"
      ]
     },
     "execution_count": null,
     "metadata": {},
     "output_type": "execute_result"
    }
   ],
   "source": [
    "#collapse_output\n",
    "convmixer_1024_20[1]"
   ]
  },
  {
   "cell_type": "markdown",
   "id": "445a4679",
   "metadata": {},
   "source": [
    "## Pre activation"
   ]
  },
  {
   "cell_type": "markdown",
   "id": "1f9e36e4",
   "metadata": {},
   "source": [
    "Activation function before convolution."
   ]
  },
  {
   "cell_type": "code",
   "execution_count": null,
   "id": "61ca4ef7",
   "metadata": {},
   "outputs": [],
   "source": [
    "convmixer_1024_20 = ConvMixer(dim=1024, depth=20, act_fn=Mish(), pre_act=True)"
   ]
  },
  {
   "cell_type": "code",
   "execution_count": null,
   "id": "c1dbe8fe",
   "metadata": {},
   "outputs": [
    {
     "data": {
      "text/plain": [
       "ConvLayer(\n",
       "  (conv): Conv2d(3, 1024, kernel_size=(7, 7), stride=(7, 7))\n",
       "  (act_fn): Mish()\n",
       "  (bn): BatchNorm2d(1024, eps=1e-05, momentum=0.1, affine=True, track_running_stats=True)\n",
       ")"
      ]
     },
     "execution_count": null,
     "metadata": {},
     "output_type": "execute_result"
    }
   ],
   "source": [
    "#collapse_output\n",
    "convmixer_1024_20[0]"
   ]
  },
  {
   "cell_type": "code",
   "execution_count": null,
   "id": "0865edf2",
   "metadata": {},
   "outputs": [
    {
     "data": {
      "text/plain": [
       "Sequential(\n",
       "  (0): Residual(\n",
       "    (fn): ConvLayer(\n",
       "      (act_fn): Mish()\n",
       "      (conv): Conv2d(1024, 1024, kernel_size=(9, 9), stride=(1, 1), padding=same, groups=1024)\n",
       "      (bn): BatchNorm2d(1024, eps=1e-05, momentum=0.1, affine=True, track_running_stats=True)\n",
       "    )\n",
       "  )\n",
       "  (1): ConvLayer(\n",
       "    (act_fn): Mish()\n",
       "    (conv): Conv2d(1024, 1024, kernel_size=(1, 1), stride=(1, 1))\n",
       "    (bn): BatchNorm2d(1024, eps=1e-05, momentum=0.1, affine=True, track_running_stats=True)\n",
       "  )\n",
       ")"
      ]
     },
     "execution_count": null,
     "metadata": {},
     "output_type": "execute_result"
    }
   ],
   "source": [
    "#collapse_output\n",
    "convmixer_1024_20[1]"
   ]
  },
  {
   "cell_type": "markdown",
   "id": "90b51303",
   "metadata": {},
   "source": [
    "## BatchNorm before activation."
   ]
  },
  {
   "cell_type": "code",
   "execution_count": null,
   "id": "33ba2d32",
   "metadata": {},
   "outputs": [],
   "source": [
    "convmixer_1024_20 = ConvMixer(dim=1024, depth=20, act_fn=Mish(), bn_1st=True)"
   ]
  },
  {
   "cell_type": "code",
   "execution_count": null,
   "id": "14611bf8",
   "metadata": {},
   "outputs": [
    {
     "data": {
      "text/plain": [
       "ConvLayer(\n",
       "  (conv): Conv2d(3, 1024, kernel_size=(7, 7), stride=(7, 7))\n",
       "  (bn): BatchNorm2d(1024, eps=1e-05, momentum=0.1, affine=True, track_running_stats=True)\n",
       "  (act_fn): Mish()\n",
       ")"
      ]
     },
     "execution_count": null,
     "metadata": {},
     "output_type": "execute_result"
    }
   ],
   "source": [
    "#collapse_output\n",
    "convmixer_1024_20[0]"
   ]
  },
  {
   "cell_type": "code",
   "execution_count": null,
   "id": "03d8d26b",
   "metadata": {},
   "outputs": [
    {
     "data": {
      "text/plain": [
       "Sequential(\n",
       "  (0): Residual(\n",
       "    (fn): ConvLayer(\n",
       "      (conv): Conv2d(1024, 1024, kernel_size=(9, 9), stride=(1, 1), padding=same, groups=1024)\n",
       "      (bn): BatchNorm2d(1024, eps=1e-05, momentum=0.1, affine=True, track_running_stats=True)\n",
       "      (act_fn): Mish()\n",
       "    )\n",
       "  )\n",
       "  (1): ConvLayer(\n",
       "    (conv): Conv2d(1024, 1024, kernel_size=(1, 1), stride=(1, 1))\n",
       "    (bn): BatchNorm2d(1024, eps=1e-05, momentum=0.1, affine=True, track_running_stats=True)\n",
       "    (act_fn): Mish()\n",
       "  )\n",
       ")"
      ]
     },
     "execution_count": null,
     "metadata": {},
     "output_type": "execute_result"
    }
   ],
   "source": [
    "#collapse_output\n",
    "convmixer_1024_20[1]"
   ]
  },
  {
   "cell_type": "code",
   "execution_count": null,
   "id": "dacb4659",
   "metadata": {},
   "outputs": [],
   "source": []
  }
 ],
 "metadata": {
  "authors": [
   {
    "github": "https://github.com/ayasyrev",
    "name": "Andrei Yasyrev"
   }
  ],
  "language_info": {
   "name": "python"
  }
 },
 "nbformat": 4,
 "nbformat_minor": 5
}
