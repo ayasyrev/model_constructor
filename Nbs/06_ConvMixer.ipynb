{
 "cells": [
  {
   "cell_type": "markdown",
   "id": "39e71c54",
   "metadata": {
    "ExecuteTime": {
     "end_time": "2021-10-11T08:45:24.102311Z",
     "start_time": "2021-10-11T08:45:24.098187Z"
    }
   },
   "source": [
    "# ConvMixer\n",
    "\n",
    "> ConvMixer model."
   ]
  },
  {
   "cell_type": "markdown",
   "id": "be09cd73",
   "metadata": {},
   "source": [
    "Implementation of ConvMixer.  \n",
    "ConvMixer - ICLR 2022 submission \"Patches Are All You Need?\".  \n",
    "https://openreview.net/forum?id=TVHS5Y4dNvM  \n",
    "Adopted from https://github.com/tmp-iclr/convmixer  \n",
    "Home for convmixer: [(GITHUB)](https://github.com/locuslab/convmixer)"
   ]
  },
  {
   "cell_type": "markdown",
   "id": "0be91e3c",
   "metadata": {},
   "source": [
    "Purpose of this implementation - possibilities for tune this model.  \n",
    "For example - play with activation function, initialization etc.  "
   ]
  },
  {
   "cell_type": "markdown",
   "id": "47aef1f7",
   "metadata": {},
   "source": [
    "## Import and create model"
   ]
  },
  {
   "cell_type": "markdown",
   "id": "6a8d3baf",
   "metadata": {},
   "source": [
    "Base class for model - ConvMixer, return pytorch Sequential model.  "
   ]
  },
  {
   "cell_type": "code",
   "execution_count": 1,
   "id": "7ab32c49",
   "metadata": {
    "ExecuteTime": {
     "end_time": "2021-10-11T09:22:23.242644Z",
     "start_time": "2021-10-11T09:22:22.711518Z"
    }
   },
   "outputs": [],
   "source": [
    "#hide\n",
    "import torch"
   ]
  },
  {
   "cell_type": "code",
   "execution_count": 2,
   "id": "85b7cf46",
   "metadata": {
    "ExecuteTime": {
     "end_time": "2021-10-11T09:22:23.248051Z",
     "start_time": "2021-10-11T09:22:23.243892Z"
    }
   },
   "outputs": [],
   "source": [
    "from model_constructor import ConvMixer"
   ]
  },
  {
   "cell_type": "markdown",
   "id": "b34caa7a",
   "metadata": {},
   "source": [
    "Now we can create convmixer model:"
   ]
  },
  {
   "cell_type": "code",
   "execution_count": 3,
   "id": "d9a89a76",
   "metadata": {
    "ExecuteTime": {
     "end_time": "2021-10-11T09:22:23.509634Z",
     "start_time": "2021-10-11T09:22:23.325021Z"
    }
   },
   "outputs": [],
   "source": [
    "convmixer_1024_20 = ConvMixer(dim=1024, depth=20)"
   ]
  },
  {
   "cell_type": "code",
   "execution_count": 4,
   "id": "bf63373e",
   "metadata": {
    "ExecuteTime": {
     "end_time": "2021-10-11T09:22:23.552502Z",
     "start_time": "2021-10-11T09:22:23.545002Z"
    }
   },
   "outputs": [
    {
     "data": {
      "text/plain": [
       "ConvMixer(\n",
       "  (0): ConvLayer(\n",
       "    (conv): Conv2d(3, 1024, kernel_size=(7, 7), stride=(7, 7))\n",
       "    (act_fn): GELU()\n",
       "    (bn): BatchNorm2d(1024, eps=1e-05, momentum=0.1, affine=True, track_running_stats=True)\n",
       "  )\n",
       "  (1): Sequential(\n",
       "    (0): Residual(\n",
       "      (fn): ConvLayer(\n",
       "        (conv): Conv2d(1024, 1024, kernel_size=(9, 9), stride=(1, 1), padding=same, groups=1024)\n",
       "        (act_fn): GELU()\n",
       "        (bn): BatchNorm2d(1024, eps=1e-05, momentum=0.1, affine=True, track_running_stats=True)\n",
       "      )\n",
       "    )\n",
       "    (1): ConvLayer(\n",
       "      (conv): Conv2d(1024, 1024, kernel_size=(1, 1), stride=(1, 1))\n",
       "      (act_fn): GELU()\n",
       "      (bn): BatchNorm2d(1024, eps=1e-05, momentum=0.1, affine=True, track_running_stats=True)\n",
       "    )\n",
       "  )\n",
       "  (2): Sequential(\n",
       "    (0): Residual(\n",
       "      (fn): ConvLayer(\n",
       "        (conv): Conv2d(1024, 1024, kernel_size=(9, 9), stride=(1, 1), padding=same, groups=1024)\n",
       "        (act_fn): GELU()\n",
       "        (bn): BatchNorm2d(1024, eps=1e-05, momentum=0.1, affine=True, track_running_stats=True)\n",
       "      )\n",
       "    )\n",
       "    (1): ConvLayer(\n",
       "      (conv): Conv2d(1024, 1024, kernel_size=(1, 1), stride=(1, 1))\n",
       "      (act_fn): GELU()\n",
       "      (bn): BatchNorm2d(1024, eps=1e-05, momentum=0.1, affine=True, track_running_stats=True)\n",
       "    )\n",
       "  )\n",
       "  (3): Sequential(\n",
       "    (0): Residual(\n",
       "      (fn): ConvLayer(\n",
       "        (conv): Conv2d(1024, 1024, kernel_size=(9, 9), stride=(1, 1), padding=same, groups=1024)\n",
       "        (act_fn): GELU()\n",
       "        (bn): BatchNorm2d(1024, eps=1e-05, momentum=0.1, affine=True, track_running_stats=True)\n",
       "      )\n",
       "    )\n",
       "    (1): ConvLayer(\n",
       "      (conv): Conv2d(1024, 1024, kernel_size=(1, 1), stride=(1, 1))\n",
       "      (act_fn): GELU()\n",
       "      (bn): BatchNorm2d(1024, eps=1e-05, momentum=0.1, affine=True, track_running_stats=True)\n",
       "    )\n",
       "  )\n",
       "  (4): Sequential(\n",
       "    (0): Residual(\n",
       "      (fn): ConvLayer(\n",
       "        (conv): Conv2d(1024, 1024, kernel_size=(9, 9), stride=(1, 1), padding=same, groups=1024)\n",
       "        (act_fn): GELU()\n",
       "        (bn): BatchNorm2d(1024, eps=1e-05, momentum=0.1, affine=True, track_running_stats=True)\n",
       "      )\n",
       "    )\n",
       "    (1): ConvLayer(\n",
       "      (conv): Conv2d(1024, 1024, kernel_size=(1, 1), stride=(1, 1))\n",
       "      (act_fn): GELU()\n",
       "      (bn): BatchNorm2d(1024, eps=1e-05, momentum=0.1, affine=True, track_running_stats=True)\n",
       "    )\n",
       "  )\n",
       "  (5): Sequential(\n",
       "    (0): Residual(\n",
       "      (fn): ConvLayer(\n",
       "        (conv): Conv2d(1024, 1024, kernel_size=(9, 9), stride=(1, 1), padding=same, groups=1024)\n",
       "        (act_fn): GELU()\n",
       "        (bn): BatchNorm2d(1024, eps=1e-05, momentum=0.1, affine=True, track_running_stats=True)\n",
       "      )\n",
       "    )\n",
       "    (1): ConvLayer(\n",
       "      (conv): Conv2d(1024, 1024, kernel_size=(1, 1), stride=(1, 1))\n",
       "      (act_fn): GELU()\n",
       "      (bn): BatchNorm2d(1024, eps=1e-05, momentum=0.1, affine=True, track_running_stats=True)\n",
       "    )\n",
       "  )\n",
       "  (6): Sequential(\n",
       "    (0): Residual(\n",
       "      (fn): ConvLayer(\n",
       "        (conv): Conv2d(1024, 1024, kernel_size=(9, 9), stride=(1, 1), padding=same, groups=1024)\n",
       "        (act_fn): GELU()\n",
       "        (bn): BatchNorm2d(1024, eps=1e-05, momentum=0.1, affine=True, track_running_stats=True)\n",
       "      )\n",
       "    )\n",
       "    (1): ConvLayer(\n",
       "      (conv): Conv2d(1024, 1024, kernel_size=(1, 1), stride=(1, 1))\n",
       "      (act_fn): GELU()\n",
       "      (bn): BatchNorm2d(1024, eps=1e-05, momentum=0.1, affine=True, track_running_stats=True)\n",
       "    )\n",
       "  )\n",
       "  (7): Sequential(\n",
       "    (0): Residual(\n",
       "      (fn): ConvLayer(\n",
       "        (conv): Conv2d(1024, 1024, kernel_size=(9, 9), stride=(1, 1), padding=same, groups=1024)\n",
       "        (act_fn): GELU()\n",
       "        (bn): BatchNorm2d(1024, eps=1e-05, momentum=0.1, affine=True, track_running_stats=True)\n",
       "      )\n",
       "    )\n",
       "    (1): ConvLayer(\n",
       "      (conv): Conv2d(1024, 1024, kernel_size=(1, 1), stride=(1, 1))\n",
       "      (act_fn): GELU()\n",
       "      (bn): BatchNorm2d(1024, eps=1e-05, momentum=0.1, affine=True, track_running_stats=True)\n",
       "    )\n",
       "  )\n",
       "  (8): Sequential(\n",
       "    (0): Residual(\n",
       "      (fn): ConvLayer(\n",
       "        (conv): Conv2d(1024, 1024, kernel_size=(9, 9), stride=(1, 1), padding=same, groups=1024)\n",
       "        (act_fn): GELU()\n",
       "        (bn): BatchNorm2d(1024, eps=1e-05, momentum=0.1, affine=True, track_running_stats=True)\n",
       "      )\n",
       "    )\n",
       "    (1): ConvLayer(\n",
       "      (conv): Conv2d(1024, 1024, kernel_size=(1, 1), stride=(1, 1))\n",
       "      (act_fn): GELU()\n",
       "      (bn): BatchNorm2d(1024, eps=1e-05, momentum=0.1, affine=True, track_running_stats=True)\n",
       "    )\n",
       "  )\n",
       "  (9): Sequential(\n",
       "    (0): Residual(\n",
       "      (fn): ConvLayer(\n",
       "        (conv): Conv2d(1024, 1024, kernel_size=(9, 9), stride=(1, 1), padding=same, groups=1024)\n",
       "        (act_fn): GELU()\n",
       "        (bn): BatchNorm2d(1024, eps=1e-05, momentum=0.1, affine=True, track_running_stats=True)\n",
       "      )\n",
       "    )\n",
       "    (1): ConvLayer(\n",
       "      (conv): Conv2d(1024, 1024, kernel_size=(1, 1), stride=(1, 1))\n",
       "      (act_fn): GELU()\n",
       "      (bn): BatchNorm2d(1024, eps=1e-05, momentum=0.1, affine=True, track_running_stats=True)\n",
       "    )\n",
       "  )\n",
       "  (10): Sequential(\n",
       "    (0): Residual(\n",
       "      (fn): ConvLayer(\n",
       "        (conv): Conv2d(1024, 1024, kernel_size=(9, 9), stride=(1, 1), padding=same, groups=1024)\n",
       "        (act_fn): GELU()\n",
       "        (bn): BatchNorm2d(1024, eps=1e-05, momentum=0.1, affine=True, track_running_stats=True)\n",
       "      )\n",
       "    )\n",
       "    (1): ConvLayer(\n",
       "      (conv): Conv2d(1024, 1024, kernel_size=(1, 1), stride=(1, 1))\n",
       "      (act_fn): GELU()\n",
       "      (bn): BatchNorm2d(1024, eps=1e-05, momentum=0.1, affine=True, track_running_stats=True)\n",
       "    )\n",
       "  )\n",
       "  (11): Sequential(\n",
       "    (0): Residual(\n",
       "      (fn): ConvLayer(\n",
       "        (conv): Conv2d(1024, 1024, kernel_size=(9, 9), stride=(1, 1), padding=same, groups=1024)\n",
       "        (act_fn): GELU()\n",
       "        (bn): BatchNorm2d(1024, eps=1e-05, momentum=0.1, affine=True, track_running_stats=True)\n",
       "      )\n",
       "    )\n",
       "    (1): ConvLayer(\n",
       "      (conv): Conv2d(1024, 1024, kernel_size=(1, 1), stride=(1, 1))\n",
       "      (act_fn): GELU()\n",
       "      (bn): BatchNorm2d(1024, eps=1e-05, momentum=0.1, affine=True, track_running_stats=True)\n",
       "    )\n",
       "  )\n",
       "  (12): Sequential(\n",
       "    (0): Residual(\n",
       "      (fn): ConvLayer(\n",
       "        (conv): Conv2d(1024, 1024, kernel_size=(9, 9), stride=(1, 1), padding=same, groups=1024)\n",
       "        (act_fn): GELU()\n",
       "        (bn): BatchNorm2d(1024, eps=1e-05, momentum=0.1, affine=True, track_running_stats=True)\n",
       "      )\n",
       "    )\n",
       "    (1): ConvLayer(\n",
       "      (conv): Conv2d(1024, 1024, kernel_size=(1, 1), stride=(1, 1))\n",
       "      (act_fn): GELU()\n",
       "      (bn): BatchNorm2d(1024, eps=1e-05, momentum=0.1, affine=True, track_running_stats=True)\n",
       "    )\n",
       "  )\n",
       "  (13): Sequential(\n",
       "    (0): Residual(\n",
       "      (fn): ConvLayer(\n",
       "        (conv): Conv2d(1024, 1024, kernel_size=(9, 9), stride=(1, 1), padding=same, groups=1024)\n",
       "        (act_fn): GELU()\n",
       "        (bn): BatchNorm2d(1024, eps=1e-05, momentum=0.1, affine=True, track_running_stats=True)\n",
       "      )\n",
       "    )\n",
       "    (1): ConvLayer(\n",
       "      (conv): Conv2d(1024, 1024, kernel_size=(1, 1), stride=(1, 1))\n",
       "      (act_fn): GELU()\n",
       "      (bn): BatchNorm2d(1024, eps=1e-05, momentum=0.1, affine=True, track_running_stats=True)\n",
       "    )\n",
       "  )\n",
       "  (14): Sequential(\n",
       "    (0): Residual(\n",
       "      (fn): ConvLayer(\n",
       "        (conv): Conv2d(1024, 1024, kernel_size=(9, 9), stride=(1, 1), padding=same, groups=1024)\n",
       "        (act_fn): GELU()\n",
       "        (bn): BatchNorm2d(1024, eps=1e-05, momentum=0.1, affine=True, track_running_stats=True)\n",
       "      )\n",
       "    )\n",
       "    (1): ConvLayer(\n",
       "      (conv): Conv2d(1024, 1024, kernel_size=(1, 1), stride=(1, 1))\n",
       "      (act_fn): GELU()\n",
       "      (bn): BatchNorm2d(1024, eps=1e-05, momentum=0.1, affine=True, track_running_stats=True)\n",
       "    )\n",
       "  )\n",
       "  (15): Sequential(\n",
       "    (0): Residual(\n",
       "      (fn): ConvLayer(\n",
       "        (conv): Conv2d(1024, 1024, kernel_size=(9, 9), stride=(1, 1), padding=same, groups=1024)\n",
       "        (act_fn): GELU()\n",
       "        (bn): BatchNorm2d(1024, eps=1e-05, momentum=0.1, affine=True, track_running_stats=True)\n",
       "      )\n",
       "    )\n",
       "    (1): ConvLayer(\n",
       "      (conv): Conv2d(1024, 1024, kernel_size=(1, 1), stride=(1, 1))\n",
       "      (act_fn): GELU()\n",
       "      (bn): BatchNorm2d(1024, eps=1e-05, momentum=0.1, affine=True, track_running_stats=True)\n",
       "    )\n",
       "  )\n",
       "  (16): Sequential(\n",
       "    (0): Residual(\n",
       "      (fn): ConvLayer(\n",
       "        (conv): Conv2d(1024, 1024, kernel_size=(9, 9), stride=(1, 1), padding=same, groups=1024)\n",
       "        (act_fn): GELU()\n",
       "        (bn): BatchNorm2d(1024, eps=1e-05, momentum=0.1, affine=True, track_running_stats=True)\n",
       "      )\n",
       "    )\n",
       "    (1): ConvLayer(\n",
       "      (conv): Conv2d(1024, 1024, kernel_size=(1, 1), stride=(1, 1))\n",
       "      (act_fn): GELU()\n",
       "      (bn): BatchNorm2d(1024, eps=1e-05, momentum=0.1, affine=True, track_running_stats=True)\n",
       "    )\n",
       "  )\n",
       "  (17): Sequential(\n",
       "    (0): Residual(\n",
       "      (fn): ConvLayer(\n",
       "        (conv): Conv2d(1024, 1024, kernel_size=(9, 9), stride=(1, 1), padding=same, groups=1024)\n",
       "        (act_fn): GELU()\n",
       "        (bn): BatchNorm2d(1024, eps=1e-05, momentum=0.1, affine=True, track_running_stats=True)\n",
       "      )\n",
       "    )\n",
       "    (1): ConvLayer(\n",
       "      (conv): Conv2d(1024, 1024, kernel_size=(1, 1), stride=(1, 1))\n",
       "      (act_fn): GELU()\n",
       "      (bn): BatchNorm2d(1024, eps=1e-05, momentum=0.1, affine=True, track_running_stats=True)\n",
       "    )\n",
       "  )\n",
       "  (18): Sequential(\n",
       "    (0): Residual(\n",
       "      (fn): ConvLayer(\n",
       "        (conv): Conv2d(1024, 1024, kernel_size=(9, 9), stride=(1, 1), padding=same, groups=1024)\n",
       "        (act_fn): GELU()\n",
       "        (bn): BatchNorm2d(1024, eps=1e-05, momentum=0.1, affine=True, track_running_stats=True)\n",
       "      )\n",
       "    )\n",
       "    (1): ConvLayer(\n",
       "      (conv): Conv2d(1024, 1024, kernel_size=(1, 1), stride=(1, 1))\n",
       "      (act_fn): GELU()\n",
       "      (bn): BatchNorm2d(1024, eps=1e-05, momentum=0.1, affine=True, track_running_stats=True)\n",
       "    )\n",
       "  )\n",
       "  (19): Sequential(\n",
       "    (0): Residual(\n",
       "      (fn): ConvLayer(\n",
       "        (conv): Conv2d(1024, 1024, kernel_size=(9, 9), stride=(1, 1), padding=same, groups=1024)\n",
       "        (act_fn): GELU()\n",
       "        (bn): BatchNorm2d(1024, eps=1e-05, momentum=0.1, affine=True, track_running_stats=True)\n",
       "      )\n",
       "    )\n",
       "    (1): ConvLayer(\n",
       "      (conv): Conv2d(1024, 1024, kernel_size=(1, 1), stride=(1, 1))\n",
       "      (act_fn): GELU()\n",
       "      (bn): BatchNorm2d(1024, eps=1e-05, momentum=0.1, affine=True, track_running_stats=True)\n",
       "    )\n",
       "  )\n",
       "  (20): Sequential(\n",
       "    (0): Residual(\n",
       "      (fn): ConvLayer(\n",
       "        (conv): Conv2d(1024, 1024, kernel_size=(9, 9), stride=(1, 1), padding=same, groups=1024)\n",
       "        (act_fn): GELU()\n",
       "        (bn): BatchNorm2d(1024, eps=1e-05, momentum=0.1, affine=True, track_running_stats=True)\n",
       "      )\n",
       "    )\n",
       "    (1): ConvLayer(\n",
       "      (conv): Conv2d(1024, 1024, kernel_size=(1, 1), stride=(1, 1))\n",
       "      (act_fn): GELU()\n",
       "      (bn): BatchNorm2d(1024, eps=1e-05, momentum=0.1, affine=True, track_running_stats=True)\n",
       "    )\n",
       "  )\n",
       "  (21): AdaptiveAvgPool2d(output_size=(1, 1))\n",
       "  (22): Flatten(start_dim=1, end_dim=-1)\n",
       "  (23): Linear(in_features=1024, out_features=1000, bias=True)\n",
       ")"
      ]
     },
     "execution_count": 4,
     "metadata": {},
     "output_type": "execute_result"
    }
   ],
   "source": [
    "#collapse_output\n",
    "convmixer_1024_20"
   ]
  },
  {
   "cell_type": "markdown",
   "id": "bd9c8aa5",
   "metadata": {},
   "source": [
    "## Change activation function."
   ]
  },
  {
   "cell_type": "code",
   "execution_count": 5,
   "id": "cfd2ad23",
   "metadata": {
    "ExecuteTime": {
     "end_time": "2021-10-11T09:22:25.305267Z",
     "start_time": "2021-10-11T09:22:25.300178Z"
    }
   },
   "outputs": [],
   "source": [
    "#hide\n",
    "from torch.nn import Mish"
   ]
  },
  {
   "cell_type": "markdown",
   "id": "5dafb03a",
   "metadata": {},
   "source": [
    "Lets create model with Mish (import it from torch) instead of GELU."
   ]
  },
  {
   "cell_type": "code",
   "execution_count": 6,
   "id": "0f6823fb",
   "metadata": {
    "ExecuteTime": {
     "end_time": "2021-10-11T09:22:25.946512Z",
     "start_time": "2021-10-11T09:22:25.797101Z"
    },
    "scrolled": true
   },
   "outputs": [],
   "source": [
    "convmixer_1024_20 = ConvMixer(dim=1024, depth=20, act_fn=Mish())"
   ]
  },
  {
   "cell_type": "code",
   "execution_count": 7,
   "id": "0a9a62a3",
   "metadata": {
    "ExecuteTime": {
     "end_time": "2021-10-11T09:22:26.016646Z",
     "start_time": "2021-10-11T09:22:26.011913Z"
    }
   },
   "outputs": [
    {
     "data": {
      "text/plain": [
       "ConvLayer(\n",
       "  (conv): Conv2d(3, 1024, kernel_size=(7, 7), stride=(7, 7))\n",
       "  (act_fn): Mish()\n",
       "  (bn): BatchNorm2d(1024, eps=1e-05, momentum=0.1, affine=True, track_running_stats=True)\n",
       ")"
      ]
     },
     "execution_count": 7,
     "metadata": {},
     "output_type": "execute_result"
    }
   ],
   "source": [
    "#collapse_output\n",
    "convmixer_1024_20[0]"
   ]
  },
  {
   "cell_type": "code",
   "execution_count": 8,
   "id": "1515d9ca",
   "metadata": {
    "ExecuteTime": {
     "end_time": "2021-10-11T09:22:26.653911Z",
     "start_time": "2021-10-11T09:22:26.648403Z"
    }
   },
   "outputs": [
    {
     "data": {
      "text/plain": [
       "Sequential(\n",
       "  (0): Residual(\n",
       "    (fn): ConvLayer(\n",
       "      (conv): Conv2d(1024, 1024, kernel_size=(9, 9), stride=(1, 1), padding=same, groups=1024)\n",
       "      (act_fn): Mish()\n",
       "      (bn): BatchNorm2d(1024, eps=1e-05, momentum=0.1, affine=True, track_running_stats=True)\n",
       "    )\n",
       "  )\n",
       "  (1): ConvLayer(\n",
       "    (conv): Conv2d(1024, 1024, kernel_size=(1, 1), stride=(1, 1))\n",
       "    (act_fn): Mish()\n",
       "    (bn): BatchNorm2d(1024, eps=1e-05, momentum=0.1, affine=True, track_running_stats=True)\n",
       "  )\n",
       ")"
      ]
     },
     "execution_count": 8,
     "metadata": {},
     "output_type": "execute_result"
    }
   ],
   "source": [
    "#collapse_output\n",
    "convmixer_1024_20[1]"
   ]
  },
  {
   "cell_type": "markdown",
   "id": "445a4679",
   "metadata": {},
   "source": [
    "## Pre activation"
   ]
  },
  {
   "cell_type": "markdown",
   "id": "1f9e36e4",
   "metadata": {},
   "source": [
    "Activation function before convolution."
   ]
  },
  {
   "cell_type": "code",
   "execution_count": 9,
   "id": "61ca4ef7",
   "metadata": {
    "ExecuteTime": {
     "end_time": "2021-10-11T09:22:28.240787Z",
     "start_time": "2021-10-11T09:22:28.084757Z"
    },
    "scrolled": true
   },
   "outputs": [],
   "source": [
    "convmixer_1024_20 = ConvMixer(dim=1024, depth=20, act_fn=Mish(), pre_act=True)"
   ]
  },
  {
   "cell_type": "code",
   "execution_count": 10,
   "id": "c1dbe8fe",
   "metadata": {
    "ExecuteTime": {
     "end_time": "2021-10-11T09:22:30.113818Z",
     "start_time": "2021-10-11T09:22:30.105365Z"
    }
   },
   "outputs": [
    {
     "data": {
      "text/plain": [
       "ConvLayer(\n",
       "  (conv): Conv2d(3, 1024, kernel_size=(7, 7), stride=(7, 7))\n",
       "  (act_fn): Mish()\n",
       "  (bn): BatchNorm2d(1024, eps=1e-05, momentum=0.1, affine=True, track_running_stats=True)\n",
       ")"
      ]
     },
     "execution_count": 10,
     "metadata": {},
     "output_type": "execute_result"
    }
   ],
   "source": [
    "#collapse_output\n",
    "convmixer_1024_20[0]"
   ]
  },
  {
   "cell_type": "code",
   "execution_count": 11,
   "id": "0865edf2",
   "metadata": {
    "ExecuteTime": {
     "end_time": "2021-10-11T09:22:30.368948Z",
     "start_time": "2021-10-11T09:22:30.360386Z"
    }
   },
   "outputs": [
    {
     "data": {
      "text/plain": [
       "Sequential(\n",
       "  (0): Residual(\n",
       "    (fn): ConvLayer(\n",
       "      (act_fn): Mish()\n",
       "      (conv): Conv2d(1024, 1024, kernel_size=(9, 9), stride=(1, 1), padding=same, groups=1024)\n",
       "      (bn): BatchNorm2d(1024, eps=1e-05, momentum=0.1, affine=True, track_running_stats=True)\n",
       "    )\n",
       "  )\n",
       "  (1): ConvLayer(\n",
       "    (act_fn): Mish()\n",
       "    (conv): Conv2d(1024, 1024, kernel_size=(1, 1), stride=(1, 1))\n",
       "    (bn): BatchNorm2d(1024, eps=1e-05, momentum=0.1, affine=True, track_running_stats=True)\n",
       "  )\n",
       ")"
      ]
     },
     "execution_count": 11,
     "metadata": {},
     "output_type": "execute_result"
    }
   ],
   "source": [
    "#collapse_output\n",
    "convmixer_1024_20[1]"
   ]
  },
  {
   "cell_type": "markdown",
   "id": "90b51303",
   "metadata": {},
   "source": [
    "## BatchNorm before activation."
   ]
  },
  {
   "cell_type": "code",
   "execution_count": 12,
   "id": "33ba2d32",
   "metadata": {
    "ExecuteTime": {
     "end_time": "2021-10-11T09:22:29.972638Z",
     "start_time": "2021-10-11T09:22:29.851227Z"
    },
    "scrolled": true
   },
   "outputs": [],
   "source": [
    "convmixer_1024_20 = ConvMixer(dim=1024, depth=20, act_fn=Mish(), bn_1st=True)"
   ]
  },
  {
   "cell_type": "code",
   "execution_count": 13,
   "id": "14611bf8",
   "metadata": {
    "ExecuteTime": {
     "end_time": "2021-10-11T09:22:30.113818Z",
     "start_time": "2021-10-11T09:22:30.105365Z"
    }
   },
   "outputs": [
    {
     "data": {
      "text/plain": [
       "ConvLayer(\n",
       "  (conv): Conv2d(3, 1024, kernel_size=(7, 7), stride=(7, 7))\n",
       "  (bn): BatchNorm2d(1024, eps=1e-05, momentum=0.1, affine=True, track_running_stats=True)\n",
       "  (act_fn): Mish()\n",
       ")"
      ]
     },
     "execution_count": 13,
     "metadata": {},
     "output_type": "execute_result"
    }
   ],
   "source": [
    "#collapse_output\n",
    "convmixer_1024_20[0]"
   ]
  },
  {
   "cell_type": "code",
   "execution_count": 14,
   "id": "03d8d26b",
   "metadata": {
    "ExecuteTime": {
     "end_time": "2021-10-11T09:22:30.368948Z",
     "start_time": "2021-10-11T09:22:30.360386Z"
    }
   },
   "outputs": [
    {
     "data": {
      "text/plain": [
       "Sequential(\n",
       "  (0): Residual(\n",
       "    (fn): ConvLayer(\n",
       "      (conv): Conv2d(1024, 1024, kernel_size=(9, 9), stride=(1, 1), padding=same, groups=1024)\n",
       "      (bn): BatchNorm2d(1024, eps=1e-05, momentum=0.1, affine=True, track_running_stats=True)\n",
       "      (act_fn): Mish()\n",
       "    )\n",
       "  )\n",
       "  (1): ConvLayer(\n",
       "    (conv): Conv2d(1024, 1024, kernel_size=(1, 1), stride=(1, 1))\n",
       "    (bn): BatchNorm2d(1024, eps=1e-05, momentum=0.1, affine=True, track_running_stats=True)\n",
       "    (act_fn): Mish()\n",
       "  )\n",
       ")"
      ]
     },
     "execution_count": 14,
     "metadata": {},
     "output_type": "execute_result"
    }
   ],
   "source": [
    "#collapse_output\n",
    "convmixer_1024_20[1]"
   ]
  }
 ],
 "metadata": {
  "interpreter": {
   "hash": "00caef409dd3eda0637dae1b4e57ec87cdad0fb75342334dd1d5d7d54b26108f"
  },
  "kernelspec": {
   "display_name": "Python 3.10.4 ('p310_pt111')",
   "language": "python",
   "name": "python3"
  },
  "language_info": {
   "codemirror_mode": {
    "name": "ipython",
    "version": 3
   },
   "file_extension": ".py",
   "mimetype": "text/x-python",
   "name": "python",
   "nbconvert_exporter": "python",
   "pygments_lexer": "ipython3",
   "version": "3.10.4"
  },
  "toc": {
   "base_numbering": 1,
   "nav_menu": {},
   "number_sections": true,
   "sideBar": true,
   "skip_h1_title": false,
   "title_cell": "Table of Contents",
   "title_sidebar": "Contents",
   "toc_cell": false,
   "toc_position": {},
   "toc_section_display": true,
   "toc_window_display": true
  }
 },
 "nbformat": 4,
 "nbformat_minor": 5
}
