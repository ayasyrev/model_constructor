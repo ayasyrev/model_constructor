{
 "cells": [
  {
   "cell_type": "markdown",
   "id": "39e71c54",
   "metadata": {
    "ExecuteTime": {
     "end_time": "2021-10-11T08:45:24.102311Z",
     "start_time": "2021-10-11T08:45:24.098187Z"
    }
   },
   "source": [
    "# ConvMixer\n",
    "\n",
    "> ConvMixer model."
   ]
  },
  {
   "cell_type": "markdown",
   "id": "be09cd73",
   "metadata": {},
   "source": [
    "Implementation of ConvMixer.  \n",
    "ConvMixer - ICLR 2022 submission \"Patches Are All You Need?\".  \n",
    "https://openreview.net/forum?id=TVHS5Y4dNvM  \n",
    "Adopted from https://github.com/tmp-iclr/convmixer  "
   ]
  },
  {
   "cell_type": "markdown",
   "id": "0be91e3c",
   "metadata": {},
   "source": [
    "Purpose of this implementation - possibilites for tune this model.  \n",
    "For example - play with activation function, initialization etc.  "
   ]
  },
  {
   "cell_type": "markdown",
   "id": "47aef1f7",
   "metadata": {},
   "source": [
    "## Import and create model"
   ]
  },
  {
   "cell_type": "markdown",
   "id": "6a8d3baf",
   "metadata": {},
   "source": [
    "Base class for model - ConvMixer, return pytorch Sequential model.  "
   ]
  },
  {
   "cell_type": "code",
   "execution_count": 5,
   "id": "7ab32c49",
   "metadata": {
    "ExecuteTime": {
     "end_time": "2021-10-11T09:06:02.382341Z",
     "start_time": "2021-10-11T09:06:02.377068Z"
    }
   },
   "outputs": [],
   "source": [
    "#hide\n",
    "import torch"
   ]
  },
  {
   "cell_type": "code",
   "execution_count": 1,
   "id": "85b7cf46",
   "metadata": {
    "ExecuteTime": {
     "end_time": "2021-10-11T09:04:45.772148Z",
     "start_time": "2021-10-11T09:04:45.224610Z"
    }
   },
   "outputs": [],
   "source": [
    "from model_constructor import ConvMixer"
   ]
  },
  {
   "cell_type": "markdown",
   "id": "b34caa7a",
   "metadata": {},
   "source": [
    "Now we can create convmixer model:"
   ]
  },
  {
   "cell_type": "code",
   "execution_count": 2,
   "id": "d9a89a76",
   "metadata": {
    "ExecuteTime": {
     "end_time": "2021-10-11T09:04:45.923452Z",
     "start_time": "2021-10-11T09:04:45.773437Z"
    }
   },
   "outputs": [],
   "source": [
    "convmixer_1024_20 = ConvMixer(dim=1024, depth=20)"
   ]
  },
  {
   "cell_type": "code",
   "execution_count": 3,
   "id": "bf63373e",
   "metadata": {
    "ExecuteTime": {
     "end_time": "2021-10-11T09:04:46.226704Z",
     "start_time": "2021-10-11T09:04:46.195878Z"
    }
   },
   "outputs": [
    {
     "data": {
      "text/plain": [
       "ConvMixer(\n",
       "  (0): ConvLayer(\n",
       "    (conv): Conv2d(3, 1024, kernel_size=(7, 7), stride=(7, 7))\n",
       "    (act_fn): GELU()\n",
       "    (bn): BatchNorm2d(1024, eps=1e-05, momentum=0.1, affine=True, track_running_stats=True)\n",
       "  )\n",
       "  (1): Sequential(\n",
       "    (0): Residual(\n",
       "      (fn): ConvLayer(\n",
       "        (conv): Conv2d(1024, 1024, kernel_size=(9, 9), stride=(1, 1), padding=same, groups=1024)\n",
       "        (act_fn): GELU()\n",
       "        (bn): BatchNorm2d(1024, eps=1e-05, momentum=0.1, affine=True, track_running_stats=True)\n",
       "      )\n",
       "    )\n",
       "    (1): ConvLayer(\n",
       "      (conv): Conv2d(1024, 1024, kernel_size=(1, 1), stride=(1, 1))\n",
       "      (act_fn): GELU()\n",
       "      (bn): BatchNorm2d(1024, eps=1e-05, momentum=0.1, affine=True, track_running_stats=True)\n",
       "    )\n",
       "  )\n",
       "  (2): Sequential(\n",
       "    (0): Residual(\n",
       "      (fn): ConvLayer(\n",
       "        (conv): Conv2d(1024, 1024, kernel_size=(9, 9), stride=(1, 1), padding=same, groups=1024)\n",
       "        (act_fn): GELU()\n",
       "        (bn): BatchNorm2d(1024, eps=1e-05, momentum=0.1, affine=True, track_running_stats=True)\n",
       "      )\n",
       "    )\n",
       "    (1): ConvLayer(\n",
       "      (conv): Conv2d(1024, 1024, kernel_size=(1, 1), stride=(1, 1))\n",
       "      (act_fn): GELU()\n",
       "      (bn): BatchNorm2d(1024, eps=1e-05, momentum=0.1, affine=True, track_running_stats=True)\n",
       "    )\n",
       "  )\n",
       "  (3): Sequential(\n",
       "    (0): Residual(\n",
       "      (fn): ConvLayer(\n",
       "        (conv): Conv2d(1024, 1024, kernel_size=(9, 9), stride=(1, 1), padding=same, groups=1024)\n",
       "        (act_fn): GELU()\n",
       "        (bn): BatchNorm2d(1024, eps=1e-05, momentum=0.1, affine=True, track_running_stats=True)\n",
       "      )\n",
       "    )\n",
       "    (1): ConvLayer(\n",
       "      (conv): Conv2d(1024, 1024, kernel_size=(1, 1), stride=(1, 1))\n",
       "      (act_fn): GELU()\n",
       "      (bn): BatchNorm2d(1024, eps=1e-05, momentum=0.1, affine=True, track_running_stats=True)\n",
       "    )\n",
       "  )\n",
       "  (4): Sequential(\n",
       "    (0): Residual(\n",
       "      (fn): ConvLayer(\n",
       "        (conv): Conv2d(1024, 1024, kernel_size=(9, 9), stride=(1, 1), padding=same, groups=1024)\n",
       "        (act_fn): GELU()\n",
       "        (bn): BatchNorm2d(1024, eps=1e-05, momentum=0.1, affine=True, track_running_stats=True)\n",
       "      )\n",
       "    )\n",
       "    (1): ConvLayer(\n",
       "      (conv): Conv2d(1024, 1024, kernel_size=(1, 1), stride=(1, 1))\n",
       "      (act_fn): GELU()\n",
       "      (bn): BatchNorm2d(1024, eps=1e-05, momentum=0.1, affine=True, track_running_stats=True)\n",
       "    )\n",
       "  )\n",
       "  (5): Sequential(\n",
       "    (0): Residual(\n",
       "      (fn): ConvLayer(\n",
       "        (conv): Conv2d(1024, 1024, kernel_size=(9, 9), stride=(1, 1), padding=same, groups=1024)\n",
       "        (act_fn): GELU()\n",
       "        (bn): BatchNorm2d(1024, eps=1e-05, momentum=0.1, affine=True, track_running_stats=True)\n",
       "      )\n",
       "    )\n",
       "    (1): ConvLayer(\n",
       "      (conv): Conv2d(1024, 1024, kernel_size=(1, 1), stride=(1, 1))\n",
       "      (act_fn): GELU()\n",
       "      (bn): BatchNorm2d(1024, eps=1e-05, momentum=0.1, affine=True, track_running_stats=True)\n",
       "    )\n",
       "  )\n",
       "  (6): Sequential(\n",
       "    (0): Residual(\n",
       "      (fn): ConvLayer(\n",
       "        (conv): Conv2d(1024, 1024, kernel_size=(9, 9), stride=(1, 1), padding=same, groups=1024)\n",
       "        (act_fn): GELU()\n",
       "        (bn): BatchNorm2d(1024, eps=1e-05, momentum=0.1, affine=True, track_running_stats=True)\n",
       "      )\n",
       "    )\n",
       "    (1): ConvLayer(\n",
       "      (conv): Conv2d(1024, 1024, kernel_size=(1, 1), stride=(1, 1))\n",
       "      (act_fn): GELU()\n",
       "      (bn): BatchNorm2d(1024, eps=1e-05, momentum=0.1, affine=True, track_running_stats=True)\n",
       "    )\n",
       "  )\n",
       "  (7): Sequential(\n",
       "    (0): Residual(\n",
       "      (fn): ConvLayer(\n",
       "        (conv): Conv2d(1024, 1024, kernel_size=(9, 9), stride=(1, 1), padding=same, groups=1024)\n",
       "        (act_fn): GELU()\n",
       "        (bn): BatchNorm2d(1024, eps=1e-05, momentum=0.1, affine=True, track_running_stats=True)\n",
       "      )\n",
       "    )\n",
       "    (1): ConvLayer(\n",
       "      (conv): Conv2d(1024, 1024, kernel_size=(1, 1), stride=(1, 1))\n",
       "      (act_fn): GELU()\n",
       "      (bn): BatchNorm2d(1024, eps=1e-05, momentum=0.1, affine=True, track_running_stats=True)\n",
       "    )\n",
       "  )\n",
       "  (8): Sequential(\n",
       "    (0): Residual(\n",
       "      (fn): ConvLayer(\n",
       "        (conv): Conv2d(1024, 1024, kernel_size=(9, 9), stride=(1, 1), padding=same, groups=1024)\n",
       "        (act_fn): GELU()\n",
       "        (bn): BatchNorm2d(1024, eps=1e-05, momentum=0.1, affine=True, track_running_stats=True)\n",
       "      )\n",
       "    )\n",
       "    (1): ConvLayer(\n",
       "      (conv): Conv2d(1024, 1024, kernel_size=(1, 1), stride=(1, 1))\n",
       "      (act_fn): GELU()\n",
       "      (bn): BatchNorm2d(1024, eps=1e-05, momentum=0.1, affine=True, track_running_stats=True)\n",
       "    )\n",
       "  )\n",
       "  (9): Sequential(\n",
       "    (0): Residual(\n",
       "      (fn): ConvLayer(\n",
       "        (conv): Conv2d(1024, 1024, kernel_size=(9, 9), stride=(1, 1), padding=same, groups=1024)\n",
       "        (act_fn): GELU()\n",
       "        (bn): BatchNorm2d(1024, eps=1e-05, momentum=0.1, affine=True, track_running_stats=True)\n",
       "      )\n",
       "    )\n",
       "    (1): ConvLayer(\n",
       "      (conv): Conv2d(1024, 1024, kernel_size=(1, 1), stride=(1, 1))\n",
       "      (act_fn): GELU()\n",
       "      (bn): BatchNorm2d(1024, eps=1e-05, momentum=0.1, affine=True, track_running_stats=True)\n",
       "    )\n",
       "  )\n",
       "  (10): Sequential(\n",
       "    (0): Residual(\n",
       "      (fn): ConvLayer(\n",
       "        (conv): Conv2d(1024, 1024, kernel_size=(9, 9), stride=(1, 1), padding=same, groups=1024)\n",
       "        (act_fn): GELU()\n",
       "        (bn): BatchNorm2d(1024, eps=1e-05, momentum=0.1, affine=True, track_running_stats=True)\n",
       "      )\n",
       "    )\n",
       "    (1): ConvLayer(\n",
       "      (conv): Conv2d(1024, 1024, kernel_size=(1, 1), stride=(1, 1))\n",
       "      (act_fn): GELU()\n",
       "      (bn): BatchNorm2d(1024, eps=1e-05, momentum=0.1, affine=True, track_running_stats=True)\n",
       "    )\n",
       "  )\n",
       "  (11): Sequential(\n",
       "    (0): Residual(\n",
       "      (fn): ConvLayer(\n",
       "        (conv): Conv2d(1024, 1024, kernel_size=(9, 9), stride=(1, 1), padding=same, groups=1024)\n",
       "        (act_fn): GELU()\n",
       "        (bn): BatchNorm2d(1024, eps=1e-05, momentum=0.1, affine=True, track_running_stats=True)\n",
       "      )\n",
       "    )\n",
       "    (1): ConvLayer(\n",
       "      (conv): Conv2d(1024, 1024, kernel_size=(1, 1), stride=(1, 1))\n",
       "      (act_fn): GELU()\n",
       "      (bn): BatchNorm2d(1024, eps=1e-05, momentum=0.1, affine=True, track_running_stats=True)\n",
       "    )\n",
       "  )\n",
       "  (12): Sequential(\n",
       "    (0): Residual(\n",
       "      (fn): ConvLayer(\n",
       "        (conv): Conv2d(1024, 1024, kernel_size=(9, 9), stride=(1, 1), padding=same, groups=1024)\n",
       "        (act_fn): GELU()\n",
       "        (bn): BatchNorm2d(1024, eps=1e-05, momentum=0.1, affine=True, track_running_stats=True)\n",
       "      )\n",
       "    )\n",
       "    (1): ConvLayer(\n",
       "      (conv): Conv2d(1024, 1024, kernel_size=(1, 1), stride=(1, 1))\n",
       "      (act_fn): GELU()\n",
       "      (bn): BatchNorm2d(1024, eps=1e-05, momentum=0.1, affine=True, track_running_stats=True)\n",
       "    )\n",
       "  )\n",
       "  (13): Sequential(\n",
       "    (0): Residual(\n",
       "      (fn): ConvLayer(\n",
       "        (conv): Conv2d(1024, 1024, kernel_size=(9, 9), stride=(1, 1), padding=same, groups=1024)\n",
       "        (act_fn): GELU()\n",
       "        (bn): BatchNorm2d(1024, eps=1e-05, momentum=0.1, affine=True, track_running_stats=True)\n",
       "      )\n",
       "    )\n",
       "    (1): ConvLayer(\n",
       "      (conv): Conv2d(1024, 1024, kernel_size=(1, 1), stride=(1, 1))\n",
       "      (act_fn): GELU()\n",
       "      (bn): BatchNorm2d(1024, eps=1e-05, momentum=0.1, affine=True, track_running_stats=True)\n",
       "    )\n",
       "  )\n",
       "  (14): Sequential(\n",
       "    (0): Residual(\n",
       "      (fn): ConvLayer(\n",
       "        (conv): Conv2d(1024, 1024, kernel_size=(9, 9), stride=(1, 1), padding=same, groups=1024)\n",
       "        (act_fn): GELU()\n",
       "        (bn): BatchNorm2d(1024, eps=1e-05, momentum=0.1, affine=True, track_running_stats=True)\n",
       "      )\n",
       "    )\n",
       "    (1): ConvLayer(\n",
       "      (conv): Conv2d(1024, 1024, kernel_size=(1, 1), stride=(1, 1))\n",
       "      (act_fn): GELU()\n",
       "      (bn): BatchNorm2d(1024, eps=1e-05, momentum=0.1, affine=True, track_running_stats=True)\n",
       "    )\n",
       "  )\n",
       "  (15): Sequential(\n",
       "    (0): Residual(\n",
       "      (fn): ConvLayer(\n",
       "        (conv): Conv2d(1024, 1024, kernel_size=(9, 9), stride=(1, 1), padding=same, groups=1024)\n",
       "        (act_fn): GELU()\n",
       "        (bn): BatchNorm2d(1024, eps=1e-05, momentum=0.1, affine=True, track_running_stats=True)\n",
       "      )\n",
       "    )\n",
       "    (1): ConvLayer(\n",
       "      (conv): Conv2d(1024, 1024, kernel_size=(1, 1), stride=(1, 1))\n",
       "      (act_fn): GELU()\n",
       "      (bn): BatchNorm2d(1024, eps=1e-05, momentum=0.1, affine=True, track_running_stats=True)\n",
       "    )\n",
       "  )\n",
       "  (16): Sequential(\n",
       "    (0): Residual(\n",
       "      (fn): ConvLayer(\n",
       "        (conv): Conv2d(1024, 1024, kernel_size=(9, 9), stride=(1, 1), padding=same, groups=1024)\n",
       "        (act_fn): GELU()\n",
       "        (bn): BatchNorm2d(1024, eps=1e-05, momentum=0.1, affine=True, track_running_stats=True)\n",
       "      )\n",
       "    )\n",
       "    (1): ConvLayer(\n",
       "      (conv): Conv2d(1024, 1024, kernel_size=(1, 1), stride=(1, 1))\n",
       "      (act_fn): GELU()\n",
       "      (bn): BatchNorm2d(1024, eps=1e-05, momentum=0.1, affine=True, track_running_stats=True)\n",
       "    )\n",
       "  )\n",
       "  (17): Sequential(\n",
       "    (0): Residual(\n",
       "      (fn): ConvLayer(\n",
       "        (conv): Conv2d(1024, 1024, kernel_size=(9, 9), stride=(1, 1), padding=same, groups=1024)\n",
       "        (act_fn): GELU()\n",
       "        (bn): BatchNorm2d(1024, eps=1e-05, momentum=0.1, affine=True, track_running_stats=True)\n",
       "      )\n",
       "    )\n",
       "    (1): ConvLayer(\n",
       "      (conv): Conv2d(1024, 1024, kernel_size=(1, 1), stride=(1, 1))\n",
       "      (act_fn): GELU()\n",
       "      (bn): BatchNorm2d(1024, eps=1e-05, momentum=0.1, affine=True, track_running_stats=True)\n",
       "    )\n",
       "  )\n",
       "  (18): Sequential(\n",
       "    (0): Residual(\n",
       "      (fn): ConvLayer(\n",
       "        (conv): Conv2d(1024, 1024, kernel_size=(9, 9), stride=(1, 1), padding=same, groups=1024)\n",
       "        (act_fn): GELU()\n",
       "        (bn): BatchNorm2d(1024, eps=1e-05, momentum=0.1, affine=True, track_running_stats=True)\n",
       "      )\n",
       "    )\n",
       "    (1): ConvLayer(\n",
       "      (conv): Conv2d(1024, 1024, kernel_size=(1, 1), stride=(1, 1))\n",
       "      (act_fn): GELU()\n",
       "      (bn): BatchNorm2d(1024, eps=1e-05, momentum=0.1, affine=True, track_running_stats=True)\n",
       "    )\n",
       "  )\n",
       "  (19): Sequential(\n",
       "    (0): Residual(\n",
       "      (fn): ConvLayer(\n",
       "        (conv): Conv2d(1024, 1024, kernel_size=(9, 9), stride=(1, 1), padding=same, groups=1024)\n",
       "        (act_fn): GELU()\n",
       "        (bn): BatchNorm2d(1024, eps=1e-05, momentum=0.1, affine=True, track_running_stats=True)\n",
       "      )\n",
       "    )\n",
       "    (1): ConvLayer(\n",
       "      (conv): Conv2d(1024, 1024, kernel_size=(1, 1), stride=(1, 1))\n",
       "      (act_fn): GELU()\n",
       "      (bn): BatchNorm2d(1024, eps=1e-05, momentum=0.1, affine=True, track_running_stats=True)\n",
       "    )\n",
       "  )\n",
       "  (20): Sequential(\n",
       "    (0): Residual(\n",
       "      (fn): ConvLayer(\n",
       "        (conv): Conv2d(1024, 1024, kernel_size=(9, 9), stride=(1, 1), padding=same, groups=1024)\n",
       "        (act_fn): GELU()\n",
       "        (bn): BatchNorm2d(1024, eps=1e-05, momentum=0.1, affine=True, track_running_stats=True)\n",
       "      )\n",
       "    )\n",
       "    (1): ConvLayer(\n",
       "      (conv): Conv2d(1024, 1024, kernel_size=(1, 1), stride=(1, 1))\n",
       "      (act_fn): GELU()\n",
       "      (bn): BatchNorm2d(1024, eps=1e-05, momentum=0.1, affine=True, track_running_stats=True)\n",
       "    )\n",
       "  )\n",
       "  (21): AdaptiveAvgPool2d(output_size=(1, 1))\n",
       "  (22): Flatten(start_dim=1, end_dim=-1)\n",
       "  (23): Linear(in_features=1024, out_features=1000, bias=True)\n",
       ")"
      ]
     },
     "execution_count": 3,
     "metadata": {},
     "output_type": "execute_result"
    }
   ],
   "source": [
    "#collapse_#collapse_output\n",
    "convmixer_1024_20"
   ]
  },
  {
   "cell_type": "code",
   "execution_count": 11,
   "id": "e0af0485",
   "metadata": {
    "ExecuteTime": {
     "end_time": "2021-10-11T09:08:16.887806Z",
     "start_time": "2021-10-11T09:08:16.876655Z"
    }
   },
   "outputs": [
    {
     "data": {
      "text/plain": [
       "ConvMixer(\n",
       "  (0): ConvLayer(\n",
       "    (conv): Conv2d(3, 128, kernel_size=(7, 7), stride=(7, 7))\n",
       "    (act_fn): GELU()\n",
       "    (bn): BatchNorm2d(128, eps=1e-05, momentum=0.1, affine=True, track_running_stats=True)\n",
       "  )\n",
       "  (1): Sequential(\n",
       "    (0): Residual(\n",
       "      (fn): ConvLayer(\n",
       "        (conv): Conv2d(128, 128, kernel_size=(9, 9), stride=(1, 1), padding=same, groups=128)\n",
       "        (act_fn): GELU()\n",
       "        (bn): BatchNorm2d(128, eps=1e-05, momentum=0.1, affine=True, track_running_stats=True)\n",
       "      )\n",
       "    )\n",
       "    (1): ConvLayer(\n",
       "      (conv): Conv2d(128, 128, kernel_size=(1, 1), stride=(1, 1))\n",
       "      (act_fn): GELU()\n",
       "      (bn): BatchNorm2d(128, eps=1e-05, momentum=0.1, affine=True, track_running_stats=True)\n",
       "    )\n",
       "  )\n",
       "  (2): Sequential(\n",
       "    (0): Residual(\n",
       "      (fn): ConvLayer(\n",
       "        (conv): Conv2d(128, 128, kernel_size=(9, 9), stride=(1, 1), padding=same, groups=128)\n",
       "        (act_fn): GELU()\n",
       "        (bn): BatchNorm2d(128, eps=1e-05, momentum=0.1, affine=True, track_running_stats=True)\n",
       "      )\n",
       "    )\n",
       "    (1): ConvLayer(\n",
       "      (conv): Conv2d(128, 128, kernel_size=(1, 1), stride=(1, 1))\n",
       "      (act_fn): GELU()\n",
       "      (bn): BatchNorm2d(128, eps=1e-05, momentum=0.1, affine=True, track_running_stats=True)\n",
       "    )\n",
       "  )\n",
       "  (3): Sequential(\n",
       "    (0): Residual(\n",
       "      (fn): ConvLayer(\n",
       "        (conv): Conv2d(128, 128, kernel_size=(9, 9), stride=(1, 1), padding=same, groups=128)\n",
       "        (act_fn): GELU()\n",
       "        (bn): BatchNorm2d(128, eps=1e-05, momentum=0.1, affine=True, track_running_stats=True)\n",
       "      )\n",
       "    )\n",
       "    (1): ConvLayer(\n",
       "      (conv): Conv2d(128, 128, kernel_size=(1, 1), stride=(1, 1))\n",
       "      (act_fn): GELU()\n",
       "      (bn): BatchNorm2d(128, eps=1e-05, momentum=0.1, affine=True, track_running_stats=True)\n",
       "    )\n",
       "  )\n",
       "  (4): Sequential(\n",
       "    (0): Residual(\n",
       "      (fn): ConvLayer(\n",
       "        (conv): Conv2d(128, 128, kernel_size=(9, 9), stride=(1, 1), padding=same, groups=128)\n",
       "        (act_fn): GELU()\n",
       "        (bn): BatchNorm2d(128, eps=1e-05, momentum=0.1, affine=True, track_running_stats=True)\n",
       "      )\n",
       "    )\n",
       "    (1): ConvLayer(\n",
       "      (conv): Conv2d(128, 128, kernel_size=(1, 1), stride=(1, 1))\n",
       "      (act_fn): GELU()\n",
       "      (bn): BatchNorm2d(128, eps=1e-05, momentum=0.1, affine=True, track_running_stats=True)\n",
       "    )\n",
       "  )\n",
       "  (5): Sequential(\n",
       "    (0): Residual(\n",
       "      (fn): ConvLayer(\n",
       "        (conv): Conv2d(128, 128, kernel_size=(9, 9), stride=(1, 1), padding=same, groups=128)\n",
       "        (act_fn): GELU()\n",
       "        (bn): BatchNorm2d(128, eps=1e-05, momentum=0.1, affine=True, track_running_stats=True)\n",
       "      )\n",
       "    )\n",
       "    (1): ConvLayer(\n",
       "      (conv): Conv2d(128, 128, kernel_size=(1, 1), stride=(1, 1))\n",
       "      (act_fn): GELU()\n",
       "      (bn): BatchNorm2d(128, eps=1e-05, momentum=0.1, affine=True, track_running_stats=True)\n",
       "    )\n",
       "  )\n",
       "  (6): Sequential(\n",
       "    (0): Residual(\n",
       "      (fn): ConvLayer(\n",
       "        (conv): Conv2d(128, 128, kernel_size=(9, 9), stride=(1, 1), padding=same, groups=128)\n",
       "        (act_fn): GELU()\n",
       "        (bn): BatchNorm2d(128, eps=1e-05, momentum=0.1, affine=True, track_running_stats=True)\n",
       "      )\n",
       "    )\n",
       "    (1): ConvLayer(\n",
       "      (conv): Conv2d(128, 128, kernel_size=(1, 1), stride=(1, 1))\n",
       "      (act_fn): GELU()\n",
       "      (bn): BatchNorm2d(128, eps=1e-05, momentum=0.1, affine=True, track_running_stats=True)\n",
       "    )\n",
       "  )\n",
       "  (7): Sequential(\n",
       "    (0): Residual(\n",
       "      (fn): ConvLayer(\n",
       "        (conv): Conv2d(128, 128, kernel_size=(9, 9), stride=(1, 1), padding=same, groups=128)\n",
       "        (act_fn): GELU()\n",
       "        (bn): BatchNorm2d(128, eps=1e-05, momentum=0.1, affine=True, track_running_stats=True)\n",
       "      )\n",
       "    )\n",
       "    (1): ConvLayer(\n",
       "      (conv): Conv2d(128, 128, kernel_size=(1, 1), stride=(1, 1))\n",
       "      (act_fn): GELU()\n",
       "      (bn): BatchNorm2d(128, eps=1e-05, momentum=0.1, affine=True, track_running_stats=True)\n",
       "    )\n",
       "  )\n",
       "  (8): Sequential(\n",
       "    (0): Residual(\n",
       "      (fn): ConvLayer(\n",
       "        (conv): Conv2d(128, 128, kernel_size=(9, 9), stride=(1, 1), padding=same, groups=128)\n",
       "        (act_fn): GELU()\n",
       "        (bn): BatchNorm2d(128, eps=1e-05, momentum=0.1, affine=True, track_running_stats=True)\n",
       "      )\n",
       "    )\n",
       "    (1): ConvLayer(\n",
       "      (conv): Conv2d(128, 128, kernel_size=(1, 1), stride=(1, 1))\n",
       "      (act_fn): GELU()\n",
       "      (bn): BatchNorm2d(128, eps=1e-05, momentum=0.1, affine=True, track_running_stats=True)\n",
       "    )\n",
       "  )\n",
       "  (9): AdaptiveAvgPool2d(output_size=(1, 1))\n",
       "  (10): Flatten(start_dim=1, end_dim=-1)\n",
       "  (11): Linear(in_features=128, out_features=1000, bias=True)\n",
       ")"
      ]
     },
     "execution_count": 11,
     "metadata": {},
     "output_type": "execute_result"
    }
   ],
   "source": [
    "#hide\n",
    "test_model = ConvMixer(dim=128, depth=8)\n",
    "test_model"
   ]
  },
  {
   "cell_type": "code",
   "execution_count": 10,
   "id": "f193fde2",
   "metadata": {
    "ExecuteTime": {
     "end_time": "2021-10-11T09:07:53.446107Z",
     "start_time": "2021-10-11T09:07:53.349364Z"
    }
   },
   "outputs": [
    {
     "name": "stdout",
     "output_type": "stream",
     "text": [
      "torch.Size([16, 1000])\n"
     ]
    }
   ],
   "source": [
    "#hide\n",
    "bs_test = 16\n",
    "xb = torch.randn(bs_test, 3, 128, 128)\n",
    "# y = convmixer_1024_20(xb)\n",
    "y = test_model(xb)\n",
    "print(y.shape)\n",
    "assert y.shape == torch.Size([bs_test, 1000]), f\"size\""
   ]
  },
  {
   "cell_type": "code",
   "execution_count": null,
   "id": "74f8b9f6",
   "metadata": {},
   "outputs": [],
   "source": []
  },
  {
   "cell_type": "markdown",
   "id": "bd9c8aa5",
   "metadata": {},
   "source": [
    "## Change activation function."
   ]
  },
  {
   "cell_type": "code",
   "execution_count": 12,
   "id": "cfd2ad23",
   "metadata": {
    "ExecuteTime": {
     "end_time": "2021-10-11T09:08:27.057286Z",
     "start_time": "2021-10-11T09:08:27.052235Z"
    }
   },
   "outputs": [],
   "source": [
    "#hide\n",
    "from torch.nn import Mish"
   ]
  },
  {
   "cell_type": "markdown",
   "id": "5dafb03a",
   "metadata": {},
   "source": [
    "Lets create model with Mish (import it from torch) instead of GELU."
   ]
  },
  {
   "cell_type": "code",
   "execution_count": 13,
   "id": "0f6823fb",
   "metadata": {
    "ExecuteTime": {
     "end_time": "2021-10-11T09:08:27.815287Z",
     "start_time": "2021-10-11T09:08:27.691521Z"
    },
    "scrolled": true
   },
   "outputs": [],
   "source": [
    "convmixer_1024_20 = ConvMixer(dim=1024, depth=20, act_fn=Mish())"
   ]
  },
  {
   "cell_type": "code",
   "execution_count": 14,
   "id": "1515d9ca",
   "metadata": {
    "ExecuteTime": {
     "end_time": "2021-10-11T09:08:28.559183Z",
     "start_time": "2021-10-11T09:08:28.549796Z"
    }
   },
   "outputs": [
    {
     "data": {
      "text/plain": [
       "(ConvLayer(\n",
       "   (conv): Conv2d(3, 1024, kernel_size=(7, 7), stride=(7, 7))\n",
       "   (act_fn): Mish()\n",
       "   (bn): BatchNorm2d(1024, eps=1e-05, momentum=0.1, affine=True, track_running_stats=True)\n",
       " ),\n",
       " Sequential(\n",
       "   (0): Residual(\n",
       "     (fn): ConvLayer(\n",
       "       (conv): Conv2d(1024, 1024, kernel_size=(9, 9), stride=(1, 1), padding=same, groups=1024)\n",
       "       (act_fn): Mish()\n",
       "       (bn): BatchNorm2d(1024, eps=1e-05, momentum=0.1, affine=True, track_running_stats=True)\n",
       "     )\n",
       "   )\n",
       "   (1): ConvLayer(\n",
       "     (conv): Conv2d(1024, 1024, kernel_size=(1, 1), stride=(1, 1))\n",
       "     (act_fn): Mish()\n",
       "     (bn): BatchNorm2d(1024, eps=1e-05, momentum=0.1, affine=True, track_running_stats=True)\n",
       "   )\n",
       " ))"
      ]
     },
     "execution_count": 14,
     "metadata": {},
     "output_type": "execute_result"
    }
   ],
   "source": [
    "convmixer_1024_20[0], convmixer_1024_20[1]"
   ]
  },
  {
   "cell_type": "code",
   "execution_count": 15,
   "id": "ca42914a",
   "metadata": {
    "ExecuteTime": {
     "end_time": "2021-10-11T09:09:05.881653Z",
     "start_time": "2021-10-11T09:09:05.844399Z"
    }
   },
   "outputs": [
    {
     "data": {
      "text/plain": [
       "ConvMixer(\n",
       "  (0): ConvLayer(\n",
       "    (conv): Conv2d(3, 128, kernel_size=(7, 7), stride=(7, 7))\n",
       "    (act_fn): Mish()\n",
       "    (bn): BatchNorm2d(128, eps=1e-05, momentum=0.1, affine=True, track_running_stats=True)\n",
       "  )\n",
       "  (1): Sequential(\n",
       "    (0): Residual(\n",
       "      (fn): ConvLayer(\n",
       "        (conv): Conv2d(128, 128, kernel_size=(9, 9), stride=(1, 1), padding=same, groups=128)\n",
       "        (act_fn): Mish()\n",
       "        (bn): BatchNorm2d(128, eps=1e-05, momentum=0.1, affine=True, track_running_stats=True)\n",
       "      )\n",
       "    )\n",
       "    (1): ConvLayer(\n",
       "      (conv): Conv2d(128, 128, kernel_size=(1, 1), stride=(1, 1))\n",
       "      (act_fn): Mish()\n",
       "      (bn): BatchNorm2d(128, eps=1e-05, momentum=0.1, affine=True, track_running_stats=True)\n",
       "    )\n",
       "  )\n",
       "  (2): Sequential(\n",
       "    (0): Residual(\n",
       "      (fn): ConvLayer(\n",
       "        (conv): Conv2d(128, 128, kernel_size=(9, 9), stride=(1, 1), padding=same, groups=128)\n",
       "        (act_fn): Mish()\n",
       "        (bn): BatchNorm2d(128, eps=1e-05, momentum=0.1, affine=True, track_running_stats=True)\n",
       "      )\n",
       "    )\n",
       "    (1): ConvLayer(\n",
       "      (conv): Conv2d(128, 128, kernel_size=(1, 1), stride=(1, 1))\n",
       "      (act_fn): Mish()\n",
       "      (bn): BatchNorm2d(128, eps=1e-05, momentum=0.1, affine=True, track_running_stats=True)\n",
       "    )\n",
       "  )\n",
       "  (3): Sequential(\n",
       "    (0): Residual(\n",
       "      (fn): ConvLayer(\n",
       "        (conv): Conv2d(128, 128, kernel_size=(9, 9), stride=(1, 1), padding=same, groups=128)\n",
       "        (act_fn): Mish()\n",
       "        (bn): BatchNorm2d(128, eps=1e-05, momentum=0.1, affine=True, track_running_stats=True)\n",
       "      )\n",
       "    )\n",
       "    (1): ConvLayer(\n",
       "      (conv): Conv2d(128, 128, kernel_size=(1, 1), stride=(1, 1))\n",
       "      (act_fn): Mish()\n",
       "      (bn): BatchNorm2d(128, eps=1e-05, momentum=0.1, affine=True, track_running_stats=True)\n",
       "    )\n",
       "  )\n",
       "  (4): Sequential(\n",
       "    (0): Residual(\n",
       "      (fn): ConvLayer(\n",
       "        (conv): Conv2d(128, 128, kernel_size=(9, 9), stride=(1, 1), padding=same, groups=128)\n",
       "        (act_fn): Mish()\n",
       "        (bn): BatchNorm2d(128, eps=1e-05, momentum=0.1, affine=True, track_running_stats=True)\n",
       "      )\n",
       "    )\n",
       "    (1): ConvLayer(\n",
       "      (conv): Conv2d(128, 128, kernel_size=(1, 1), stride=(1, 1))\n",
       "      (act_fn): Mish()\n",
       "      (bn): BatchNorm2d(128, eps=1e-05, momentum=0.1, affine=True, track_running_stats=True)\n",
       "    )\n",
       "  )\n",
       "  (5): Sequential(\n",
       "    (0): Residual(\n",
       "      (fn): ConvLayer(\n",
       "        (conv): Conv2d(128, 128, kernel_size=(9, 9), stride=(1, 1), padding=same, groups=128)\n",
       "        (act_fn): Mish()\n",
       "        (bn): BatchNorm2d(128, eps=1e-05, momentum=0.1, affine=True, track_running_stats=True)\n",
       "      )\n",
       "    )\n",
       "    (1): ConvLayer(\n",
       "      (conv): Conv2d(128, 128, kernel_size=(1, 1), stride=(1, 1))\n",
       "      (act_fn): Mish()\n",
       "      (bn): BatchNorm2d(128, eps=1e-05, momentum=0.1, affine=True, track_running_stats=True)\n",
       "    )\n",
       "  )\n",
       "  (6): Sequential(\n",
       "    (0): Residual(\n",
       "      (fn): ConvLayer(\n",
       "        (conv): Conv2d(128, 128, kernel_size=(9, 9), stride=(1, 1), padding=same, groups=128)\n",
       "        (act_fn): Mish()\n",
       "        (bn): BatchNorm2d(128, eps=1e-05, momentum=0.1, affine=True, track_running_stats=True)\n",
       "      )\n",
       "    )\n",
       "    (1): ConvLayer(\n",
       "      (conv): Conv2d(128, 128, kernel_size=(1, 1), stride=(1, 1))\n",
       "      (act_fn): Mish()\n",
       "      (bn): BatchNorm2d(128, eps=1e-05, momentum=0.1, affine=True, track_running_stats=True)\n",
       "    )\n",
       "  )\n",
       "  (7): Sequential(\n",
       "    (0): Residual(\n",
       "      (fn): ConvLayer(\n",
       "        (conv): Conv2d(128, 128, kernel_size=(9, 9), stride=(1, 1), padding=same, groups=128)\n",
       "        (act_fn): Mish()\n",
       "        (bn): BatchNorm2d(128, eps=1e-05, momentum=0.1, affine=True, track_running_stats=True)\n",
       "      )\n",
       "    )\n",
       "    (1): ConvLayer(\n",
       "      (conv): Conv2d(128, 128, kernel_size=(1, 1), stride=(1, 1))\n",
       "      (act_fn): Mish()\n",
       "      (bn): BatchNorm2d(128, eps=1e-05, momentum=0.1, affine=True, track_running_stats=True)\n",
       "    )\n",
       "  )\n",
       "  (8): Sequential(\n",
       "    (0): Residual(\n",
       "      (fn): ConvLayer(\n",
       "        (conv): Conv2d(128, 128, kernel_size=(9, 9), stride=(1, 1), padding=same, groups=128)\n",
       "        (act_fn): Mish()\n",
       "        (bn): BatchNorm2d(128, eps=1e-05, momentum=0.1, affine=True, track_running_stats=True)\n",
       "      )\n",
       "    )\n",
       "    (1): ConvLayer(\n",
       "      (conv): Conv2d(128, 128, kernel_size=(1, 1), stride=(1, 1))\n",
       "      (act_fn): Mish()\n",
       "      (bn): BatchNorm2d(128, eps=1e-05, momentum=0.1, affine=True, track_running_stats=True)\n",
       "    )\n",
       "  )\n",
       "  (9): AdaptiveAvgPool2d(output_size=(1, 1))\n",
       "  (10): Flatten(start_dim=1, end_dim=-1)\n",
       "  (11): Linear(in_features=128, out_features=1000, bias=True)\n",
       ")"
      ]
     },
     "execution_count": 15,
     "metadata": {},
     "output_type": "execute_result"
    }
   ],
   "source": [
    "#hide\n",
    "test_model = ConvMixer(dim=128, depth=8, act_fn=Mish())\n",
    "test_model"
   ]
  },
  {
   "cell_type": "code",
   "execution_count": 16,
   "id": "82205b4d",
   "metadata": {
    "ExecuteTime": {
     "end_time": "2021-10-11T09:09:11.747437Z",
     "start_time": "2021-10-11T09:09:11.611496Z"
    }
   },
   "outputs": [
    {
     "name": "stdout",
     "output_type": "stream",
     "text": [
      "torch.Size([16, 1000])\n"
     ]
    }
   ],
   "source": [
    "#hide\n",
    "bs_test = 16\n",
    "xb = torch.randn(bs_test, 3, 128, 128)\n",
    "# y = convmixer_1024_20(xb)\n",
    "y = test_model(xb)\n",
    "print(y.shape)\n",
    "assert y.shape == torch.Size([bs_test, 1000]), f\"size\""
   ]
  },
  {
   "cell_type": "markdown",
   "id": "445a4679",
   "metadata": {},
   "source": [
    "## Pre activation"
   ]
  },
  {
   "cell_type": "code",
   "execution_count": 17,
   "id": "61ca4ef7",
   "metadata": {
    "ExecuteTime": {
     "end_time": "2021-10-11T09:09:58.770587Z",
     "start_time": "2021-10-11T09:09:58.647807Z"
    },
    "scrolled": true
   },
   "outputs": [],
   "source": [
    "convmixer_1024_20 = ConvMixer(dim=1024, depth=20, act_fn=Mish(), pre_act=True)"
   ]
  },
  {
   "cell_type": "code",
   "execution_count": 18,
   "id": "55575c85",
   "metadata": {
    "ExecuteTime": {
     "end_time": "2021-10-11T09:09:59.950251Z",
     "start_time": "2021-10-11T09:09:59.944389Z"
    }
   },
   "outputs": [
    {
     "data": {
      "text/plain": [
       "(ConvLayer(\n",
       "   (conv): Conv2d(3, 1024, kernel_size=(7, 7), stride=(7, 7))\n",
       "   (act_fn): Mish()\n",
       "   (bn): BatchNorm2d(1024, eps=1e-05, momentum=0.1, affine=True, track_running_stats=True)\n",
       " ),\n",
       " Sequential(\n",
       "   (0): Residual(\n",
       "     (fn): ConvLayer(\n",
       "       (act_fn): Mish()\n",
       "       (conv): Conv2d(1024, 1024, kernel_size=(9, 9), stride=(1, 1), padding=same, groups=1024)\n",
       "       (bn): BatchNorm2d(1024, eps=1e-05, momentum=0.1, affine=True, track_running_stats=True)\n",
       "     )\n",
       "   )\n",
       "   (1): ConvLayer(\n",
       "     (act_fn): Mish()\n",
       "     (conv): Conv2d(1024, 1024, kernel_size=(1, 1), stride=(1, 1))\n",
       "     (bn): BatchNorm2d(1024, eps=1e-05, momentum=0.1, affine=True, track_running_stats=True)\n",
       "   )\n",
       " ))"
      ]
     },
     "execution_count": 18,
     "metadata": {},
     "output_type": "execute_result"
    }
   ],
   "source": [
    "convmixer_1024_20[0], convmixer_1024_20[1]"
   ]
  },
  {
   "cell_type": "code",
   "execution_count": 19,
   "id": "bce772fd",
   "metadata": {
    "ExecuteTime": {
     "end_time": "2021-10-11T09:10:12.764062Z",
     "start_time": "2021-10-11T09:10:12.751008Z"
    }
   },
   "outputs": [
    {
     "data": {
      "text/plain": [
       "ConvMixer(\n",
       "  (0): ConvLayer(\n",
       "    (conv): Conv2d(3, 128, kernel_size=(7, 7), stride=(7, 7))\n",
       "    (act_fn): Mish()\n",
       "    (bn): BatchNorm2d(128, eps=1e-05, momentum=0.1, affine=True, track_running_stats=True)\n",
       "  )\n",
       "  (1): Sequential(\n",
       "    (0): Residual(\n",
       "      (fn): ConvLayer(\n",
       "        (act_fn): Mish()\n",
       "        (conv): Conv2d(128, 128, kernel_size=(9, 9), stride=(1, 1), padding=same, groups=128)\n",
       "        (bn): BatchNorm2d(128, eps=1e-05, momentum=0.1, affine=True, track_running_stats=True)\n",
       "      )\n",
       "    )\n",
       "    (1): ConvLayer(\n",
       "      (act_fn): Mish()\n",
       "      (conv): Conv2d(128, 128, kernel_size=(1, 1), stride=(1, 1))\n",
       "      (bn): BatchNorm2d(128, eps=1e-05, momentum=0.1, affine=True, track_running_stats=True)\n",
       "    )\n",
       "  )\n",
       "  (2): Sequential(\n",
       "    (0): Residual(\n",
       "      (fn): ConvLayer(\n",
       "        (act_fn): Mish()\n",
       "        (conv): Conv2d(128, 128, kernel_size=(9, 9), stride=(1, 1), padding=same, groups=128)\n",
       "        (bn): BatchNorm2d(128, eps=1e-05, momentum=0.1, affine=True, track_running_stats=True)\n",
       "      )\n",
       "    )\n",
       "    (1): ConvLayer(\n",
       "      (act_fn): Mish()\n",
       "      (conv): Conv2d(128, 128, kernel_size=(1, 1), stride=(1, 1))\n",
       "      (bn): BatchNorm2d(128, eps=1e-05, momentum=0.1, affine=True, track_running_stats=True)\n",
       "    )\n",
       "  )\n",
       "  (3): Sequential(\n",
       "    (0): Residual(\n",
       "      (fn): ConvLayer(\n",
       "        (act_fn): Mish()\n",
       "        (conv): Conv2d(128, 128, kernel_size=(9, 9), stride=(1, 1), padding=same, groups=128)\n",
       "        (bn): BatchNorm2d(128, eps=1e-05, momentum=0.1, affine=True, track_running_stats=True)\n",
       "      )\n",
       "    )\n",
       "    (1): ConvLayer(\n",
       "      (act_fn): Mish()\n",
       "      (conv): Conv2d(128, 128, kernel_size=(1, 1), stride=(1, 1))\n",
       "      (bn): BatchNorm2d(128, eps=1e-05, momentum=0.1, affine=True, track_running_stats=True)\n",
       "    )\n",
       "  )\n",
       "  (4): Sequential(\n",
       "    (0): Residual(\n",
       "      (fn): ConvLayer(\n",
       "        (act_fn): Mish()\n",
       "        (conv): Conv2d(128, 128, kernel_size=(9, 9), stride=(1, 1), padding=same, groups=128)\n",
       "        (bn): BatchNorm2d(128, eps=1e-05, momentum=0.1, affine=True, track_running_stats=True)\n",
       "      )\n",
       "    )\n",
       "    (1): ConvLayer(\n",
       "      (act_fn): Mish()\n",
       "      (conv): Conv2d(128, 128, kernel_size=(1, 1), stride=(1, 1))\n",
       "      (bn): BatchNorm2d(128, eps=1e-05, momentum=0.1, affine=True, track_running_stats=True)\n",
       "    )\n",
       "  )\n",
       "  (5): Sequential(\n",
       "    (0): Residual(\n",
       "      (fn): ConvLayer(\n",
       "        (act_fn): Mish()\n",
       "        (conv): Conv2d(128, 128, kernel_size=(9, 9), stride=(1, 1), padding=same, groups=128)\n",
       "        (bn): BatchNorm2d(128, eps=1e-05, momentum=0.1, affine=True, track_running_stats=True)\n",
       "      )\n",
       "    )\n",
       "    (1): ConvLayer(\n",
       "      (act_fn): Mish()\n",
       "      (conv): Conv2d(128, 128, kernel_size=(1, 1), stride=(1, 1))\n",
       "      (bn): BatchNorm2d(128, eps=1e-05, momentum=0.1, affine=True, track_running_stats=True)\n",
       "    )\n",
       "  )\n",
       "  (6): Sequential(\n",
       "    (0): Residual(\n",
       "      (fn): ConvLayer(\n",
       "        (act_fn): Mish()\n",
       "        (conv): Conv2d(128, 128, kernel_size=(9, 9), stride=(1, 1), padding=same, groups=128)\n",
       "        (bn): BatchNorm2d(128, eps=1e-05, momentum=0.1, affine=True, track_running_stats=True)\n",
       "      )\n",
       "    )\n",
       "    (1): ConvLayer(\n",
       "      (act_fn): Mish()\n",
       "      (conv): Conv2d(128, 128, kernel_size=(1, 1), stride=(1, 1))\n",
       "      (bn): BatchNorm2d(128, eps=1e-05, momentum=0.1, affine=True, track_running_stats=True)\n",
       "    )\n",
       "  )\n",
       "  (7): Sequential(\n",
       "    (0): Residual(\n",
       "      (fn): ConvLayer(\n",
       "        (act_fn): Mish()\n",
       "        (conv): Conv2d(128, 128, kernel_size=(9, 9), stride=(1, 1), padding=same, groups=128)\n",
       "        (bn): BatchNorm2d(128, eps=1e-05, momentum=0.1, affine=True, track_running_stats=True)\n",
       "      )\n",
       "    )\n",
       "    (1): ConvLayer(\n",
       "      (act_fn): Mish()\n",
       "      (conv): Conv2d(128, 128, kernel_size=(1, 1), stride=(1, 1))\n",
       "      (bn): BatchNorm2d(128, eps=1e-05, momentum=0.1, affine=True, track_running_stats=True)\n",
       "    )\n",
       "  )\n",
       "  (8): Sequential(\n",
       "    (0): Residual(\n",
       "      (fn): ConvLayer(\n",
       "        (act_fn): Mish()\n",
       "        (conv): Conv2d(128, 128, kernel_size=(9, 9), stride=(1, 1), padding=same, groups=128)\n",
       "        (bn): BatchNorm2d(128, eps=1e-05, momentum=0.1, affine=True, track_running_stats=True)\n",
       "      )\n",
       "    )\n",
       "    (1): ConvLayer(\n",
       "      (act_fn): Mish()\n",
       "      (conv): Conv2d(128, 128, kernel_size=(1, 1), stride=(1, 1))\n",
       "      (bn): BatchNorm2d(128, eps=1e-05, momentum=0.1, affine=True, track_running_stats=True)\n",
       "    )\n",
       "  )\n",
       "  (9): AdaptiveAvgPool2d(output_size=(1, 1))\n",
       "  (10): Flatten(start_dim=1, end_dim=-1)\n",
       "  (11): Linear(in_features=128, out_features=1000, bias=True)\n",
       ")"
      ]
     },
     "execution_count": 19,
     "metadata": {},
     "output_type": "execute_result"
    }
   ],
   "source": [
    "#hide\n",
    "test_model = ConvMixer(dim=128, depth=8, act_fn=Mish(), pre_act=True)\n",
    "test_model"
   ]
  },
  {
   "cell_type": "code",
   "execution_count": 20,
   "id": "dfa3c132",
   "metadata": {
    "ExecuteTime": {
     "end_time": "2021-10-11T09:10:15.606667Z",
     "start_time": "2021-10-11T09:10:15.481108Z"
    }
   },
   "outputs": [
    {
     "name": "stdout",
     "output_type": "stream",
     "text": [
      "torch.Size([16, 1000])\n"
     ]
    }
   ],
   "source": [
    "#hide\n",
    "bs_test = 16\n",
    "xb = torch.randn(bs_test, 3, 128, 128)\n",
    "# y = convmixer_1024_20(xb)\n",
    "y = test_model(xb)\n",
    "print(y.shape)\n",
    "assert y.shape == torch.Size([bs_test, 1000]), f\"size\""
   ]
  },
  {
   "cell_type": "markdown",
   "id": "90b51303",
   "metadata": {},
   "source": [
    "## Batchnorm before activation."
   ]
  },
  {
   "cell_type": "code",
   "execution_count": 21,
   "id": "33ba2d32",
   "metadata": {
    "ExecuteTime": {
     "end_time": "2021-10-11T09:11:35.413729Z",
     "start_time": "2021-10-11T09:11:35.292148Z"
    },
    "scrolled": true
   },
   "outputs": [],
   "source": [
    "convmixer_1024_20 = ConvMixer(dim=1024, depth=20, act_fn=Mish(), bn_1st=True)"
   ]
  },
  {
   "cell_type": "code",
   "execution_count": 22,
   "id": "3f323539",
   "metadata": {
    "ExecuteTime": {
     "end_time": "2021-10-11T09:11:35.553141Z",
     "start_time": "2021-10-11T09:11:35.547553Z"
    }
   },
   "outputs": [
    {
     "data": {
      "text/plain": [
       "(ConvLayer(\n",
       "   (conv): Conv2d(3, 1024, kernel_size=(7, 7), stride=(7, 7))\n",
       "   (bn): BatchNorm2d(1024, eps=1e-05, momentum=0.1, affine=True, track_running_stats=True)\n",
       "   (act_fn): Mish()\n",
       " ),\n",
       " Sequential(\n",
       "   (0): Residual(\n",
       "     (fn): ConvLayer(\n",
       "       (conv): Conv2d(1024, 1024, kernel_size=(9, 9), stride=(1, 1), padding=same, groups=1024)\n",
       "       (bn): BatchNorm2d(1024, eps=1e-05, momentum=0.1, affine=True, track_running_stats=True)\n",
       "       (act_fn): Mish()\n",
       "     )\n",
       "   )\n",
       "   (1): ConvLayer(\n",
       "     (conv): Conv2d(1024, 1024, kernel_size=(1, 1), stride=(1, 1))\n",
       "     (bn): BatchNorm2d(1024, eps=1e-05, momentum=0.1, affine=True, track_running_stats=True)\n",
       "     (act_fn): Mish()\n",
       "   )\n",
       " ))"
      ]
     },
     "execution_count": 22,
     "metadata": {},
     "output_type": "execute_result"
    }
   ],
   "source": [
    "convmixer_1024_20[0], convmixer_1024_20[1]"
   ]
  },
  {
   "cell_type": "code",
   "execution_count": 23,
   "id": "0021e738",
   "metadata": {
    "ExecuteTime": {
     "end_time": "2021-10-11T09:11:43.399131Z",
     "start_time": "2021-10-11T09:11:43.387252Z"
    }
   },
   "outputs": [
    {
     "data": {
      "text/plain": [
       "ConvMixer(\n",
       "  (0): ConvLayer(\n",
       "    (conv): Conv2d(3, 128, kernel_size=(7, 7), stride=(7, 7))\n",
       "    (bn): BatchNorm2d(128, eps=1e-05, momentum=0.1, affine=True, track_running_stats=True)\n",
       "    (act_fn): Mish()\n",
       "  )\n",
       "  (1): Sequential(\n",
       "    (0): Residual(\n",
       "      (fn): ConvLayer(\n",
       "        (conv): Conv2d(128, 128, kernel_size=(9, 9), stride=(1, 1), padding=same, groups=128)\n",
       "        (bn): BatchNorm2d(128, eps=1e-05, momentum=0.1, affine=True, track_running_stats=True)\n",
       "        (act_fn): Mish()\n",
       "      )\n",
       "    )\n",
       "    (1): ConvLayer(\n",
       "      (conv): Conv2d(128, 128, kernel_size=(1, 1), stride=(1, 1))\n",
       "      (bn): BatchNorm2d(128, eps=1e-05, momentum=0.1, affine=True, track_running_stats=True)\n",
       "      (act_fn): Mish()\n",
       "    )\n",
       "  )\n",
       "  (2): Sequential(\n",
       "    (0): Residual(\n",
       "      (fn): ConvLayer(\n",
       "        (conv): Conv2d(128, 128, kernel_size=(9, 9), stride=(1, 1), padding=same, groups=128)\n",
       "        (bn): BatchNorm2d(128, eps=1e-05, momentum=0.1, affine=True, track_running_stats=True)\n",
       "        (act_fn): Mish()\n",
       "      )\n",
       "    )\n",
       "    (1): ConvLayer(\n",
       "      (conv): Conv2d(128, 128, kernel_size=(1, 1), stride=(1, 1))\n",
       "      (bn): BatchNorm2d(128, eps=1e-05, momentum=0.1, affine=True, track_running_stats=True)\n",
       "      (act_fn): Mish()\n",
       "    )\n",
       "  )\n",
       "  (3): Sequential(\n",
       "    (0): Residual(\n",
       "      (fn): ConvLayer(\n",
       "        (conv): Conv2d(128, 128, kernel_size=(9, 9), stride=(1, 1), padding=same, groups=128)\n",
       "        (bn): BatchNorm2d(128, eps=1e-05, momentum=0.1, affine=True, track_running_stats=True)\n",
       "        (act_fn): Mish()\n",
       "      )\n",
       "    )\n",
       "    (1): ConvLayer(\n",
       "      (conv): Conv2d(128, 128, kernel_size=(1, 1), stride=(1, 1))\n",
       "      (bn): BatchNorm2d(128, eps=1e-05, momentum=0.1, affine=True, track_running_stats=True)\n",
       "      (act_fn): Mish()\n",
       "    )\n",
       "  )\n",
       "  (4): Sequential(\n",
       "    (0): Residual(\n",
       "      (fn): ConvLayer(\n",
       "        (conv): Conv2d(128, 128, kernel_size=(9, 9), stride=(1, 1), padding=same, groups=128)\n",
       "        (bn): BatchNorm2d(128, eps=1e-05, momentum=0.1, affine=True, track_running_stats=True)\n",
       "        (act_fn): Mish()\n",
       "      )\n",
       "    )\n",
       "    (1): ConvLayer(\n",
       "      (conv): Conv2d(128, 128, kernel_size=(1, 1), stride=(1, 1))\n",
       "      (bn): BatchNorm2d(128, eps=1e-05, momentum=0.1, affine=True, track_running_stats=True)\n",
       "      (act_fn): Mish()\n",
       "    )\n",
       "  )\n",
       "  (5): Sequential(\n",
       "    (0): Residual(\n",
       "      (fn): ConvLayer(\n",
       "        (conv): Conv2d(128, 128, kernel_size=(9, 9), stride=(1, 1), padding=same, groups=128)\n",
       "        (bn): BatchNorm2d(128, eps=1e-05, momentum=0.1, affine=True, track_running_stats=True)\n",
       "        (act_fn): Mish()\n",
       "      )\n",
       "    )\n",
       "    (1): ConvLayer(\n",
       "      (conv): Conv2d(128, 128, kernel_size=(1, 1), stride=(1, 1))\n",
       "      (bn): BatchNorm2d(128, eps=1e-05, momentum=0.1, affine=True, track_running_stats=True)\n",
       "      (act_fn): Mish()\n",
       "    )\n",
       "  )\n",
       "  (6): Sequential(\n",
       "    (0): Residual(\n",
       "      (fn): ConvLayer(\n",
       "        (conv): Conv2d(128, 128, kernel_size=(9, 9), stride=(1, 1), padding=same, groups=128)\n",
       "        (bn): BatchNorm2d(128, eps=1e-05, momentum=0.1, affine=True, track_running_stats=True)\n",
       "        (act_fn): Mish()\n",
       "      )\n",
       "    )\n",
       "    (1): ConvLayer(\n",
       "      (conv): Conv2d(128, 128, kernel_size=(1, 1), stride=(1, 1))\n",
       "      (bn): BatchNorm2d(128, eps=1e-05, momentum=0.1, affine=True, track_running_stats=True)\n",
       "      (act_fn): Mish()\n",
       "    )\n",
       "  )\n",
       "  (7): Sequential(\n",
       "    (0): Residual(\n",
       "      (fn): ConvLayer(\n",
       "        (conv): Conv2d(128, 128, kernel_size=(9, 9), stride=(1, 1), padding=same, groups=128)\n",
       "        (bn): BatchNorm2d(128, eps=1e-05, momentum=0.1, affine=True, track_running_stats=True)\n",
       "        (act_fn): Mish()\n",
       "      )\n",
       "    )\n",
       "    (1): ConvLayer(\n",
       "      (conv): Conv2d(128, 128, kernel_size=(1, 1), stride=(1, 1))\n",
       "      (bn): BatchNorm2d(128, eps=1e-05, momentum=0.1, affine=True, track_running_stats=True)\n",
       "      (act_fn): Mish()\n",
       "    )\n",
       "  )\n",
       "  (8): Sequential(\n",
       "    (0): Residual(\n",
       "      (fn): ConvLayer(\n",
       "        (conv): Conv2d(128, 128, kernel_size=(9, 9), stride=(1, 1), padding=same, groups=128)\n",
       "        (bn): BatchNorm2d(128, eps=1e-05, momentum=0.1, affine=True, track_running_stats=True)\n",
       "        (act_fn): Mish()\n",
       "      )\n",
       "    )\n",
       "    (1): ConvLayer(\n",
       "      (conv): Conv2d(128, 128, kernel_size=(1, 1), stride=(1, 1))\n",
       "      (bn): BatchNorm2d(128, eps=1e-05, momentum=0.1, affine=True, track_running_stats=True)\n",
       "      (act_fn): Mish()\n",
       "    )\n",
       "  )\n",
       "  (9): AdaptiveAvgPool2d(output_size=(1, 1))\n",
       "  (10): Flatten(start_dim=1, end_dim=-1)\n",
       "  (11): Linear(in_features=128, out_features=1000, bias=True)\n",
       ")"
      ]
     },
     "execution_count": 23,
     "metadata": {},
     "output_type": "execute_result"
    }
   ],
   "source": [
    "#hide\n",
    "test_model = ConvMixer(dim=128, depth=8, act_fn=Mish(), bn_1st=True)\n",
    "test_model"
   ]
  },
  {
   "cell_type": "code",
   "execution_count": 24,
   "id": "3fe42f08",
   "metadata": {
    "ExecuteTime": {
     "end_time": "2021-10-11T09:11:46.988659Z",
     "start_time": "2021-10-11T09:11:46.850995Z"
    }
   },
   "outputs": [
    {
     "name": "stdout",
     "output_type": "stream",
     "text": [
      "torch.Size([16, 1000])\n"
     ]
    }
   ],
   "source": [
    "#hide\n",
    "bs_test = 16\n",
    "xb = torch.randn(bs_test, 3, 128, 128)\n",
    "# y = convmixer_1024_20(xb)\n",
    "y = test_model(xb)\n",
    "print(y.shape)\n",
    "assert y.shape == torch.Size([bs_test, 1000]), f\"size\""
   ]
  },
  {
   "cell_type": "code",
   "execution_count": null,
   "id": "e166cebb",
   "metadata": {},
   "outputs": [],
   "source": []
  }
 ],
 "metadata": {
  "kernelspec": {
   "display_name": "Python 3",
   "language": "python",
   "name": "python3"
  },
  "language_info": {
   "codemirror_mode": {
    "name": "ipython",
    "version": 3
   },
   "file_extension": ".py",
   "mimetype": "text/x-python",
   "name": "python",
   "nbconvert_exporter": "python",
   "pygments_lexer": "ipython3",
   "version": "3.8.10"
  },
  "toc": {
   "base_numbering": 1,
   "nav_menu": {},
   "number_sections": true,
   "sideBar": true,
   "skip_h1_title": false,
   "title_cell": "Table of Contents",
   "title_sidebar": "Contents",
   "toc_cell": false,
   "toc_position": {},
   "toc_section_display": true,
   "toc_window_display": true
  }
 },
 "nbformat": 4,
 "nbformat_minor": 5
}
