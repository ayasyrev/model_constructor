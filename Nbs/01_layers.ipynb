{
 "cells": [
  {
   "cell_type": "markdown",
   "metadata": {},
   "source": [
    "# Layers\n",
    "\n",
    "> Basic layers for constructor."
   ]
  },
  {
   "cell_type": "code",
   "execution_count": 1,
   "metadata": {
    "ExecuteTime": {
     "end_time": "2021-08-11T16:34:43.007417Z",
     "start_time": "2021-08-11T16:34:42.829843Z"
    }
   },
   "outputs": [],
   "source": [
    "#hide\n",
    "from nbdev.showdoc import show_doc\n",
    "from IPython.display import Markdown, display"
   ]
  },
  {
   "cell_type": "code",
   "execution_count": 2,
   "metadata": {
    "ExecuteTime": {
     "end_time": "2021-08-11T16:34:45.654722Z",
     "start_time": "2021-08-11T16:34:45.085125Z"
    }
   },
   "outputs": [],
   "source": [
    "#hide\n",
    "import torch.nn as nn\n",
    "import torch\n",
    "from collections import OrderedDict"
   ]
  },
  {
   "cell_type": "code",
   "execution_count": 3,
   "metadata": {},
   "outputs": [],
   "source": [
    "# hide\n",
    "def print_doc(func_name):\n",
    "    doc = show_doc(func_name, title_level=4, disp=False)\n",
    "    display(Markdown(doc))"
   ]
  },
  {
   "cell_type": "markdown",
   "metadata": {},
   "source": [
    "## Flatten layer"
   ]
  },
  {
   "cell_type": "code",
   "execution_count": 4,
   "metadata": {
    "ExecuteTime": {
     "end_time": "2021-08-11T16:34:45.996818Z",
     "start_time": "2021-08-11T16:34:45.982654Z"
    }
   },
   "outputs": [],
   "source": [
    "#hide\n",
    "from model_constructor.layers import Flatten, noop, Noop"
   ]
  },
  {
   "cell_type": "code",
   "execution_count": 5,
   "metadata": {
    "ExecuteTime": {
     "end_time": "2021-08-11T16:34:54.998866Z",
     "start_time": "2021-08-11T16:34:54.984142Z"
    }
   },
   "outputs": [
    {
     "data": {
      "text/markdown": [
       "<h4 id=\"Flatten\" class=\"doc_header\"><code>class</code> <code>Flatten</code><a href=\"https://github.com/ayasyrev/model_constructor/tree/master/model_constructor/layers.py#L11\" class=\"source_link\" style=\"float:right\">[source]</a></h4>\n",
       "\n",
       "> <code>Flatten</code>() :: `Module`\n",
       "\n",
       "flat x to vector"
      ],
      "text/plain": [
       "<IPython.core.display.Markdown object>"
      ]
     },
     "metadata": {},
     "output_type": "display_data"
    }
   ],
   "source": [
    "#hide_input\n",
    "# show_doc(Flatten, title_level=4)\n",
    "# flatten_doc = show_doc(Flatten, title_level=4, disp=False)\n",
    "# Markdown(flatten_doc)\n",
    "\n",
    "print_doc(Flatten)"
   ]
  },
  {
   "cell_type": "markdown",
   "metadata": {},
   "source": [
    "## Noop - dummy func and module."
   ]
  },
  {
   "cell_type": "code",
   "execution_count": 6,
   "metadata": {
    "ExecuteTime": {
     "end_time": "2021-08-11T15:44:55.119562Z",
     "start_time": "2021-08-11T15:44:55.103484Z"
    }
   },
   "outputs": [
    {
     "data": {
      "text/markdown": [
       "<h4 id=\"noop\" class=\"doc_header\"><code>noop</code><a href=\"https://github.com/ayasyrev/model_constructor/tree/master/model_constructor/layers.py#L20\" class=\"source_link\" style=\"float:right\">[source]</a></h4>\n",
       "\n",
       "> <code>noop</code>(**`x`**)\n",
       "\n",
       "Dummy func. Return input"
      ],
      "text/plain": [
       "<IPython.core.display.Markdown object>"
      ]
     },
     "metadata": {},
     "output_type": "display_data"
    }
   ],
   "source": [
    "#hide_input\n",
    "# show_doc(noop)\n",
    "# doc = show_doc(noop, disp=False)\n",
    "# display(Markdown(doc))\n",
    "print_doc(noop)"
   ]
  },
  {
   "cell_type": "code",
   "execution_count": 7,
   "metadata": {
    "ExecuteTime": {
     "end_time": "2021-08-11T16:35:14.225068Z",
     "start_time": "2021-08-11T16:35:14.208899Z"
    }
   },
   "outputs": [
    {
     "data": {
      "text/markdown": [
       "<h4 id=\"Noop\" class=\"doc_header\"><code>class</code> <code>Noop</code><a href=\"https://github.com/ayasyrev/model_constructor/tree/master/model_constructor/layers.py#L25\" class=\"source_link\" style=\"float:right\">[source]</a></h4>\n",
       "\n",
       "> <code>Noop</code>() :: `Module`\n",
       "\n",
       "Dummy module"
      ],
      "text/plain": [
       "<IPython.core.display.Markdown object>"
      ]
     },
     "metadata": {},
     "output_type": "display_data"
    }
   ],
   "source": [
    "#hide_input\n",
    "# show_doc(Noop, title_level=4)\n",
    "# doc = show_doc(Noop, title_level=4, disp=False)\n",
    "# Markdown(doc)\n",
    "print_doc(Noop)"
   ]
  },
  {
   "cell_type": "markdown",
   "metadata": {},
   "source": [
    "## ConvLayer - nn.module"
   ]
  },
  {
   "cell_type": "code",
   "execution_count": 8,
   "metadata": {
    "ExecuteTime": {
     "end_time": "2021-08-11T16:35:21.435560Z",
     "start_time": "2021-08-11T16:35:21.430089Z"
    }
   },
   "outputs": [],
   "source": [
    "#hide\n",
    "from model_constructor.layers import ConvLayer"
   ]
  },
  {
   "cell_type": "code",
   "execution_count": 9,
   "metadata": {
    "ExecuteTime": {
     "end_time": "2021-08-11T16:35:29.238261Z",
     "start_time": "2021-08-11T16:35:29.229345Z"
    }
   },
   "outputs": [
    {
     "data": {
      "text/markdown": [
       "<h4 id=\"ConvLayer\" class=\"doc_header\"><code>class</code> <code>ConvLayer</code><a href=\"https://github.com/ayasyrev/model_constructor/tree/master/model_constructor/layers.py#L37\" class=\"source_link\" style=\"float:right\">[source]</a></h4>\n",
       "\n",
       "> <code>ConvLayer</code>(**`ni`**, **`nf`**, **`ks`**=*`3`*, **`stride`**=*`1`*, **`act`**=*`True`*, **`act_fn`**=*`ReLU(inplace=True)`*, **`bn_layer`**=*`True`*, **`bn_1st`**=*`True`*, **`zero_bn`**=*`False`*, **`padding`**=*`None`*, **`bias`**=*`False`*, **`groups`**=*`1`*, **\\*\\*`kwargs`**) :: `Sequential`\n",
       "\n",
       "Basic conv layers block"
      ],
      "text/plain": [
       "<IPython.core.display.Markdown object>"
      ]
     },
     "metadata": {},
     "output_type": "display_data"
    }
   ],
   "source": [
    "# hide_input\n",
    "# show_doc(ConvLayer, title_level=4)\n",
    "# doc = show_doc(ConvLayer, title_level=4, disp=False)\n",
    "# Markdown(doc)\n",
    "print_doc(ConvLayer)"
   ]
  },
  {
   "cell_type": "code",
   "execution_count": 10,
   "metadata": {
    "ExecuteTime": {
     "end_time": "2021-08-11T15:44:56.242450Z",
     "start_time": "2021-08-11T15:44:56.231392Z"
    }
   },
   "outputs": [
    {
     "data": {
      "text/plain": [
       "ConvLayer(\n",
       "  (conv): Conv2d(32, 64, kernel_size=(3, 3), stride=(1, 1), padding=(1, 1), bias=False)\n",
       "  (bn): BatchNorm2d(64, eps=1e-05, momentum=0.1, affine=True, track_running_stats=True)\n",
       ")"
      ]
     },
     "execution_count": 10,
     "metadata": {},
     "output_type": "execute_result"
    }
   ],
   "source": [
    "#collapse_output\n",
    "conv_layer = ConvLayer(32, 64, act=False)\n",
    "conv_layer"
   ]
  },
  {
   "cell_type": "code",
   "execution_count": 11,
   "metadata": {
    "ExecuteTime": {
     "end_time": "2021-08-11T15:44:56.462424Z",
     "start_time": "2021-08-11T15:44:56.450423Z"
    }
   },
   "outputs": [
    {
     "data": {
      "text/plain": [
       "ConvLayer(\n",
       "  (conv): Conv2d(32, 64, kernel_size=(3, 3), stride=(1, 1), padding=(1, 1), bias=False)\n",
       "  (act_fn): ReLU(inplace=True)\n",
       ")"
      ]
     },
     "execution_count": 11,
     "metadata": {},
     "output_type": "execute_result"
    }
   ],
   "source": [
    "#collapse_output\n",
    "conv_layer = ConvLayer(32, 64, bn_layer=False)\n",
    "conv_layer"
   ]
  },
  {
   "cell_type": "code",
   "execution_count": 12,
   "metadata": {
    "ExecuteTime": {
     "end_time": "2021-08-11T15:44:56.667542Z",
     "start_time": "2021-08-11T15:44:56.660962Z"
    }
   },
   "outputs": [
    {
     "data": {
      "text/plain": [
       "ConvLayer(\n",
       "  (conv): Conv2d(32, 64, kernel_size=(3, 3), stride=(1, 1), padding=(1, 1), bias=False)\n",
       "  (bn): BatchNorm2d(64, eps=1e-05, momentum=0.1, affine=True, track_running_stats=True)\n",
       "  (act_fn): ReLU(inplace=True)\n",
       ")"
      ]
     },
     "execution_count": 12,
     "metadata": {},
     "output_type": "execute_result"
    }
   ],
   "source": [
    "#collapse_output\n",
    "conv_layer = ConvLayer(32, 64, bn_1st=True)\n",
    "conv_layer"
   ]
  },
  {
   "cell_type": "code",
   "execution_count": 13,
   "metadata": {
    "ExecuteTime": {
     "end_time": "2021-08-11T15:44:56.905543Z",
     "start_time": "2021-08-11T15:44:56.900817Z"
    }
   },
   "outputs": [
    {
     "data": {
      "text/plain": [
       "ConvLayer(\n",
       "  (conv): Conv2d(32, 64, kernel_size=(3, 3), stride=(1, 1), padding=(1, 1), bias=False)\n",
       "  (bn): BatchNorm2d(64, eps=1e-05, momentum=0.1, affine=True, track_running_stats=True)\n",
       "  (act_fn): LeakyReLU(negative_slope=0.01)\n",
       ")"
      ]
     },
     "execution_count": 13,
     "metadata": {},
     "output_type": "execute_result"
    }
   ],
   "source": [
    "#collapse_output\n",
    "conv_layer = ConvLayer(32, 64, bn_1st=True, act_fn=nn.LeakyReLU())\n",
    "conv_layer"
   ]
  },
  {
   "cell_type": "code",
   "execution_count": 14,
   "metadata": {
    "ExecuteTime": {
     "end_time": "2021-08-11T15:44:57.154044Z",
     "start_time": "2021-08-11T15:44:57.115266Z"
    }
   },
   "outputs": [],
   "source": [
    "#hide\n",
    "bs = 8\n",
    "xb = torch.randn(bs, 32, 32, 32)\n",
    "y = conv_layer(xb)\n",
    "y.shape\n",
    "assert y.shape == torch.Size([bs, 64, 32, 32])"
   ]
  },
  {
   "cell_type": "markdown",
   "metadata": {},
   "source": [
    "## SimpleSelfAttention"
   ]
  },
  {
   "cell_type": "markdown",
   "metadata": {},
   "source": [
    "SA module from mxresnet at fastai."
   ]
  },
  {
   "cell_type": "code",
   "execution_count": 15,
   "metadata": {},
   "outputs": [],
   "source": [
    "# hide\n",
    "from model_constructor.layers import conv1d, SimpleSelfAttention"
   ]
  },
  {
   "cell_type": "code",
   "execution_count": 16,
   "metadata": {},
   "outputs": [
    {
     "data": {
      "text/markdown": [
       "<h4 id=\"conv1d\" class=\"doc_header\"><code>conv1d</code><a href=\"https://github.com/ayasyrev/model_constructor/tree/master/model_constructor/layers.py#L65\" class=\"source_link\" style=\"float:right\">[source]</a></h4>\n",
       "\n",
       "> <code>conv1d</code>(**`ni`**:`int`, **`no`**:`int`, **`ks`**:`int`=*`1`*, **`stride`**:`int`=*`1`*, **`padding`**:`int`=*`0`*, **`bias`**:`bool`=*`False`*)\n",
       "\n",
       "Create and initialize a `nn.Conv1d` layer with spectral normalization."
      ],
      "text/plain": [
       "<IPython.core.display.Markdown object>"
      ]
     },
     "metadata": {},
     "output_type": "display_data"
    }
   ],
   "source": [
    "#hide_input\n",
    "# doc = show_doc(conv1d, title_level=4, disp=False)\n",
    "# Markdown(doc)\n",
    "print_doc(conv1d)"
   ]
  },
  {
   "cell_type": "code",
   "execution_count": 17,
   "metadata": {},
   "outputs": [
    {
     "data": {
      "text/markdown": [
       "<h4 id=\"SimpleSelfAttention\" class=\"doc_header\"><code>class</code> <code>SimpleSelfAttention</code><a href=\"https://github.com/ayasyrev/model_constructor/tree/master/model_constructor/layers.py#L74\" class=\"source_link\" style=\"float:right\">[source]</a></h4>\n",
       "\n",
       "> <code>SimpleSelfAttention</code>(**`n_in`**:`int`, **`ks`**=*`1`*, **`sym`**=*`False`*) :: `Module`\n",
       "\n",
       "SimpleSelfAttention module.  # noqa W291\n",
       "Adapted from SelfAttention layer at  \n",
       "https://github.com/fastai/fastai/blob/5c51f9eabf76853a89a9bc5741804d2ed4407e49/fastai/layers.py  \n",
       "Inspired by https://arxiv.org/pdf/1805.08318.pdf  "
      ],
      "text/plain": [
       "<IPython.core.display.Markdown object>"
      ]
     },
     "metadata": {},
     "output_type": "display_data"
    }
   ],
   "source": [
    "# doc = show_doc(SimpleSelfAttention, title_level=4, disp=False)\n",
    "# Markdown(doc)\n",
    "print_doc(SimpleSelfAttention)"
   ]
  },
  {
   "cell_type": "markdown",
   "metadata": {},
   "source": [
    "## SEModule"
   ]
  },
  {
   "cell_type": "code",
   "execution_count": 20,
   "metadata": {},
   "outputs": [],
   "source": [
    "#hide\n",
    "from model_constructor.layers import SEModule"
   ]
  },
  {
   "cell_type": "code",
   "execution_count": 21,
   "metadata": {},
   "outputs": [
    {
     "data": {
      "text/markdown": [
       "<h4 id=\"SEModule\" class=\"doc_header\"><code>class</code> <code>SEModule</code><a href=\"https://github.com/ayasyrev/model_constructor/tree/master/model_constructor/layers.py#L154\" class=\"source_link\" style=\"float:right\">[source]</a></h4>\n",
       "\n",
       "> <code>SEModule</code>(**`channels`**, **`reduction`**=*`16`*, **`rd_channels`**=*`None`*, **`rd_max`**=*`False`*, **`se_layer`**=*`Linear`*, **`act_fn`**=*`ReLU(inplace=True)`*, **`use_bias`**=*`True`*, **`gate`**=*`Sigmoid`*) :: `Module`\n",
       "\n",
       "se block"
      ],
      "text/plain": [
       "<IPython.core.display.Markdown object>"
      ]
     },
     "metadata": {},
     "output_type": "display_data"
    }
   ],
   "source": [
    "# hide_input\n",
    "# Markdown(show_doc(SEBlock, title_level=4))\n",
    "print_doc(SEModule)"
   ]
  },
  {
   "cell_type": "code",
   "execution_count": 22,
   "metadata": {
    "ExecuteTime": {
     "end_time": "2021-08-11T15:44:58.343217Z",
     "start_time": "2021-08-11T15:44:58.332669Z"
    }
   },
   "outputs": [
    {
     "data": {
      "text/plain": [
       "SEModule(\n",
       "  (squeeze): AdaptiveAvgPool2d(output_size=1)\n",
       "  (excitation): Sequential(\n",
       "    (fc_reduce): Linear(in_features=128, out_features=8, bias=True)\n",
       "    (se_act): ReLU(inplace=True)\n",
       "    (fc_expand): Linear(in_features=8, out_features=128, bias=True)\n",
       "    (se_gate): Sigmoid()\n",
       "  )\n",
       ")"
      ]
     },
     "execution_count": 22,
     "metadata": {},
     "output_type": "execute_result"
    }
   ],
   "source": [
    "#collapse_output\n",
    "se_block = SEModule(128)\n",
    "se_block"
   ]
  },
  {
   "cell_type": "code",
   "execution_count": 23,
   "metadata": {
    "ExecuteTime": {
     "end_time": "2021-08-11T15:44:58.570883Z",
     "start_time": "2021-08-11T15:44:58.530689Z"
    }
   },
   "outputs": [
    {
     "name": "stdout",
     "output_type": "stream",
     "text": [
      "torch.Size([8, 128, 32, 32])\n"
     ]
    }
   ],
   "source": [
    "#hide\n",
    "bs = 8\n",
    "xb = torch.randn(bs, 128, 32, 32)\n",
    "y = se_block(xb)\n",
    "print(y.shape)\n",
    "assert y.shape == torch.Size([bs, 128, 32, 32]), f\"size\""
   ]
  },
  {
   "cell_type": "code",
   "execution_count": 24,
   "metadata": {
    "ExecuteTime": {
     "end_time": "2021-08-11T15:44:58.343217Z",
     "start_time": "2021-08-11T15:44:58.332669Z"
    }
   },
   "outputs": [
    {
     "data": {
      "text/plain": [
       "SEModule(\n",
       "  (squeeze): AdaptiveAvgPool2d(output_size=1)\n",
       "  (excitation): Sequential(\n",
       "    (fc_reduce): Linear(in_features=128, out_features=4, bias=True)\n",
       "    (se_act): ReLU(inplace=True)\n",
       "    (fc_expand): Linear(in_features=4, out_features=128, bias=True)\n",
       "    (se_gate): Sigmoid()\n",
       "  )\n",
       ")"
      ]
     },
     "execution_count": 24,
     "metadata": {},
     "output_type": "execute_result"
    }
   ],
   "source": [
    "#collapse_output\n",
    "se_block = SEModule(128, reduction=32)\n",
    "se_block"
   ]
  },
  {
   "cell_type": "code",
   "execution_count": 25,
   "metadata": {
    "ExecuteTime": {
     "end_time": "2021-08-11T15:44:58.570883Z",
     "start_time": "2021-08-11T15:44:58.530689Z"
    }
   },
   "outputs": [
    {
     "name": "stdout",
     "output_type": "stream",
     "text": [
      "torch.Size([8, 128, 32, 32])\n"
     ]
    }
   ],
   "source": [
    "#hide\n",
    "bs = 8\n",
    "xb = torch.randn(bs, 128, 32, 32)\n",
    "y = se_block(xb)\n",
    "print(y.shape)\n",
    "assert y.shape == torch.Size([bs, 128, 32, 32]), f\"size\""
   ]
  },
  {
   "cell_type": "code",
   "execution_count": 26,
   "metadata": {
    "ExecuteTime": {
     "end_time": "2021-08-11T15:44:58.343217Z",
     "start_time": "2021-08-11T15:44:58.332669Z"
    }
   },
   "outputs": [
    {
     "data": {
      "text/plain": [
       "SEModule(\n",
       "  (squeeze): AdaptiveAvgPool2d(output_size=1)\n",
       "  (excitation): Sequential(\n",
       "    (fc_reduce): Linear(in_features=128, out_features=32, bias=True)\n",
       "    (se_act): ReLU(inplace=True)\n",
       "    (fc_expand): Linear(in_features=32, out_features=128, bias=True)\n",
       "    (se_gate): Sigmoid()\n",
       "  )\n",
       ")"
      ]
     },
     "execution_count": 26,
     "metadata": {},
     "output_type": "execute_result"
    }
   ],
   "source": [
    "#collapse_output\n",
    "se_block = SEModule(128, rd_channels=32)\n",
    "se_block"
   ]
  },
  {
   "cell_type": "code",
   "execution_count": 27,
   "metadata": {
    "ExecuteTime": {
     "end_time": "2021-08-11T15:44:58.570883Z",
     "start_time": "2021-08-11T15:44:58.530689Z"
    }
   },
   "outputs": [
    {
     "name": "stdout",
     "output_type": "stream",
     "text": [
      "torch.Size([8, 128, 32, 32])\n"
     ]
    }
   ],
   "source": [
    "#hide\n",
    "bs = 8\n",
    "xb = torch.randn(bs, 128, 32, 32)\n",
    "y = se_block(xb)\n",
    "print(y.shape)\n",
    "assert y.shape == torch.Size([bs, 128, 32, 32]), f\"size\""
   ]
  },
  {
   "cell_type": "code",
   "execution_count": 31,
   "metadata": {
    "ExecuteTime": {
     "end_time": "2021-08-11T15:44:58.343217Z",
     "start_time": "2021-08-11T15:44:58.332669Z"
    }
   },
   "outputs": [
    {
     "data": {
      "text/plain": [
       "SEModule(\n",
       "  (squeeze): AdaptiveAvgPool2d(output_size=1)\n",
       "  (excitation): Sequential(\n",
       "    (fc_reduce): Linear(in_features=128, out_features=32, bias=True)\n",
       "    (se_act): ReLU(inplace=True)\n",
       "    (fc_expand): Linear(in_features=32, out_features=128, bias=True)\n",
       "    (se_gate): Sigmoid()\n",
       "  )\n",
       ")"
      ]
     },
     "execution_count": 31,
     "metadata": {},
     "output_type": "execute_result"
    }
   ],
   "source": [
    "#collapse_output\n",
    "se_block = SEModule(128, reduction=4, rd_channels=16, rd_max=True)\n",
    "se_block"
   ]
  },
  {
   "cell_type": "code",
   "execution_count": 32,
   "metadata": {
    "ExecuteTime": {
     "end_time": "2021-08-11T15:44:58.570883Z",
     "start_time": "2021-08-11T15:44:58.530689Z"
    }
   },
   "outputs": [
    {
     "name": "stdout",
     "output_type": "stream",
     "text": [
      "torch.Size([8, 128, 32, 32])\n"
     ]
    }
   ],
   "source": [
    "#hide\n",
    "bs = 8\n",
    "xb = torch.randn(bs, 128, 32, 32)\n",
    "y = se_block(xb)\n",
    "print(y.shape)\n",
    "assert y.shape == torch.Size([bs, 128, 32, 32]), f\"size\""
   ]
  },
  {
   "cell_type": "markdown",
   "metadata": {},
   "source": [
    "## SEModuleConv"
   ]
  },
  {
   "cell_type": "code",
   "execution_count": 34,
   "metadata": {},
   "outputs": [
    {
     "data": {
      "text/markdown": [
       "<h4 id=\"SEModuleConv\" class=\"doc_header\"><code>class</code> <code>SEModuleConv</code><a href=\"https://github.com/ayasyrev/model_constructor/tree/master/model_constructor/layers.py#L189\" class=\"source_link\" style=\"float:right\">[source]</a></h4>\n",
       "\n",
       "> <code>SEModuleConv</code>(**`channels`**, **`reduction`**=*`16`*, **`rd_channels`**=*`None`*, **`rd_max`**=*`False`*, **`se_layer`**=*`Conv2d`*, **`act_fn`**=*`ReLU(inplace=True)`*, **`use_bias`**=*`True`*, **`gate`**=*`Sigmoid`*) :: `Module`\n",
       "\n",
       "se block with conv on excitation"
      ],
      "text/plain": [
       "<IPython.core.display.Markdown object>"
      ]
     },
     "metadata": {},
     "output_type": "display_data"
    }
   ],
   "source": [
    "# hide_input\n",
    "from model_constructor.layers import SEModuleConv\n",
    "print_doc(SEModuleConv)"
   ]
  },
  {
   "cell_type": "code",
   "execution_count": 35,
   "metadata": {
    "ExecuteTime": {
     "end_time": "2021-08-11T15:44:58.343217Z",
     "start_time": "2021-08-11T15:44:58.332669Z"
    }
   },
   "outputs": [
    {
     "data": {
      "text/plain": [
       "SEModuleConv(\n",
       "  (squeeze): AdaptiveAvgPool2d(output_size=1)\n",
       "  (excitation): Sequential(\n",
       "    (conv_reduce): Conv2d(128, 8, kernel_size=(1, 1), stride=(1, 1))\n",
       "    (se_act): ReLU(inplace=True)\n",
       "    (conv_expand): Conv2d(8, 128, kernel_size=(1, 1), stride=(1, 1))\n",
       "    (gate): Sigmoid()\n",
       "  )\n",
       ")"
      ]
     },
     "execution_count": 35,
     "metadata": {},
     "output_type": "execute_result"
    }
   ],
   "source": [
    "#collapse_output\n",
    "se_block = SEModuleConv(128)\n",
    "se_block"
   ]
  },
  {
   "cell_type": "code",
   "execution_count": 36,
   "metadata": {
    "ExecuteTime": {
     "end_time": "2021-08-11T15:44:58.570883Z",
     "start_time": "2021-08-11T15:44:58.530689Z"
    }
   },
   "outputs": [
    {
     "name": "stdout",
     "output_type": "stream",
     "text": [
      "torch.Size([8, 128, 32, 32])\n"
     ]
    }
   ],
   "source": [
    "#hide\n",
    "bs = 8\n",
    "xb = torch.randn(bs, 128, 32, 32)\n",
    "y = se_block(xb)\n",
    "print(y.shape)\n",
    "assert y.shape == torch.Size([bs, 128, 32, 32]), f\"size\""
   ]
  },
  {
   "cell_type": "code",
   "execution_count": 37,
   "metadata": {
    "ExecuteTime": {
     "end_time": "2021-08-11T15:44:58.343217Z",
     "start_time": "2021-08-11T15:44:58.332669Z"
    }
   },
   "outputs": [
    {
     "data": {
      "text/plain": [
       "SEModuleConv(\n",
       "  (squeeze): AdaptiveAvgPool2d(output_size=1)\n",
       "  (excitation): Sequential(\n",
       "    (conv_reduce): Conv2d(128, 4, kernel_size=(1, 1), stride=(1, 1))\n",
       "    (se_act): ReLU(inplace=True)\n",
       "    (conv_expand): Conv2d(4, 128, kernel_size=(1, 1), stride=(1, 1))\n",
       "    (gate): Sigmoid()\n",
       "  )\n",
       ")"
      ]
     },
     "execution_count": 37,
     "metadata": {},
     "output_type": "execute_result"
    }
   ],
   "source": [
    "#collapse_output\n",
    "se_block = SEModuleConv(128, reduction=32)\n",
    "se_block"
   ]
  },
  {
   "cell_type": "code",
   "execution_count": 38,
   "metadata": {
    "ExecuteTime": {
     "end_time": "2021-08-11T15:44:58.570883Z",
     "start_time": "2021-08-11T15:44:58.530689Z"
    }
   },
   "outputs": [
    {
     "name": "stdout",
     "output_type": "stream",
     "text": [
      "torch.Size([8, 128, 32, 32])\n"
     ]
    }
   ],
   "source": [
    "#hide\n",
    "bs = 8\n",
    "xb = torch.randn(bs, 128, 32, 32)\n",
    "y = se_block(xb)\n",
    "print(y.shape)\n",
    "assert y.shape == torch.Size([bs, 128, 32, 32]), f\"size\""
   ]
  },
  {
   "cell_type": "code",
   "execution_count": 39,
   "metadata": {
    "ExecuteTime": {
     "end_time": "2021-08-11T15:44:58.343217Z",
     "start_time": "2021-08-11T15:44:58.332669Z"
    }
   },
   "outputs": [
    {
     "data": {
      "text/plain": [
       "SEModuleConv(\n",
       "  (squeeze): AdaptiveAvgPool2d(output_size=1)\n",
       "  (excitation): Sequential(\n",
       "    (conv_reduce): Conv2d(128, 32, kernel_size=(1, 1), stride=(1, 1))\n",
       "    (se_act): ReLU(inplace=True)\n",
       "    (conv_expand): Conv2d(32, 128, kernel_size=(1, 1), stride=(1, 1))\n",
       "    (gate): Sigmoid()\n",
       "  )\n",
       ")"
      ]
     },
     "execution_count": 39,
     "metadata": {},
     "output_type": "execute_result"
    }
   ],
   "source": [
    "#collapse_output\n",
    "se_block = SEModuleConv(128, rd_channels=32)\n",
    "se_block"
   ]
  },
  {
   "cell_type": "code",
   "execution_count": 40,
   "metadata": {
    "ExecuteTime": {
     "end_time": "2021-08-11T15:44:58.570883Z",
     "start_time": "2021-08-11T15:44:58.530689Z"
    }
   },
   "outputs": [
    {
     "name": "stdout",
     "output_type": "stream",
     "text": [
      "torch.Size([8, 128, 32, 32])\n"
     ]
    }
   ],
   "source": [
    "#hide\n",
    "bs = 8\n",
    "xb = torch.randn(bs, 128, 32, 32)\n",
    "y = se_block(xb)\n",
    "print(y.shape)\n",
    "assert y.shape == torch.Size([bs, 128, 32, 32]), f\"size\""
   ]
  },
  {
   "cell_type": "code",
   "execution_count": 41,
   "metadata": {
    "ExecuteTime": {
     "end_time": "2021-08-11T15:44:58.343217Z",
     "start_time": "2021-08-11T15:44:58.332669Z"
    }
   },
   "outputs": [
    {
     "data": {
      "text/plain": [
       "SEModuleConv(\n",
       "  (squeeze): AdaptiveAvgPool2d(output_size=1)\n",
       "  (excitation): Sequential(\n",
       "    (conv_reduce): Conv2d(128, 32, kernel_size=(1, 1), stride=(1, 1))\n",
       "    (se_act): ReLU(inplace=True)\n",
       "    (conv_expand): Conv2d(32, 128, kernel_size=(1, 1), stride=(1, 1))\n",
       "    (gate): Sigmoid()\n",
       "  )\n",
       ")"
      ]
     },
     "execution_count": 41,
     "metadata": {},
     "output_type": "execute_result"
    }
   ],
   "source": [
    "#collapse_output\n",
    "se_block = SEModuleConv(128, reduction=4, rd_channels=16, rd_max=True)\n",
    "se_block"
   ]
  },
  {
   "cell_type": "code",
   "execution_count": 42,
   "metadata": {
    "ExecuteTime": {
     "end_time": "2021-08-11T15:44:58.570883Z",
     "start_time": "2021-08-11T15:44:58.530689Z"
    }
   },
   "outputs": [
    {
     "name": "stdout",
     "output_type": "stream",
     "text": [
      "torch.Size([8, 128, 32, 32])\n"
     ]
    }
   ],
   "source": [
    "#hide\n",
    "bs = 8\n",
    "xb = torch.randn(bs, 128, 32, 32)\n",
    "y = se_block(xb)\n",
    "print(y.shape)\n",
    "assert y.shape == torch.Size([bs, 128, 32, 32]), f\"size\""
   ]
  },
  {
   "cell_type": "markdown",
   "metadata": {},
   "source": [
    "## SEBlock"
   ]
  },
  {
   "cell_type": "markdown",
   "metadata": {},
   "source": [
    "First version of SE block, leaved for compatibility."
   ]
  },
  {
   "cell_type": "code",
   "execution_count": 43,
   "metadata": {},
   "outputs": [],
   "source": [
    "#hide\n",
    "from model_constructor.layers import SEBlock"
   ]
  },
  {
   "cell_type": "code",
   "execution_count": 44,
   "metadata": {},
   "outputs": [
    {
     "data": {
      "text/markdown": [
       "<h4 id=\"SEBlock\" class=\"doc_header\"><code>class</code> <code>SEBlock</code><a href=\"https://github.com/ayasyrev/model_constructor/tree/master/model_constructor/layers.py#L105\" class=\"source_link\" style=\"float:right\">[source]</a></h4>\n",
       "\n",
       "> <code>SEBlock</code>(**`c`**, **`r`**=*`16`*) :: `Module`\n",
       "\n",
       "se block"
      ],
      "text/plain": [
       "<IPython.core.display.Markdown object>"
      ]
     },
     "metadata": {},
     "output_type": "display_data"
    }
   ],
   "source": [
    "# hide_input\n",
    "# Markdown(show_doc(SEBlock, title_level=4))\n",
    "print_doc(SEBlock)"
   ]
  },
  {
   "cell_type": "code",
   "execution_count": 45,
   "metadata": {
    "ExecuteTime": {
     "end_time": "2021-08-11T15:44:58.343217Z",
     "start_time": "2021-08-11T15:44:58.332669Z"
    }
   },
   "outputs": [
    {
     "data": {
      "text/plain": [
       "SEBlock(\n",
       "  (squeeze): AdaptiveAvgPool2d(output_size=1)\n",
       "  (excitation): Sequential(\n",
       "    (fc_reduce): Linear(in_features=128, out_features=8, bias=True)\n",
       "    (se_act): ReLU(inplace=True)\n",
       "    (fc_expand): Linear(in_features=8, out_features=128, bias=True)\n",
       "    (sigmoid): Sigmoid()\n",
       "  )\n",
       ")"
      ]
     },
     "execution_count": 45,
     "metadata": {},
     "output_type": "execute_result"
    }
   ],
   "source": [
    "#collapse_output\n",
    "se_block = SEBlock(128)\n",
    "se_block"
   ]
  },
  {
   "cell_type": "code",
   "execution_count": 46,
   "metadata": {
    "ExecuteTime": {
     "end_time": "2021-08-11T15:44:58.570883Z",
     "start_time": "2021-08-11T15:44:58.530689Z"
    }
   },
   "outputs": [
    {
     "name": "stdout",
     "output_type": "stream",
     "text": [
      "torch.Size([8, 128, 32, 32])\n"
     ]
    }
   ],
   "source": [
    "#hide\n",
    "bs = 8\n",
    "xb = torch.randn(bs, 128, 32, 32)\n",
    "y = se_block(xb)\n",
    "print(y.shape)\n",
    "assert y.shape == torch.Size([bs, 128, 32, 32]), f\"size\""
   ]
  },
  {
   "cell_type": "markdown",
   "metadata": {},
   "source": [
    "## SEBlockConv"
   ]
  },
  {
   "cell_type": "markdown",
   "metadata": {},
   "source": [
    "First version of SEBlockConv, leaved for compatibility."
   ]
  },
  {
   "cell_type": "code",
   "execution_count": 47,
   "metadata": {},
   "outputs": [
    {
     "data": {
      "text/markdown": [
       "<h4 id=\"SEBlockConv\" class=\"doc_header\"><code>class</code> <code>SEBlockConv</code><a href=\"https://github.com/ayasyrev/model_constructor/tree/master/model_constructor/layers.py#L129\" class=\"source_link\" style=\"float:right\">[source]</a></h4>\n",
       "\n",
       "> <code>SEBlockConv</code>(**`c`**, **`r`**=*`16`*) :: `Module`\n",
       "\n",
       "se block with conv on excitation"
      ],
      "text/plain": [
       "<IPython.core.display.Markdown object>"
      ]
     },
     "metadata": {},
     "output_type": "display_data"
    }
   ],
   "source": [
    "# hide_input\n",
    "from model_constructor.layers import SEBlockConv\n",
    "print_doc(SEBlockConv)"
   ]
  },
  {
   "cell_type": "code",
   "execution_count": 48,
   "metadata": {
    "ExecuteTime": {
     "end_time": "2021-08-11T15:44:59.189301Z",
     "start_time": "2021-08-11T15:44:59.177022Z"
    }
   },
   "outputs": [
    {
     "data": {
      "text/plain": [
       "SEBlockConv(\n",
       "  (squeeze): AdaptiveAvgPool2d(output_size=1)\n",
       "  (excitation): Sequential(\n",
       "    (conv_reduce): Conv2d(128, 8, kernel_size=(1, 1), stride=(1, 1))\n",
       "    (se_act): ReLU(inplace=True)\n",
       "    (conv_expand): Conv2d(8, 128, kernel_size=(1, 1), stride=(1, 1))\n",
       "    (sigmoid): Sigmoid()\n",
       "  )\n",
       ")"
      ]
     },
     "execution_count": 48,
     "metadata": {},
     "output_type": "execute_result"
    }
   ],
   "source": [
    "#collapse_output\n",
    "se_block = SEBlockConv(128)\n",
    "se_block"
   ]
  },
  {
   "cell_type": "code",
   "execution_count": 49,
   "metadata": {
    "ExecuteTime": {
     "end_time": "2021-08-11T15:44:59.406923Z",
     "start_time": "2021-08-11T15:44:59.362600Z"
    }
   },
   "outputs": [
    {
     "name": "stdout",
     "output_type": "stream",
     "text": [
      "torch.Size([8, 128, 32, 32])\n"
     ]
    }
   ],
   "source": [
    "#hide\n",
    "bs = 8\n",
    "xb = torch.randn(bs, 128, 32, 32)\n",
    "y = se_block(xb)\n",
    "print(y.shape)\n",
    "assert y.shape == torch.Size([bs, 128, 32, 32]), f\"size\""
   ]
  },
  {
   "cell_type": "markdown",
   "metadata": {},
   "source": [
    "## end\n",
    "model_constructor\n",
    "by ayasyrev"
   ]
  }
 ],
 "metadata": {
  "interpreter": {
   "hash": "460c8d17e5de1304fcc9388854d8b1e7fdd10d3c58b2d7b68fabbdff2124405d"
  },
  "kernelspec": {
   "display_name": "Python 3.9.6 64-bit ('mc_dev': conda)",
   "name": "python3"
  },
  "language_info": {
   "codemirror_mode": {
    "name": "ipython",
    "version": 3
   },
   "file_extension": ".py",
   "mimetype": "text/x-python",
   "name": "python",
   "nbconvert_exporter": "python",
   "pygments_lexer": "ipython3",
   "version": "3.8.10"
  },
  "toc": {
   "base_numbering": 1,
   "nav_menu": {},
   "number_sections": true,
   "sideBar": true,
   "skip_h1_title": false,
   "title_cell": "Table of Contents",
   "title_sidebar": "Contents",
   "toc_cell": false,
   "toc_position": {
    "height": "calc(100% - 180px)",
    "left": "10px",
    "top": "150px",
    "width": "341.333px"
   },
   "toc_section_display": true,
   "toc_window_display": true
  }
 },
 "nbformat": 4,
 "nbformat_minor": 2
}
