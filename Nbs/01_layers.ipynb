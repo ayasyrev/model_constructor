{
 "cells": [
  {
   "cell_type": "markdown",
   "source": [
    "# Layers\n",
    "\n",
    "> Basic layers for constructor."
   ],
   "metadata": {}
  },
  {
   "cell_type": "code",
   "execution_count": 1,
   "source": [
    "#hide\n",
    "from nbdev.showdoc import show_doc\n",
    "from IPython.display import Markdown, display"
   ],
   "outputs": [],
   "metadata": {
    "ExecuteTime": {
     "end_time": "2021-08-11T16:34:43.007417Z",
     "start_time": "2021-08-11T16:34:42.829843Z"
    }
   }
  },
  {
   "cell_type": "code",
   "execution_count": 2,
   "source": [
    "#hide\n",
    "import torch.nn as nn\n",
    "import torch\n",
    "from collections import OrderedDict"
   ],
   "outputs": [],
   "metadata": {
    "ExecuteTime": {
     "end_time": "2021-08-11T16:34:45.654722Z",
     "start_time": "2021-08-11T16:34:45.085125Z"
    }
   }
  },
  {
   "cell_type": "code",
   "execution_count": 3,
   "source": [
    "# hide\n",
    "def print_doc(func_name):\n",
    "    doc = show_doc(func_name, title_level=4, disp=False)\n",
    "    display(Markdown(doc))"
   ],
   "outputs": [],
   "metadata": {}
  },
  {
   "cell_type": "markdown",
   "source": [
    "## Flatten layer"
   ],
   "metadata": {}
  },
  {
   "cell_type": "code",
   "execution_count": 4,
   "source": [
    "#hide\n",
    "from model_constructor.layers import Flatten, noop, Noop"
   ],
   "outputs": [],
   "metadata": {
    "ExecuteTime": {
     "end_time": "2021-08-11T16:34:45.996818Z",
     "start_time": "2021-08-11T16:34:45.982654Z"
    }
   }
  },
  {
   "cell_type": "code",
   "execution_count": 5,
   "source": [
    "#hide_input\n",
    "# show_doc(Flatten, title_level=4)\n",
    "# flatten_doc = show_doc(Flatten, title_level=4, disp=False)\n",
    "# Markdown(flatten_doc)\n",
    "\n",
    "print_doc(Flatten)"
   ],
   "outputs": [
    {
     "output_type": "display_data",
     "data": {
      "text/plain": [
       "<IPython.core.display.Markdown object>"
      ],
      "text/markdown": [
       "<h4 id=\"Flatten\" class=\"doc_header\"><code>class</code> <code>Flatten</code><a href=\"https://github.com/ayasyrev/model_constructor/tree/master/model_constructor/layers.py#L11\" class=\"source_link\" style=\"float:right\">[source]</a></h4>\n",
       "\n",
       "> <code>Flatten</code>() :: `Module`\n",
       "\n",
       "flat x to vector"
      ]
     },
     "metadata": {}
    }
   ],
   "metadata": {
    "ExecuteTime": {
     "end_time": "2021-08-11T16:34:54.998866Z",
     "start_time": "2021-08-11T16:34:54.984142Z"
    }
   }
  },
  {
   "cell_type": "markdown",
   "source": [
    "## Noop - dummy func and module."
   ],
   "metadata": {}
  },
  {
   "cell_type": "code",
   "execution_count": 6,
   "source": [
    "#hide_input\n",
    "# show_doc(noop)\n",
    "# doc = show_doc(noop, disp=False)\n",
    "# display(Markdown(doc))\n",
    "print_doc(noop)"
   ],
   "outputs": [
    {
     "output_type": "display_data",
     "data": {
      "text/plain": [
       "<IPython.core.display.Markdown object>"
      ],
      "text/markdown": [
       "<h4 id=\"noop\" class=\"doc_header\"><code>noop</code><a href=\"https://github.com/ayasyrev/model_constructor/tree/master/model_constructor/layers.py#L20\" class=\"source_link\" style=\"float:right\">[source]</a></h4>\n",
       "\n",
       "> <code>noop</code>(**`x`**)\n",
       "\n",
       "Dummy func. Return input"
      ]
     },
     "metadata": {}
    }
   ],
   "metadata": {
    "ExecuteTime": {
     "end_time": "2021-08-11T15:44:55.119562Z",
     "start_time": "2021-08-11T15:44:55.103484Z"
    }
   }
  },
  {
   "cell_type": "code",
   "execution_count": 7,
   "source": [
    "#hide_input\n",
    "# show_doc(Noop, title_level=4)\n",
    "# doc = show_doc(Noop, title_level=4, disp=False)\n",
    "# Markdown(doc)\n",
    "print_doc(Noop)"
   ],
   "outputs": [
    {
     "output_type": "display_data",
     "data": {
      "text/plain": [
       "<IPython.core.display.Markdown object>"
      ],
      "text/markdown": [
       "<h4 id=\"Noop\" class=\"doc_header\"><code>class</code> <code>Noop</code><a href=\"https://github.com/ayasyrev/model_constructor/tree/master/model_constructor/layers.py#L25\" class=\"source_link\" style=\"float:right\">[source]</a></h4>\n",
       "\n",
       "> <code>Noop</code>() :: `Module`\n",
       "\n",
       "Dummy module"
      ]
     },
     "metadata": {}
    }
   ],
   "metadata": {
    "ExecuteTime": {
     "end_time": "2021-08-11T16:35:14.225068Z",
     "start_time": "2021-08-11T16:35:14.208899Z"
    }
   }
  },
  {
   "cell_type": "markdown",
   "source": [
    "## ConvLayer - nn.module"
   ],
   "metadata": {}
  },
  {
   "cell_type": "code",
   "execution_count": 8,
   "source": [
    "#hide\n",
    "from model_constructor.layers import ConvLayer"
   ],
   "outputs": [],
   "metadata": {
    "ExecuteTime": {
     "end_time": "2021-08-11T16:35:21.435560Z",
     "start_time": "2021-08-11T16:35:21.430089Z"
    }
   }
  },
  {
   "cell_type": "code",
   "execution_count": 9,
   "source": [
    "# hide_input\n",
    "# show_doc(ConvLayer, title_level=4)\n",
    "# doc = show_doc(ConvLayer, title_level=4, disp=False)\n",
    "# Markdown(doc)\n",
    "print_doc(ConvLayer)"
   ],
   "outputs": [
    {
     "output_type": "display_data",
     "data": {
      "text/plain": [
       "<IPython.core.display.Markdown object>"
      ],
      "text/markdown": [
       "<h4 id=\"ConvLayer\" class=\"doc_header\"><code>class</code> <code>ConvLayer</code><a href=\"https://github.com/ayasyrev/model_constructor/tree/master/model_constructor/layers.py#L37\" class=\"source_link\" style=\"float:right\">[source]</a></h4>\n",
       "\n",
       "> <code>ConvLayer</code>(**`ni`**, **`nf`**, **`ks`**=*`3`*, **`stride`**=*`1`*, **`act`**=*`True`*, **`act_fn`**=*`ReLU(inplace=True)`*, **`bn_layer`**=*`True`*, **`bn_1st`**=*`True`*, **`zero_bn`**=*`False`*, **`padding`**=*`None`*, **`bias`**=*`False`*, **`groups`**=*`1`*, **\\*\\*`kwargs`**) :: `Sequential`\n",
       "\n",
       "Basic conv layers block"
      ]
     },
     "metadata": {}
    }
   ],
   "metadata": {
    "ExecuteTime": {
     "end_time": "2021-08-11T16:35:29.238261Z",
     "start_time": "2021-08-11T16:35:29.229345Z"
    }
   }
  },
  {
   "cell_type": "code",
   "execution_count": 10,
   "source": [
    "#collapse_output\n",
    "conv_layer = ConvLayer(32, 64, act=False)\n",
    "conv_layer"
   ],
   "outputs": [
    {
     "output_type": "execute_result",
     "data": {
      "text/plain": [
       "ConvLayer(\n",
       "  (conv): Conv2d(32, 64, kernel_size=(3, 3), stride=(1, 1), padding=(1, 1), bias=False)\n",
       "  (bn): BatchNorm2d(64, eps=1e-05, momentum=0.1, affine=True, track_running_stats=True)\n",
       ")"
      ]
     },
     "metadata": {},
     "execution_count": 10
    }
   ],
   "metadata": {
    "ExecuteTime": {
     "end_time": "2021-08-11T15:44:56.242450Z",
     "start_time": "2021-08-11T15:44:56.231392Z"
    }
   }
  },
  {
   "cell_type": "code",
   "execution_count": 11,
   "source": [
    "#collapse_output\n",
    "conv_layer = ConvLayer(32, 64, bn_layer=False)\n",
    "conv_layer"
   ],
   "outputs": [
    {
     "output_type": "execute_result",
     "data": {
      "text/plain": [
       "ConvLayer(\n",
       "  (conv): Conv2d(32, 64, kernel_size=(3, 3), stride=(1, 1), padding=(1, 1), bias=False)\n",
       "  (act_fn): ReLU(inplace=True)\n",
       ")"
      ]
     },
     "metadata": {},
     "execution_count": 11
    }
   ],
   "metadata": {
    "ExecuteTime": {
     "end_time": "2021-08-11T15:44:56.462424Z",
     "start_time": "2021-08-11T15:44:56.450423Z"
    }
   }
  },
  {
   "cell_type": "code",
   "execution_count": 12,
   "source": [
    "#collapse_output\n",
    "conv_layer = ConvLayer(32, 64, bn_1st=True)\n",
    "conv_layer"
   ],
   "outputs": [
    {
     "output_type": "execute_result",
     "data": {
      "text/plain": [
       "ConvLayer(\n",
       "  (conv): Conv2d(32, 64, kernel_size=(3, 3), stride=(1, 1), padding=(1, 1), bias=False)\n",
       "  (bn): BatchNorm2d(64, eps=1e-05, momentum=0.1, affine=True, track_running_stats=True)\n",
       "  (act_fn): ReLU(inplace=True)\n",
       ")"
      ]
     },
     "metadata": {},
     "execution_count": 12
    }
   ],
   "metadata": {
    "ExecuteTime": {
     "end_time": "2021-08-11T15:44:56.667542Z",
     "start_time": "2021-08-11T15:44:56.660962Z"
    }
   }
  },
  {
   "cell_type": "code",
   "execution_count": 13,
   "source": [
    "#collapse_output\n",
    "conv_layer = ConvLayer(32, 64, bn_1st=True, act_fn=nn.LeakyReLU())\n",
    "conv_layer"
   ],
   "outputs": [
    {
     "output_type": "execute_result",
     "data": {
      "text/plain": [
       "ConvLayer(\n",
       "  (conv): Conv2d(32, 64, kernel_size=(3, 3), stride=(1, 1), padding=(1, 1), bias=False)\n",
       "  (bn): BatchNorm2d(64, eps=1e-05, momentum=0.1, affine=True, track_running_stats=True)\n",
       "  (act_fn): LeakyReLU(negative_slope=0.01)\n",
       ")"
      ]
     },
     "metadata": {},
     "execution_count": 13
    }
   ],
   "metadata": {
    "ExecuteTime": {
     "end_time": "2021-08-11T15:44:56.905543Z",
     "start_time": "2021-08-11T15:44:56.900817Z"
    }
   }
  },
  {
   "cell_type": "code",
   "execution_count": 14,
   "source": [
    "#hide\n",
    "bs = 8\n",
    "xb = torch.randn(bs, 32, 32, 32)\n",
    "y = conv_layer(xb)\n",
    "y.shape\n",
    "assert y.shape == torch.Size([bs, 64, 32, 32])"
   ],
   "outputs": [],
   "metadata": {
    "ExecuteTime": {
     "end_time": "2021-08-11T15:44:57.154044Z",
     "start_time": "2021-08-11T15:44:57.115266Z"
    }
   }
  },
  {
   "cell_type": "markdown",
   "source": [
    "## SimpleSelfAttention"
   ],
   "metadata": {}
  },
  {
   "cell_type": "markdown",
   "source": [
    "SA module from mxresnet at fastai."
   ],
   "metadata": {}
  },
  {
   "cell_type": "code",
   "execution_count": 15,
   "source": [
    "# hide\n",
    "from model_constructor.layers import conv1d, SimpleSelfAttention"
   ],
   "outputs": [],
   "metadata": {}
  },
  {
   "cell_type": "code",
   "execution_count": 16,
   "source": [
    "#hide_input\n",
    "# doc = show_doc(conv1d, title_level=4, disp=False)\n",
    "# Markdown(doc)\n",
    "print_doc(conv1d)"
   ],
   "outputs": [
    {
     "output_type": "display_data",
     "data": {
      "text/plain": [
       "<IPython.core.display.Markdown object>"
      ],
      "text/markdown": [
       "<h4 id=\"conv1d\" class=\"doc_header\"><code>conv1d</code><a href=\"https://github.com/ayasyrev/model_constructor/tree/master/model_constructor/layers.py#L65\" class=\"source_link\" style=\"float:right\">[source]</a></h4>\n",
       "\n",
       "> <code>conv1d</code>(**`ni`**:`int`, **`no`**:`int`, **`ks`**:`int`=*`1`*, **`stride`**:`int`=*`1`*, **`padding`**:`int`=*`0`*, **`bias`**:`bool`=*`False`*)\n",
       "\n",
       "Create and initialize a `nn.Conv1d` layer with spectral normalization."
      ]
     },
     "metadata": {}
    }
   ],
   "metadata": {}
  },
  {
   "cell_type": "code",
   "execution_count": 17,
   "source": [
    "# doc = show_doc(SimpleSelfAttention, title_level=4, disp=False)\n",
    "# Markdown(doc)\n",
    "print_doc(SimpleSelfAttention)"
   ],
   "outputs": [
    {
     "output_type": "display_data",
     "data": {
      "text/plain": [
       "<IPython.core.display.Markdown object>"
      ],
      "text/markdown": [
       "<h4 id=\"SimpleSelfAttention\" class=\"doc_header\"><code>class</code> <code>SimpleSelfAttention</code><a href=\"https://github.com/ayasyrev/model_constructor/tree/master/model_constructor/layers.py#L74\" class=\"source_link\" style=\"float:right\">[source]</a></h4>\n",
       "\n",
       "> <code>SimpleSelfAttention</code>(**`n_in`**:`int`, **`ks`**=*`1`*, **`sym`**=*`False`*) :: `Module`\n",
       "\n",
       "SimpleSelfAttention module.  \n",
       "Adapted from SelfAttention layer at  \n",
       "https://github.com/fastai/fastai/blob/5c51f9eabf76853a89a9bc5741804d2ed4407e49/fastai/layers.py  \n",
       "Inspired by https://arxiv.org/pdf/1805.08318.pdf  "
      ]
     },
     "metadata": {}
    }
   ],
   "metadata": {}
  },
  {
   "cell_type": "markdown",
   "source": [
    "## SE Block"
   ],
   "metadata": {}
  },
  {
   "cell_type": "code",
   "execution_count": 18,
   "source": [
    "#hide\n",
    "from model_constructor.layers import SEBlock"
   ],
   "outputs": [],
   "metadata": {}
  },
  {
   "cell_type": "code",
   "execution_count": 26,
   "source": [
    "# hide_input\n",
    "# Markdown(show_doc(SEBlock, title_level=4))\n",
    "print_doc(SEBlock)"
   ],
   "outputs": [
    {
     "output_type": "display_data",
     "data": {
      "text/plain": [
       "<IPython.core.display.Markdown object>"
      ],
      "text/markdown": [
       "<h4 id=\"SEBlock\" class=\"doc_header\"><code>class</code> <code>SEBlock</code><a href=\"https://github.com/ayasyrev/model_constructor/tree/master/model_constructor/layers.py#L105\" class=\"source_link\" style=\"float:right\">[source]</a></h4>\n",
       "\n",
       "> <code>SEBlock</code>(**`c`**, **`r`**=*`16`*) :: `Module`\n",
       "\n",
       "se block"
      ]
     },
     "metadata": {}
    }
   ],
   "metadata": {}
  },
  {
   "cell_type": "code",
   "execution_count": 21,
   "source": [
    "#collapse_output\n",
    "se_block = SEBlock(128)\n",
    "se_block"
   ],
   "outputs": [
    {
     "output_type": "execute_result",
     "data": {
      "text/plain": [
       "SEBlock(\n",
       "  (squeeze): AdaptiveAvgPool2d(output_size=1)\n",
       "  (excitation): Sequential(\n",
       "    (fc_reduce): Linear(in_features=128, out_features=8, bias=False)\n",
       "    (se_act): ReLU(inplace=True)\n",
       "    (fc_expand): Linear(in_features=8, out_features=128, bias=False)\n",
       "    (sigmoid): Sigmoid()\n",
       "  )\n",
       ")"
      ]
     },
     "metadata": {},
     "execution_count": 21
    }
   ],
   "metadata": {
    "ExecuteTime": {
     "end_time": "2021-08-11T15:44:58.343217Z",
     "start_time": "2021-08-11T15:44:58.332669Z"
    }
   }
  },
  {
   "cell_type": "code",
   "execution_count": 22,
   "source": [
    "#hide\n",
    "bs = 8\n",
    "xb = torch.randn(bs, 128, 32, 32)\n",
    "y = se_block(xb)\n",
    "print(y.shape)\n",
    "assert y.shape == torch.Size([bs, 128, 32, 32]), f\"size\""
   ],
   "outputs": [
    {
     "output_type": "stream",
     "name": "stdout",
     "text": [
      "torch.Size([8, 128, 32, 32])\n"
     ]
    }
   ],
   "metadata": {
    "ExecuteTime": {
     "end_time": "2021-08-11T15:44:58.570883Z",
     "start_time": "2021-08-11T15:44:58.530689Z"
    }
   }
  },
  {
   "cell_type": "markdown",
   "source": [
    "## SEBlockConv"
   ],
   "metadata": {}
  },
  {
   "cell_type": "code",
   "execution_count": 23,
   "source": [
    "# hide_input\n",
    "from model_constructor.layers import SEBlockConv\n",
    "print_doc(SEBlockConv)"
   ],
   "outputs": [
    {
     "output_type": "display_data",
     "data": {
      "text/plain": [
       "<IPython.core.display.Markdown object>"
      ],
      "text/markdown": [
       "<h4 id=\"SEBlockConv\" class=\"doc_header\"><code>class</code> <code>SEBlockConv</code><a href=\"https://github.com/ayasyrev/model_constructor/tree/master/model_constructor/layers.py#L128\" class=\"source_link\" style=\"float:right\">[source]</a></h4>\n",
       "\n",
       "> <code>SEBlockConv</code>(**`c`**, **`r`**=*`16`*) :: `Module`\n",
       "\n",
       "se block with conv on excitation"
      ]
     },
     "metadata": {}
    }
   ],
   "metadata": {}
  },
  {
   "cell_type": "code",
   "execution_count": 24,
   "source": [
    "#collapse_output\n",
    "se_block = SEBlockConv(128)\n",
    "se_block"
   ],
   "outputs": [
    {
     "output_type": "execute_result",
     "data": {
      "text/plain": [
       "SEBlockConv(\n",
       "  (squeeze): AdaptiveAvgPool2d(output_size=1)\n",
       "  (excitation): Sequential(\n",
       "    (conv_reduce): Conv2d(128, 8, kernel_size=(1, 1), stride=(1, 1), bias=False)\n",
       "    (se_act): ReLU(inplace=True)\n",
       "    (conv_expand): Conv2d(8, 128, kernel_size=(1, 1), stride=(1, 1), bias=False)\n",
       "    (sigmoid): Sigmoid()\n",
       "  )\n",
       ")"
      ]
     },
     "metadata": {},
     "execution_count": 24
    }
   ],
   "metadata": {
    "ExecuteTime": {
     "end_time": "2021-08-11T15:44:59.189301Z",
     "start_time": "2021-08-11T15:44:59.177022Z"
    }
   }
  },
  {
   "cell_type": "code",
   "execution_count": 25,
   "source": [
    "#hide\n",
    "bs = 8\n",
    "xb = torch.randn(bs, 128, 32, 32)\n",
    "y = se_block(xb)\n",
    "print(y.shape)\n",
    "assert y.shape == torch.Size([bs, 128, 32, 32]), f\"size\""
   ],
   "outputs": [
    {
     "output_type": "stream",
     "name": "stdout",
     "text": [
      "torch.Size([8, 128, 32, 32])\n"
     ]
    }
   ],
   "metadata": {
    "ExecuteTime": {
     "end_time": "2021-08-11T15:44:59.406923Z",
     "start_time": "2021-08-11T15:44:59.362600Z"
    }
   }
  },
  {
   "cell_type": "markdown",
   "source": [
    "## end\n",
    "model_constructor\n",
    "by ayasyrev"
   ],
   "metadata": {}
  }
 ],
 "metadata": {
  "kernelspec": {
   "name": "python3",
   "display_name": "Python 3.9.6 64-bit ('mc_dev': conda)"
  },
  "language_info": {
   "codemirror_mode": {
    "name": "ipython",
    "version": 3
   },
   "file_extension": ".py",
   "mimetype": "text/x-python",
   "name": "python",
   "nbconvert_exporter": "python",
   "pygments_lexer": "ipython3",
   "version": "3.9.6"
  },
  "toc": {
   "base_numbering": 1,
   "nav_menu": {},
   "number_sections": true,
   "sideBar": true,
   "skip_h1_title": false,
   "title_cell": "Table of Contents",
   "title_sidebar": "Contents",
   "toc_cell": false,
   "toc_position": {
    "height": "calc(100% - 180px)",
    "left": "10px",
    "top": "150px",
    "width": "341.333px"
   },
   "toc_section_display": true,
   "toc_window_display": true
  },
  "interpreter": {
   "hash": "460c8d17e5de1304fcc9388854d8b1e7fdd10d3c58b2d7b68fabbdff2124405d"
  }
 },
 "nbformat": 4,
 "nbformat_minor": 2
}