{
 "cells": [
  {
   "cell_type": "code",
   "execution_count": null,
   "metadata": {},
   "outputs": [],
   "source": [
    "# default_exp core"
   ]
  },
  {
   "cell_type": "markdown",
   "metadata": {},
   "source": [
    "# model_constructor\n",
    "\n",
    "> Create pytorch model."
   ]
  },
  {
   "cell_type": "code",
   "execution_count": null,
   "metadata": {},
   "outputs": [],
   "source": [
    "#hide\n",
    "from nbdev.showdoc import *\n",
    "from fastcore.test import *"
   ]
  },
  {
   "cell_type": "code",
   "execution_count": null,
   "metadata": {},
   "outputs": [],
   "source": [
    "# hide\n",
    "# from model_constructor.core import *\n",
    "import torch.nn as nn\n",
    "from collections import OrderedDict"
   ]
  },
  {
   "cell_type": "code",
   "execution_count": null,
   "metadata": {},
   "outputs": [],
   "source": [
    "test_eq(1, 1**2)"
   ]
  },
  {
   "cell_type": "code",
   "execution_count": null,
   "metadata": {},
   "outputs": [],
   "source": [
    "# test_eq(1, 2)"
   ]
  },
  {
   "cell_type": "markdown",
   "metadata": {},
   "source": [
    "# class Net"
   ]
  },
  {
   "cell_type": "code",
   "execution_count": null,
   "metadata": {},
   "outputs": [],
   "source": [
    "# export \n",
    "class Net(nn.Sequential):\n",
    "    '''Constructor for model'''\n",
    "    def __init__(self, \n",
    "#                  stem=Stem3L, body=Body, head=Head,\n",
    "        # layers=[2,2,2,2,2], num_blocks=2, \n",
    "        last_block_head=False,\n",
    "        c_in=3, body_in=64, body_out=512, expansion=1, num_classes=10, \n",
    "        init_type='normal', corr_first=False, **kwargs):\n",
    "        # c_in = 3\n",
    "        # block_szs  = [64,128,128,256,256,512]\n",
    "        super().__init__(OrderedDict([\n",
    "#             ('stem', stem(c_in=c_in,stem_out=body_in, corr_first=corr_first)),\n",
    "#             ('body', body(body_in, body_out, expansion, corr_first=corr_first, **kwargs)),\n",
    "#             ('head', head(body_out*expansion, num_classes))\n",
    "            ]))\n",
    "#         init_cnn(self, init_type=init_type)"
   ]
  },
  {
   "cell_type": "code",
   "execution_count": null,
   "metadata": {},
   "outputs": [],
   "source": [
    "model = Net()"
   ]
  },
  {
   "cell_type": "code",
   "execution_count": null,
   "metadata": {},
   "outputs": [
    {
     "data": {
      "text/plain": [
       "Net()"
      ]
     },
     "execution_count": null,
     "metadata": {},
     "output_type": "execute_result"
    }
   ],
   "source": [
    "model"
   ]
  },
  {
   "cell_type": "code",
   "execution_count": null,
   "metadata": {},
   "outputs": [],
   "source": []
  }
 ],
 "metadata": {
  "kernelspec": {
   "display_name": "Python 3",
   "language": "python",
   "name": "python3"
  }
 },
 "nbformat": 4,
 "nbformat_minor": 2
}
