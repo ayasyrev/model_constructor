{
 "cells": [
  {
   "cell_type": "code",
   "execution_count": 1,
   "metadata": {
    "ExecuteTime": {
     "end_time": "2020-09-15T07:44:19.736730Z",
     "start_time": "2020-09-15T07:44:19.154933Z"
    },
    "hide_input": true
   },
   "outputs": [],
   "source": [
    "from nbdev import *"
   ]
  },
  {
   "cell_type": "code",
   "execution_count": 2,
   "metadata": {
    "ExecuteTime": {
     "end_time": "2020-09-15T07:44:20.901006Z",
     "start_time": "2020-09-15T07:44:20.888522Z"
    }
   },
   "outputs": [
    {
     "name": "stdout",
     "output_type": "stream",
     "text": [
      "Cells will be exported to model_constructor.constructor,\n",
      "unless a different module is specified after an export flag: `%nbdev_export special.module`\n"
     ]
    }
   ],
   "source": [
    "%nbdev_default_export constructor"
   ]
  },
  {
   "cell_type": "markdown",
   "metadata": {},
   "source": [
    "# model_constructor\n",
    "\n",
    "> Create pytorch model."
   ]
  },
  {
   "cell_type": "code",
   "execution_count": 3,
   "metadata": {
    "ExecuteTime": {
     "end_time": "2020-09-15T07:44:43.817966Z",
     "start_time": "2020-09-15T07:44:43.812740Z"
    }
   },
   "outputs": [],
   "source": [
    "%nbdev_hide\n",
    "from nbdev.showdoc import *\n",
    "from fastcore.test import *"
   ]
  },
  {
   "cell_type": "code",
   "execution_count": 31,
   "metadata": {
    "ExecuteTime": {
     "end_time": "2020-09-15T07:47:53.716094Z",
     "start_time": "2020-09-15T07:47:53.712373Z"
    }
   },
   "outputs": [],
   "source": [
    "%nbdev_export\n",
    "import torch.nn as nn\n",
    "import torch\n",
    "from collections import OrderedDict\n",
    "from model_constructor.layers import ConvLayer, Noop, Flatten"
   ]
  },
  {
   "cell_type": "code",
   "execution_count": 17,
   "metadata": {
    "ExecuteTime": {
     "end_time": "2020-09-15T07:46:31.796210Z",
     "start_time": "2020-09-15T07:46:31.790752Z"
    }
   },
   "outputs": [],
   "source": [
    "%nbdev_export\n",
    "act_fn = nn.ReLU(inplace=True)"
   ]
  },
  {
   "cell_type": "markdown",
   "metadata": {},
   "source": [
    "# Stem"
   ]
  },
  {
   "cell_type": "code",
   "execution_count": 5,
   "metadata": {
    "ExecuteTime": {
     "end_time": "2020-09-15T07:44:48.264407Z",
     "start_time": "2020-09-15T07:44:48.221947Z"
    }
   },
   "outputs": [],
   "source": [
    "%nbdev_export\n",
    "class Stem(nn.Sequential):\n",
    "    \"\"\"Base stem\"\"\"\n",
    "    def __init__(self, c_in=3,  stem_sizes=[], stem_out=64, \n",
    "            conv_layer=ConvLayer, stride_on=0,    \n",
    "            stem_bn_last=False, bn_1st=True,   \n",
    "            stem_use_pool=True, stem_pool=nn.MaxPool2d(kernel_size=3, stride=2, padding=1), **kwargs): \n",
    "        self.sizes = [c_in] + stem_sizes + [stem_out]\n",
    "        num_layers = len(self.sizes)-1\n",
    "        stem = [(f\"conv_{i}\", conv_layer(self.sizes[i], self.sizes[i+1], \n",
    "                stride=2 if i==stride_on else 1, act=True,\n",
    "                bn_layer=not stem_bn_last if i==num_layers-1 else True, \n",
    "                bn_1st=bn_1st, **kwargs))\n",
    "                    for i in range(num_layers)]\n",
    "        if stem_use_pool: stem += [('pool', stem_pool)] \n",
    "        if stem_bn_last: stem.append(('bn', nn.BatchNorm2d(stem_out)))\n",
    "        super().__init__(OrderedDict(stem))\n",
    "    def extra_repr(self):\n",
    "            return f\"sizes: {self.sizes}\""
   ]
  },
  {
   "cell_type": "code",
   "execution_count": 6,
   "metadata": {
    "ExecuteTime": {
     "end_time": "2020-09-15T07:44:48.987592Z",
     "start_time": "2020-09-15T07:44:48.965376Z"
    }
   },
   "outputs": [
    {
     "data": {
      "text/plain": [
       "Stem(\n",
       "  sizes: [3, 64]\n",
       "  (conv_0): ConvLayer(\n",
       "    (conv): Conv2d(3, 64, kernel_size=(3, 3), stride=(2, 2), padding=(1, 1), bias=False)\n",
       "    (bn): BatchNorm2d(64, eps=1e-05, momentum=0.1, affine=True, track_running_stats=True)\n",
       "    (act_fn): ReLU(inplace=True)\n",
       "  )\n",
       "  (pool): MaxPool2d(kernel_size=3, stride=2, padding=1, dilation=1, ceil_mode=False)\n",
       ")"
      ]
     },
     "execution_count": 6,
     "metadata": {},
     "output_type": "execute_result"
    }
   ],
   "source": [
    "stem = Stem()\n",
    "stem"
   ]
  },
  {
   "cell_type": "code",
   "execution_count": 7,
   "metadata": {
    "ExecuteTime": {
     "end_time": "2020-09-15T07:44:51.733455Z",
     "start_time": "2020-09-15T07:44:51.703154Z"
    }
   },
   "outputs": [
    {
     "data": {
      "text/plain": [
       "torch.Size([8, 64, 32, 32])"
      ]
     },
     "execution_count": 7,
     "metadata": {},
     "output_type": "execute_result"
    }
   ],
   "source": [
    "xb = torch.randn(8, 3, 128, 128)\n",
    "y = stem(xb)\n",
    "y.shape"
   ]
  },
  {
   "cell_type": "code",
   "execution_count": 8,
   "metadata": {
    "ExecuteTime": {
     "end_time": "2020-09-15T07:44:52.270167Z",
     "start_time": "2020-09-15T07:44:52.254111Z"
    }
   },
   "outputs": [
    {
     "data": {
      "text/plain": [
       "Stem(\n",
       "  sizes: [3, 64]\n",
       "  (conv_0): ConvLayer(\n",
       "    (conv): Conv2d(3, 64, kernel_size=(3, 3), stride=(2, 2), padding=(1, 1), bias=False)\n",
       "    (bn): BatchNorm2d(64, eps=1e-05, momentum=0.1, affine=True, track_running_stats=True)\n",
       "    (act_fn): ReLU(inplace=True)\n",
       "  )\n",
       "  (pool): MaxPool2d(kernel_size=3, stride=2, padding=1, dilation=1, ceil_mode=False)\n",
       ")"
      ]
     },
     "execution_count": 8,
     "metadata": {},
     "output_type": "execute_result"
    }
   ],
   "source": [
    "stem = Stem(use_bn=True)\n",
    "stem"
   ]
  },
  {
   "cell_type": "code",
   "execution_count": 9,
   "metadata": {
    "ExecuteTime": {
     "end_time": "2020-09-15T07:44:53.128168Z",
     "start_time": "2020-09-15T07:44:53.022016Z"
    }
   },
   "outputs": [
    {
     "data": {
      "text/plain": [
       "torch.Size([8, 64, 32, 32])"
      ]
     },
     "execution_count": 9,
     "metadata": {},
     "output_type": "execute_result"
    }
   ],
   "source": [
    "xb = torch.randn(8, 3, 128, 128)\n",
    "y = stem(xb)\n",
    "y.shape"
   ]
  },
  {
   "cell_type": "code",
   "execution_count": 10,
   "metadata": {
    "ExecuteTime": {
     "end_time": "2020-09-15T07:44:53.838929Z",
     "start_time": "2020-09-15T07:44:53.829075Z"
    }
   },
   "outputs": [
    {
     "data": {
      "text/plain": [
       "Stem(\n",
       "  sizes: [3, 32, 64]\n",
       "  (conv_0): ConvLayer(\n",
       "    (conv): Conv2d(3, 32, kernel_size=(3, 3), stride=(1, 1), padding=(1, 1), bias=False)\n",
       "    (bn): BatchNorm2d(32, eps=1e-05, momentum=0.1, affine=True, track_running_stats=True)\n",
       "    (act_fn): ReLU(inplace=True)\n",
       "  )\n",
       "  (conv_1): ConvLayer(\n",
       "    (conv): Conv2d(32, 64, kernel_size=(3, 3), stride=(2, 2), padding=(1, 1), bias=False)\n",
       "    (bn): BatchNorm2d(64, eps=1e-05, momentum=0.1, affine=True, track_running_stats=True)\n",
       "    (act_fn): ReLU(inplace=True)\n",
       "  )\n",
       "  (pool): MaxPool2d(kernel_size=3, stride=2, padding=1, dilation=1, ceil_mode=False)\n",
       ")"
      ]
     },
     "execution_count": 10,
     "metadata": {},
     "output_type": "execute_result"
    }
   ],
   "source": [
    "stem = Stem(use_bn=True, stem_sizes=[32], stride_on=1)\n",
    "stem"
   ]
  },
  {
   "cell_type": "code",
   "execution_count": 11,
   "metadata": {
    "ExecuteTime": {
     "end_time": "2020-09-15T07:44:54.773691Z",
     "start_time": "2020-09-15T07:44:54.716307Z"
    }
   },
   "outputs": [
    {
     "data": {
      "text/plain": [
       "torch.Size([8, 64, 32, 32])"
      ]
     },
     "execution_count": 11,
     "metadata": {},
     "output_type": "execute_result"
    }
   ],
   "source": [
    "xb = torch.randn(8, 3, 128, 128)\n",
    "y = stem(xb)\n",
    "y.shape"
   ]
  },
  {
   "cell_type": "code",
   "execution_count": 12,
   "metadata": {
    "ExecuteTime": {
     "end_time": "2020-09-15T07:44:55.640343Z",
     "start_time": "2020-09-15T07:44:55.637028Z"
    }
   },
   "outputs": [],
   "source": [
    "assert y.shape, torch.Size([64, 64, 32, 32])"
   ]
  },
  {
   "cell_type": "code",
   "execution_count": 13,
   "metadata": {
    "ExecuteTime": {
     "end_time": "2020-09-15T07:44:58.194349Z",
     "start_time": "2020-09-15T07:44:58.173191Z"
    }
   },
   "outputs": [
    {
     "data": {
      "text/plain": [
       "Stem(\n",
       "  sizes: [3, 32, 64]\n",
       "  (conv_0): ConvLayer(\n",
       "    (conv): Conv2d(3, 32, kernel_size=(3, 3), stride=(1, 1), padding=(1, 1), bias=False)\n",
       "    (act_fn): ReLU(inplace=True)\n",
       "    (bn): BatchNorm2d(32, eps=1e-05, momentum=0.1, affine=True, track_running_stats=True)\n",
       "  )\n",
       "  (conv_1): ConvLayer(\n",
       "    (conv): Conv2d(32, 64, kernel_size=(3, 3), stride=(2, 2), padding=(1, 1), bias=False)\n",
       "    (act_fn): ReLU(inplace=True)\n",
       "    (bn): BatchNorm2d(64, eps=1e-05, momentum=0.1, affine=True, track_running_stats=True)\n",
       "  )\n",
       "  (pool): MaxPool2d(kernel_size=3, stride=2, padding=1, dilation=1, ceil_mode=False)\n",
       ")"
      ]
     },
     "execution_count": 13,
     "metadata": {},
     "output_type": "execute_result"
    }
   ],
   "source": [
    "stem = Stem(use_bn=True, stem_sizes=[32], stride_on=1, bn_1st=False)\n",
    "stem"
   ]
  },
  {
   "cell_type": "markdown",
   "metadata": {},
   "source": [
    "# Body"
   ]
  },
  {
   "cell_type": "markdown",
   "metadata": {},
   "source": [
    "## Blocks"
   ]
  },
  {
   "cell_type": "code",
   "execution_count": 19,
   "metadata": {
    "ExecuteTime": {
     "end_time": "2020-09-15T07:47:02.853520Z",
     "start_time": "2020-09-15T07:47:02.843712Z"
    }
   },
   "outputs": [],
   "source": [
    "%nbdev_export\n",
    "def DownsampleBlock(conv_layer, ni, nf, ks, stride, act=False, **kwargs):\n",
    "    '''Base downsample for res-like blocks'''\n",
    "    return conv_layer(ni, nf, ks, stride, act, **kwargs)"
   ]
  },
  {
   "cell_type": "code",
   "execution_count": 20,
   "metadata": {
    "ExecuteTime": {
     "end_time": "2020-09-15T07:47:03.166537Z",
     "start_time": "2020-09-15T07:47:03.157366Z"
    }
   },
   "outputs": [],
   "source": [
    "%nbdev_export\n",
    "class BasicBlock(nn.Module):\n",
    "    \"\"\"Basic block (simplified) as in pytorch resnet\"\"\"\n",
    "    def __init__(self, ni, nf,  expansion=1, stride=1, zero_bn=False,\n",
    "                conv_layer=ConvLayer, act_fn=act_fn,\n",
    "                downsample_block=DownsampleBlock, **kwargs):\n",
    "        super().__init__()\n",
    "        self.downsample = not ni==nf or stride==2\n",
    "        self.conv = nn.Sequential(OrderedDict([\n",
    "            ('conv_0', conv_layer(ni, nf, stride=stride, act_fn=act_fn,  **kwargs)),\n",
    "            ('conv_1', conv_layer(nf, nf, zero_bn=zero_bn, act=False, act_fn=act_fn, **kwargs))]))\n",
    "        if self.downsample:\n",
    "            self.downsample = downsample_block(conv_layer, ni, nf, ks=1, stride=stride, act=False, **kwargs)\n",
    "        self.merge = Noop()\n",
    "        self.act_conn = act_fn\n",
    "\n",
    "    def forward(self, x):\n",
    "        identity = x\n",
    "        out = self.conv(x)\n",
    "        if self.downsample:\n",
    "            identity = self.downsample(x)\n",
    "        return self.act_conn(self.merge(out + identity))\n"
   ]
  },
  {
   "cell_type": "code",
   "execution_count": null,
   "metadata": {},
   "outputs": [],
   "source": [
    "%nbdev_export\n",
    "class Bottleneck(nn.Module):\n",
    "    '''Bottlneck block for resnet models'''\n",
    "    def __init__(self, ni, nh, expansion=4, stride=1, zero_bn=False,\n",
    "                conv_layer=ConvLayer, act_fn=act_fn,\n",
    "                 downsample_block=DownsampleBlock, **kwargs):\n",
    "#                  groups=1, base_width=64, dilation=1, norm_layer=None\n",
    "        super().__init__()\n",
    "        self.downsample = not ni==nh or stride==2\n",
    "        ni = ni*expansion\n",
    "        nf = nh*expansion\n",
    "        self.conv = nn.Sequential(OrderedDict([\n",
    "            ('conv_0', conv_layer(ni, nh, ks=1,            act_fn=act_fn, **kwargs)),\n",
    "            ('conv_1', conv_layer(nh, nh, stride=stride,   act_fn=act_fn, **kwargs)),\n",
    "            ('conv_2', conv_layer(nh, nf, ks=1, zero_bn=zero_bn, act=False, act_fn=act_fn, **kwargs))]))\n",
    "        if self.downsample:\n",
    "            self.downsample = downsample_block(conv_layer, ni, nf, ks=1, stride=stride, act=False, act_fn=act_fn, **kwargs)\n",
    "        self.merge = Noop()\n",
    "        self.act_conn = act_fn\n",
    "\n",
    "    def forward(self, x):\n",
    "        identity = x\n",
    "        out = self.conv(x)\n",
    "        if self.downsample:\n",
    "            identity = self.downsample(x)\n",
    "        return self.act_conn(self.merge(out + identity))"
   ]
  },
  {
   "cell_type": "code",
   "execution_count": null,
   "metadata": {
    "ExecuteTime": {
     "end_time": "2020-09-15T07:47:10.025598Z",
     "start_time": "2020-09-15T07:47:10.009381Z"
    }
   },
   "outputs": [],
   "source": [
    "%nbdev_export\n",
    "class BasicLayer(nn.Sequential):\n",
    "    '''Layer from blocks'''\n",
    "    def __init__(self, block, blocks, ni, nf, expansion, stride, sa=False,**kwargs):\n",
    "        self.ni = ni\n",
    "        self.nf = nf\n",
    "        self.blocks = blocks\n",
    "        self.expansion = expansion\n",
    "        super().__init__(OrderedDict(\n",
    "            [(f'block_{i}', block(ni if i==0 else nf, nf, expansion, \n",
    "                            stride if i==0 else 1,\n",
    "                            sa=sa if i==blocks-1 else False, \n",
    "                                  **kwargs))\n",
    "              for i in range(blocks)]))\n",
    "    def extra_repr(self):\n",
    "        return f'from {self.ni*self.expansion} to {self.nf}, {self.blocks} blocks, expansion {self.expansion}.'                    "
   ]
  },
  {
   "cell_type": "markdown",
   "metadata": {},
   "source": [
    "## Body constructor"
   ]
  },
  {
   "cell_type": "code",
   "execution_count": 21,
   "metadata": {
    "ExecuteTime": {
     "end_time": "2020-09-15T07:47:10.025598Z",
     "start_time": "2020-09-15T07:47:10.009381Z"
    }
   },
   "outputs": [],
   "source": [
    "%nbdev_export\n",
    "class Body(nn.Sequential): \n",
    "    '''Constructor for body'''\n",
    "    def __init__(self, block, \n",
    "                 body_in=64, body_out=512,  \n",
    "                 bodylayer=BasicLayer, expansion=1,\n",
    "                 layer_szs=[64,128,256,], blocks=[2,2,2,2],\n",
    "                 sa=False, **kwargs):  \n",
    "        layer_szs = [body_in//expansion] + layer_szs + [body_out]\n",
    "        num_layers = len(layer_szs)-1\n",
    "        layers = [(f\"layer_{i}\", bodylayer(block, blocks[i], \n",
    "                            layer_szs[i], layer_szs[i+1], expansion,\n",
    "                            1 if i==0 else 2,  \n",
    "                            sa=sa if i==0 else False,  \n",
    "                                           **kwargs))\n",
    "                    for i in range(num_layers)]\n",
    "        super().__init__(OrderedDict(layers))\n",
    "    "
   ]
  },
  {
   "cell_type": "code",
   "execution_count": 24,
   "metadata": {
    "ExecuteTime": {
     "end_time": "2020-09-15T07:47:32.232273Z",
     "start_time": "2020-09-15T07:47:32.159289Z"
    }
   },
   "outputs": [
    {
     "data": {
      "text/plain": [
       "Body(\n",
       "  (layer_0): BasicLayer(\n",
       "    from 64 to 64, 2 blocks, expansion 1.\n",
       "    (block_0): BasicBlock(\n",
       "      (conv): Sequential(\n",
       "        (conv_0): ConvLayer(\n",
       "          (conv): Conv2d(64, 64, kernel_size=(3, 3), stride=(1, 1), padding=(1, 1), bias=False)\n",
       "          (bn): BatchNorm2d(64, eps=1e-05, momentum=0.1, affine=True, track_running_stats=True)\n",
       "          (act_fn): ReLU(inplace=True)\n",
       "        )\n",
       "        (conv_1): ConvLayer(\n",
       "          (conv): Conv2d(64, 64, kernel_size=(3, 3), stride=(1, 1), padding=(1, 1), bias=False)\n",
       "          (bn): BatchNorm2d(64, eps=1e-05, momentum=0.1, affine=True, track_running_stats=True)\n",
       "        )\n",
       "      )\n",
       "      (merge): Noop()\n",
       "      (act_conn): ReLU(inplace=True)\n",
       "    )\n",
       "    (block_1): BasicBlock(\n",
       "      (conv): Sequential(\n",
       "        (conv_0): ConvLayer(\n",
       "          (conv): Conv2d(64, 64, kernel_size=(3, 3), stride=(1, 1), padding=(1, 1), bias=False)\n",
       "          (bn): BatchNorm2d(64, eps=1e-05, momentum=0.1, affine=True, track_running_stats=True)\n",
       "          (act_fn): ReLU(inplace=True)\n",
       "        )\n",
       "        (conv_1): ConvLayer(\n",
       "          (conv): Conv2d(64, 64, kernel_size=(3, 3), stride=(1, 1), padding=(1, 1), bias=False)\n",
       "          (bn): BatchNorm2d(64, eps=1e-05, momentum=0.1, affine=True, track_running_stats=True)\n",
       "        )\n",
       "      )\n",
       "      (merge): Noop()\n",
       "      (act_conn): ReLU(inplace=True)\n",
       "    )\n",
       "  )\n",
       "  (layer_1): BasicLayer(\n",
       "    from 64 to 128, 2 blocks, expansion 1.\n",
       "    (block_0): BasicBlock(\n",
       "      (conv): Sequential(\n",
       "        (conv_0): ConvLayer(\n",
       "          (conv): Conv2d(64, 128, kernel_size=(3, 3), stride=(2, 2), padding=(1, 1), bias=False)\n",
       "          (bn): BatchNorm2d(128, eps=1e-05, momentum=0.1, affine=True, track_running_stats=True)\n",
       "          (act_fn): ReLU(inplace=True)\n",
       "        )\n",
       "        (conv_1): ConvLayer(\n",
       "          (conv): Conv2d(128, 128, kernel_size=(3, 3), stride=(1, 1), padding=(1, 1), bias=False)\n",
       "          (bn): BatchNorm2d(128, eps=1e-05, momentum=0.1, affine=True, track_running_stats=True)\n",
       "        )\n",
       "      )\n",
       "      (downsample): ConvLayer(\n",
       "        (conv): Conv2d(64, 128, kernel_size=(1, 1), stride=(2, 2), bias=False)\n",
       "        (bn): BatchNorm2d(128, eps=1e-05, momentum=0.1, affine=True, track_running_stats=True)\n",
       "      )\n",
       "      (merge): Noop()\n",
       "      (act_conn): ReLU(inplace=True)\n",
       "    )\n",
       "    (block_1): BasicBlock(\n",
       "      (conv): Sequential(\n",
       "        (conv_0): ConvLayer(\n",
       "          (conv): Conv2d(128, 128, kernel_size=(3, 3), stride=(1, 1), padding=(1, 1), bias=False)\n",
       "          (bn): BatchNorm2d(128, eps=1e-05, momentum=0.1, affine=True, track_running_stats=True)\n",
       "          (act_fn): ReLU(inplace=True)\n",
       "        )\n",
       "        (conv_1): ConvLayer(\n",
       "          (conv): Conv2d(128, 128, kernel_size=(3, 3), stride=(1, 1), padding=(1, 1), bias=False)\n",
       "          (bn): BatchNorm2d(128, eps=1e-05, momentum=0.1, affine=True, track_running_stats=True)\n",
       "        )\n",
       "      )\n",
       "      (merge): Noop()\n",
       "      (act_conn): ReLU(inplace=True)\n",
       "    )\n",
       "  )\n",
       "  (layer_2): BasicLayer(\n",
       "    from 128 to 256, 2 blocks, expansion 1.\n",
       "    (block_0): BasicBlock(\n",
       "      (conv): Sequential(\n",
       "        (conv_0): ConvLayer(\n",
       "          (conv): Conv2d(128, 256, kernel_size=(3, 3), stride=(2, 2), padding=(1, 1), bias=False)\n",
       "          (bn): BatchNorm2d(256, eps=1e-05, momentum=0.1, affine=True, track_running_stats=True)\n",
       "          (act_fn): ReLU(inplace=True)\n",
       "        )\n",
       "        (conv_1): ConvLayer(\n",
       "          (conv): Conv2d(256, 256, kernel_size=(3, 3), stride=(1, 1), padding=(1, 1), bias=False)\n",
       "          (bn): BatchNorm2d(256, eps=1e-05, momentum=0.1, affine=True, track_running_stats=True)\n",
       "        )\n",
       "      )\n",
       "      (downsample): ConvLayer(\n",
       "        (conv): Conv2d(128, 256, kernel_size=(1, 1), stride=(2, 2), bias=False)\n",
       "        (bn): BatchNorm2d(256, eps=1e-05, momentum=0.1, affine=True, track_running_stats=True)\n",
       "      )\n",
       "      (merge): Noop()\n",
       "      (act_conn): ReLU(inplace=True)\n",
       "    )\n",
       "    (block_1): BasicBlock(\n",
       "      (conv): Sequential(\n",
       "        (conv_0): ConvLayer(\n",
       "          (conv): Conv2d(256, 256, kernel_size=(3, 3), stride=(1, 1), padding=(1, 1), bias=False)\n",
       "          (bn): BatchNorm2d(256, eps=1e-05, momentum=0.1, affine=True, track_running_stats=True)\n",
       "          (act_fn): ReLU(inplace=True)\n",
       "        )\n",
       "        (conv_1): ConvLayer(\n",
       "          (conv): Conv2d(256, 256, kernel_size=(3, 3), stride=(1, 1), padding=(1, 1), bias=False)\n",
       "          (bn): BatchNorm2d(256, eps=1e-05, momentum=0.1, affine=True, track_running_stats=True)\n",
       "        )\n",
       "      )\n",
       "      (merge): Noop()\n",
       "      (act_conn): ReLU(inplace=True)\n",
       "    )\n",
       "  )\n",
       "  (layer_3): BasicLayer(\n",
       "    from 256 to 512, 2 blocks, expansion 1.\n",
       "    (block_0): BasicBlock(\n",
       "      (conv): Sequential(\n",
       "        (conv_0): ConvLayer(\n",
       "          (conv): Conv2d(256, 512, kernel_size=(3, 3), stride=(2, 2), padding=(1, 1), bias=False)\n",
       "          (bn): BatchNorm2d(512, eps=1e-05, momentum=0.1, affine=True, track_running_stats=True)\n",
       "          (act_fn): ReLU(inplace=True)\n",
       "        )\n",
       "        (conv_1): ConvLayer(\n",
       "          (conv): Conv2d(512, 512, kernel_size=(3, 3), stride=(1, 1), padding=(1, 1), bias=False)\n",
       "          (bn): BatchNorm2d(512, eps=1e-05, momentum=0.1, affine=True, track_running_stats=True)\n",
       "        )\n",
       "      )\n",
       "      (downsample): ConvLayer(\n",
       "        (conv): Conv2d(256, 512, kernel_size=(1, 1), stride=(2, 2), bias=False)\n",
       "        (bn): BatchNorm2d(512, eps=1e-05, momentum=0.1, affine=True, track_running_stats=True)\n",
       "      )\n",
       "      (merge): Noop()\n",
       "      (act_conn): ReLU(inplace=True)\n",
       "    )\n",
       "    (block_1): BasicBlock(\n",
       "      (conv): Sequential(\n",
       "        (conv_0): ConvLayer(\n",
       "          (conv): Conv2d(512, 512, kernel_size=(3, 3), stride=(1, 1), padding=(1, 1), bias=False)\n",
       "          (bn): BatchNorm2d(512, eps=1e-05, momentum=0.1, affine=True, track_running_stats=True)\n",
       "          (act_fn): ReLU(inplace=True)\n",
       "        )\n",
       "        (conv_1): ConvLayer(\n",
       "          (conv): Conv2d(512, 512, kernel_size=(3, 3), stride=(1, 1), padding=(1, 1), bias=False)\n",
       "          (bn): BatchNorm2d(512, eps=1e-05, momentum=0.1, affine=True, track_running_stats=True)\n",
       "        )\n",
       "      )\n",
       "      (merge): Noop()\n",
       "      (act_conn): ReLU(inplace=True)\n",
       "    )\n",
       "  )\n",
       ")"
      ]
     },
     "execution_count": 24,
     "metadata": {},
     "output_type": "execute_result"
    }
   ],
   "source": [
    "body = Body(BasicBlock)\n",
    "body"
   ]
  },
  {
   "cell_type": "code",
   "execution_count": 25,
   "metadata": {
    "ExecuteTime": {
     "end_time": "2020-09-15T07:47:33.801922Z",
     "start_time": "2020-09-15T07:47:33.684159Z"
    }
   },
   "outputs": [
    {
     "data": {
      "text/plain": [
       "Body(\n",
       "  (layer_0): BasicLayer(\n",
       "    from 64 to 64, 2 blocks, expansion 1.\n",
       "    (block_0): BasicBlock(\n",
       "      (conv): Sequential(\n",
       "        (conv_0): ConvLayer(\n",
       "          (conv): Conv2d(64, 64, kernel_size=(3, 3), stride=(1, 1), padding=(1, 1), bias=False)\n",
       "          (act_fn): ReLU(inplace=True)\n",
       "          (bn): BatchNorm2d(64, eps=1e-05, momentum=0.1, affine=True, track_running_stats=True)\n",
       "        )\n",
       "        (conv_1): ConvLayer(\n",
       "          (conv): Conv2d(64, 64, kernel_size=(3, 3), stride=(1, 1), padding=(1, 1), bias=False)\n",
       "          (bn): BatchNorm2d(64, eps=1e-05, momentum=0.1, affine=True, track_running_stats=True)\n",
       "        )\n",
       "      )\n",
       "      (merge): Noop()\n",
       "      (act_conn): ReLU(inplace=True)\n",
       "    )\n",
       "    (block_1): BasicBlock(\n",
       "      (conv): Sequential(\n",
       "        (conv_0): ConvLayer(\n",
       "          (conv): Conv2d(64, 64, kernel_size=(3, 3), stride=(1, 1), padding=(1, 1), bias=False)\n",
       "          (act_fn): ReLU(inplace=True)\n",
       "          (bn): BatchNorm2d(64, eps=1e-05, momentum=0.1, affine=True, track_running_stats=True)\n",
       "        )\n",
       "        (conv_1): ConvLayer(\n",
       "          (conv): Conv2d(64, 64, kernel_size=(3, 3), stride=(1, 1), padding=(1, 1), bias=False)\n",
       "          (bn): BatchNorm2d(64, eps=1e-05, momentum=0.1, affine=True, track_running_stats=True)\n",
       "        )\n",
       "      )\n",
       "      (merge): Noop()\n",
       "      (act_conn): ReLU(inplace=True)\n",
       "    )\n",
       "  )\n",
       "  (layer_1): BasicLayer(\n",
       "    from 64 to 128, 2 blocks, expansion 1.\n",
       "    (block_0): BasicBlock(\n",
       "      (conv): Sequential(\n",
       "        (conv_0): ConvLayer(\n",
       "          (conv): Conv2d(64, 128, kernel_size=(3, 3), stride=(2, 2), padding=(1, 1), bias=False)\n",
       "          (act_fn): ReLU(inplace=True)\n",
       "          (bn): BatchNorm2d(128, eps=1e-05, momentum=0.1, affine=True, track_running_stats=True)\n",
       "        )\n",
       "        (conv_1): ConvLayer(\n",
       "          (conv): Conv2d(128, 128, kernel_size=(3, 3), stride=(1, 1), padding=(1, 1), bias=False)\n",
       "          (bn): BatchNorm2d(128, eps=1e-05, momentum=0.1, affine=True, track_running_stats=True)\n",
       "        )\n",
       "      )\n",
       "      (downsample): ConvLayer(\n",
       "        (conv): Conv2d(64, 128, kernel_size=(1, 1), stride=(2, 2), bias=False)\n",
       "        (bn): BatchNorm2d(128, eps=1e-05, momentum=0.1, affine=True, track_running_stats=True)\n",
       "      )\n",
       "      (merge): Noop()\n",
       "      (act_conn): ReLU(inplace=True)\n",
       "    )\n",
       "    (block_1): BasicBlock(\n",
       "      (conv): Sequential(\n",
       "        (conv_0): ConvLayer(\n",
       "          (conv): Conv2d(128, 128, kernel_size=(3, 3), stride=(1, 1), padding=(1, 1), bias=False)\n",
       "          (act_fn): ReLU(inplace=True)\n",
       "          (bn): BatchNorm2d(128, eps=1e-05, momentum=0.1, affine=True, track_running_stats=True)\n",
       "        )\n",
       "        (conv_1): ConvLayer(\n",
       "          (conv): Conv2d(128, 128, kernel_size=(3, 3), stride=(1, 1), padding=(1, 1), bias=False)\n",
       "          (bn): BatchNorm2d(128, eps=1e-05, momentum=0.1, affine=True, track_running_stats=True)\n",
       "        )\n",
       "      )\n",
       "      (merge): Noop()\n",
       "      (act_conn): ReLU(inplace=True)\n",
       "    )\n",
       "  )\n",
       "  (layer_2): BasicLayer(\n",
       "    from 128 to 256, 2 blocks, expansion 1.\n",
       "    (block_0): BasicBlock(\n",
       "      (conv): Sequential(\n",
       "        (conv_0): ConvLayer(\n",
       "          (conv): Conv2d(128, 256, kernel_size=(3, 3), stride=(2, 2), padding=(1, 1), bias=False)\n",
       "          (act_fn): ReLU(inplace=True)\n",
       "          (bn): BatchNorm2d(256, eps=1e-05, momentum=0.1, affine=True, track_running_stats=True)\n",
       "        )\n",
       "        (conv_1): ConvLayer(\n",
       "          (conv): Conv2d(256, 256, kernel_size=(3, 3), stride=(1, 1), padding=(1, 1), bias=False)\n",
       "          (bn): BatchNorm2d(256, eps=1e-05, momentum=0.1, affine=True, track_running_stats=True)\n",
       "        )\n",
       "      )\n",
       "      (downsample): ConvLayer(\n",
       "        (conv): Conv2d(128, 256, kernel_size=(1, 1), stride=(2, 2), bias=False)\n",
       "        (bn): BatchNorm2d(256, eps=1e-05, momentum=0.1, affine=True, track_running_stats=True)\n",
       "      )\n",
       "      (merge): Noop()\n",
       "      (act_conn): ReLU(inplace=True)\n",
       "    )\n",
       "    (block_1): BasicBlock(\n",
       "      (conv): Sequential(\n",
       "        (conv_0): ConvLayer(\n",
       "          (conv): Conv2d(256, 256, kernel_size=(3, 3), stride=(1, 1), padding=(1, 1), bias=False)\n",
       "          (act_fn): ReLU(inplace=True)\n",
       "          (bn): BatchNorm2d(256, eps=1e-05, momentum=0.1, affine=True, track_running_stats=True)\n",
       "        )\n",
       "        (conv_1): ConvLayer(\n",
       "          (conv): Conv2d(256, 256, kernel_size=(3, 3), stride=(1, 1), padding=(1, 1), bias=False)\n",
       "          (bn): BatchNorm2d(256, eps=1e-05, momentum=0.1, affine=True, track_running_stats=True)\n",
       "        )\n",
       "      )\n",
       "      (merge): Noop()\n",
       "      (act_conn): ReLU(inplace=True)\n",
       "    )\n",
       "  )\n",
       "  (layer_3): BasicLayer(\n",
       "    from 256 to 512, 2 blocks, expansion 1.\n",
       "    (block_0): BasicBlock(\n",
       "      (conv): Sequential(\n",
       "        (conv_0): ConvLayer(\n",
       "          (conv): Conv2d(256, 512, kernel_size=(3, 3), stride=(2, 2), padding=(1, 1), bias=False)\n",
       "          (act_fn): ReLU(inplace=True)\n",
       "          (bn): BatchNorm2d(512, eps=1e-05, momentum=0.1, affine=True, track_running_stats=True)\n",
       "        )\n",
       "        (conv_1): ConvLayer(\n",
       "          (conv): Conv2d(512, 512, kernel_size=(3, 3), stride=(1, 1), padding=(1, 1), bias=False)\n",
       "          (bn): BatchNorm2d(512, eps=1e-05, momentum=0.1, affine=True, track_running_stats=True)\n",
       "        )\n",
       "      )\n",
       "      (downsample): ConvLayer(\n",
       "        (conv): Conv2d(256, 512, kernel_size=(1, 1), stride=(2, 2), bias=False)\n",
       "        (bn): BatchNorm2d(512, eps=1e-05, momentum=0.1, affine=True, track_running_stats=True)\n",
       "      )\n",
       "      (merge): Noop()\n",
       "      (act_conn): ReLU(inplace=True)\n",
       "    )\n",
       "    (block_1): BasicBlock(\n",
       "      (conv): Sequential(\n",
       "        (conv_0): ConvLayer(\n",
       "          (conv): Conv2d(512, 512, kernel_size=(3, 3), stride=(1, 1), padding=(1, 1), bias=False)\n",
       "          (act_fn): ReLU(inplace=True)\n",
       "          (bn): BatchNorm2d(512, eps=1e-05, momentum=0.1, affine=True, track_running_stats=True)\n",
       "        )\n",
       "        (conv_1): ConvLayer(\n",
       "          (conv): Conv2d(512, 512, kernel_size=(3, 3), stride=(1, 1), padding=(1, 1), bias=False)\n",
       "          (bn): BatchNorm2d(512, eps=1e-05, momentum=0.1, affine=True, track_running_stats=True)\n",
       "        )\n",
       "      )\n",
       "      (merge): Noop()\n",
       "      (act_conn): ReLU(inplace=True)\n",
       "    )\n",
       "  )\n",
       ")"
      ]
     },
     "execution_count": 25,
     "metadata": {},
     "output_type": "execute_result"
    }
   ],
   "source": [
    "%nbdev_hide\n",
    "body = Body(BasicBlock, bn_1st=False)\n",
    "body"
   ]
  },
  {
   "cell_type": "code",
   "execution_count": 26,
   "metadata": {
    "ExecuteTime": {
     "end_time": "2020-09-15T07:47:34.729432Z",
     "start_time": "2020-09-15T07:47:34.620483Z"
    }
   },
   "outputs": [
    {
     "name": "stdout",
     "output_type": "stream",
     "text": [
      "torch.Size([8, 512, 4, 4])\n"
     ]
    }
   ],
   "source": [
    "bs = 8\n",
    "xb = torch.randn(bs, 64, 32, 32)\n",
    "y = body(xb)\n",
    "print(y.shape)\n",
    "assert y.shape==torch.Size([bs, 512, 4, 4])"
   ]
  },
  {
   "cell_type": "code",
   "execution_count": 27,
   "metadata": {
    "ExecuteTime": {
     "end_time": "2020-09-15T07:47:35.655255Z",
     "start_time": "2020-09-15T07:47:35.575441Z"
    }
   },
   "outputs": [
    {
     "data": {
      "text/plain": [
       "BasicLayer(\n",
       "  from 64 to 64, 2 blocks, expansion 1.\n",
       "  (block_0): BasicBlock(\n",
       "    (conv): Sequential(\n",
       "      (conv_0): ConvLayer(\n",
       "        (conv): Conv2d(64, 64, kernel_size=(3, 3), stride=(1, 1), padding=(1, 1), bias=False)\n",
       "        (bn): BatchNorm2d(64, eps=1e-05, momentum=0.1, affine=True, track_running_stats=True)\n",
       "        (act_fn): ReLU(inplace=True)\n",
       "      )\n",
       "      (conv_1): ConvLayer(\n",
       "        (conv): Conv2d(64, 64, kernel_size=(3, 3), stride=(1, 1), padding=(1, 1), bias=False)\n",
       "        (bn): BatchNorm2d(64, eps=1e-05, momentum=0.1, affine=True, track_running_stats=True)\n",
       "      )\n",
       "    )\n",
       "    (merge): Noop()\n",
       "    (act_conn): ReLU(inplace=True)\n",
       "  )\n",
       "  (block_1): BasicBlock(\n",
       "    (conv): Sequential(\n",
       "      (conv_0): ConvLayer(\n",
       "        (conv): Conv2d(64, 64, kernel_size=(3, 3), stride=(1, 1), padding=(1, 1), bias=False)\n",
       "        (bn): BatchNorm2d(64, eps=1e-05, momentum=0.1, affine=True, track_running_stats=True)\n",
       "        (act_fn): ReLU(inplace=True)\n",
       "      )\n",
       "      (conv_1): ConvLayer(\n",
       "        (conv): Conv2d(64, 64, kernel_size=(3, 3), stride=(1, 1), padding=(1, 1), bias=False)\n",
       "        (bn): BatchNorm2d(64, eps=1e-05, momentum=0.1, affine=True, track_running_stats=True)\n",
       "      )\n",
       "    )\n",
       "    (merge): Noop()\n",
       "    (act_conn): ReLU(inplace=True)\n",
       "  )\n",
       ")"
      ]
     },
     "execution_count": 27,
     "metadata": {},
     "output_type": "execute_result"
    }
   ],
   "source": [
    "%nbdev_hide\n",
    "body = Body(BasicBlock, sa=True)\n",
    "body.layer_0"
   ]
  },
  {
   "cell_type": "code",
   "execution_count": 28,
   "metadata": {
    "ExecuteTime": {
     "end_time": "2020-09-15T07:47:36.664623Z",
     "start_time": "2020-09-15T07:47:36.519727Z"
    }
   },
   "outputs": [
    {
     "name": "stdout",
     "output_type": "stream",
     "text": [
      "torch.Size([8, 512, 4, 4])\n"
     ]
    }
   ],
   "source": [
    "%nbdev_hide\n",
    "bs = 8\n",
    "xb = torch.randn(bs, 64, 32, 32)\n",
    "y = body(xb)\n",
    "print(y.shape)\n",
    "assert y.shape==torch.Size([bs, 512, 4, 4])"
   ]
  },
  {
   "cell_type": "markdown",
   "metadata": {},
   "source": [
    "# Head"
   ]
  },
  {
   "cell_type": "code",
   "execution_count": 29,
   "metadata": {
    "ExecuteTime": {
     "end_time": "2020-09-15T07:47:39.115248Z",
     "start_time": "2020-09-15T07:47:39.107197Z"
    }
   },
   "outputs": [],
   "source": [
    "%nbdev_export\n",
    "class Head(nn.Sequential):\n",
    "    '''base head'''\n",
    "    def __init__(self, ni, nf, **kwargs):\n",
    "        super().__init__(OrderedDict(\n",
    "            [('pool', nn.AdaptiveAvgPool2d((1, 1))),\n",
    "             ('flat', Flatten()),\n",
    "             ('fc',   nn.Linear(ni, nf)),\n",
    "             ]))"
   ]
  },
  {
   "cell_type": "code",
   "execution_count": 32,
   "metadata": {
    "ExecuteTime": {
     "end_time": "2020-09-15T07:47:58.484497Z",
     "start_time": "2020-09-15T07:47:58.480454Z"
    }
   },
   "outputs": [],
   "source": [
    "head = Head(512, 10)"
   ]
  },
  {
   "cell_type": "code",
   "execution_count": 33,
   "metadata": {
    "ExecuteTime": {
     "end_time": "2020-09-15T07:47:59.217773Z",
     "start_time": "2020-09-15T07:47:59.207843Z"
    }
   },
   "outputs": [
    {
     "data": {
      "text/plain": [
       "torch.Size([8, 10])"
      ]
     },
     "execution_count": 33,
     "metadata": {},
     "output_type": "execute_result"
    }
   ],
   "source": [
    "bs = 8\n",
    "xb = torch.randn(bs, 512, 4, 4)\n",
    "y = head(xb)\n",
    "y.shape"
   ]
  },
  {
   "cell_type": "code",
   "execution_count": null,
   "metadata": {},
   "outputs": [],
   "source": []
  },
  {
   "cell_type": "markdown",
   "metadata": {},
   "source": [
    "# class Net"
   ]
  },
  {
   "cell_type": "code",
   "execution_count": 34,
   "metadata": {
    "ExecuteTime": {
     "end_time": "2020-09-15T07:48:01.277470Z",
     "start_time": "2020-09-15T07:48:01.270200Z"
    }
   },
   "outputs": [],
   "source": [
    "%nbdev_export\n",
    "def init_model(model, nonlinearity='leaky_relu'):\n",
    "    '''Init model'''\n",
    "    for m in model.modules():\n",
    "#             if isinstance(m, nn.Conv2d):\n",
    "            if isinstance(m, (nn.Conv2d, nn.Linear)):\n",
    "                nn.init.kaiming_normal_(m.weight, mode='fan_in', nonlinearity=nonlinearity)"
   ]
  },
  {
   "cell_type": "code",
   "execution_count": 35,
   "metadata": {
    "ExecuteTime": {
     "end_time": "2020-09-15T07:48:03.022644Z",
     "start_time": "2020-09-15T07:48:02.983887Z"
    }
   },
   "outputs": [],
   "source": [
    "%nbdev_export\n",
    "class Net(nn.Sequential):\n",
    "    '''Constructor for model'''\n",
    "    def __init__(self,  stem=Stem,\n",
    "                 body=Body, block=BasicBlock, sa=False,\n",
    "                 layer_szs=[64,128,256,], blocks=[2,2,2,2],\n",
    "                 head=Head, \n",
    "                 c_in=3,  num_classes=1000, \n",
    "                 body_in=64, body_out=512, expansion=1,\n",
    "                init_fn=init_model, **kwargs):\n",
    "        self.init_model=init_fn\n",
    "        super().__init__(OrderedDict([\n",
    "            ('stem', stem(c_in=c_in,stem_out=body_in, **kwargs)),\n",
    "            ('body', body(block, body_in, body_out, \n",
    "                        layer_szs=layer_szs, blocks=blocks, expansion=expansion, \n",
    "                        sa=sa, **kwargs)),\n",
    "            ('head', head(body_out*expansion, num_classes, **kwargs))\n",
    "            ]))\n",
    "        self.init_model(self)"
   ]
  },
  {
   "cell_type": "code",
   "execution_count": 36,
   "metadata": {
    "ExecuteTime": {
     "end_time": "2020-09-15T07:48:04.552204Z",
     "start_time": "2020-09-15T07:48:04.392342Z"
    }
   },
   "outputs": [],
   "source": [
    "model = Net()"
   ]
  },
  {
   "cell_type": "code",
   "execution_count": 37,
   "metadata": {
    "ExecuteTime": {
     "end_time": "2020-09-15T07:48:05.372416Z",
     "start_time": "2020-09-15T07:48:05.367071Z"
    }
   },
   "outputs": [
    {
     "data": {
      "text/plain": [
       "Net(\n",
       "  (stem): Stem(\n",
       "    sizes: [3, 64]\n",
       "    (conv_0): ConvLayer(\n",
       "      (conv): Conv2d(3, 64, kernel_size=(3, 3), stride=(2, 2), padding=(1, 1), bias=False)\n",
       "      (bn): BatchNorm2d(64, eps=1e-05, momentum=0.1, affine=True, track_running_stats=True)\n",
       "      (act_fn): ReLU(inplace=True)\n",
       "    )\n",
       "    (pool): MaxPool2d(kernel_size=3, stride=2, padding=1, dilation=1, ceil_mode=False)\n",
       "  )\n",
       "  (body): Body(\n",
       "    (layer_0): BasicLayer(\n",
       "      from 64 to 64, 2 blocks, expansion 1.\n",
       "      (block_0): BasicBlock(\n",
       "        (conv): Sequential(\n",
       "          (conv_0): ConvLayer(\n",
       "            (conv): Conv2d(64, 64, kernel_size=(3, 3), stride=(1, 1), padding=(1, 1), bias=False)\n",
       "            (bn): BatchNorm2d(64, eps=1e-05, momentum=0.1, affine=True, track_running_stats=True)\n",
       "            (act_fn): ReLU(inplace=True)\n",
       "          )\n",
       "          (conv_1): ConvLayer(\n",
       "            (conv): Conv2d(64, 64, kernel_size=(3, 3), stride=(1, 1), padding=(1, 1), bias=False)\n",
       "            (bn): BatchNorm2d(64, eps=1e-05, momentum=0.1, affine=True, track_running_stats=True)\n",
       "          )\n",
       "        )\n",
       "        (merge): Noop()\n",
       "        (act_conn): ReLU(inplace=True)\n",
       "      )\n",
       "      (block_1): BasicBlock(\n",
       "        (conv): Sequential(\n",
       "          (conv_0): ConvLayer(\n",
       "            (conv): Conv2d(64, 64, kernel_size=(3, 3), stride=(1, 1), padding=(1, 1), bias=False)\n",
       "            (bn): BatchNorm2d(64, eps=1e-05, momentum=0.1, affine=True, track_running_stats=True)\n",
       "            (act_fn): ReLU(inplace=True)\n",
       "          )\n",
       "          (conv_1): ConvLayer(\n",
       "            (conv): Conv2d(64, 64, kernel_size=(3, 3), stride=(1, 1), padding=(1, 1), bias=False)\n",
       "            (bn): BatchNorm2d(64, eps=1e-05, momentum=0.1, affine=True, track_running_stats=True)\n",
       "          )\n",
       "        )\n",
       "        (merge): Noop()\n",
       "        (act_conn): ReLU(inplace=True)\n",
       "      )\n",
       "    )\n",
       "    (layer_1): BasicLayer(\n",
       "      from 64 to 128, 2 blocks, expansion 1.\n",
       "      (block_0): BasicBlock(\n",
       "        (conv): Sequential(\n",
       "          (conv_0): ConvLayer(\n",
       "            (conv): Conv2d(64, 128, kernel_size=(3, 3), stride=(2, 2), padding=(1, 1), bias=False)\n",
       "            (bn): BatchNorm2d(128, eps=1e-05, momentum=0.1, affine=True, track_running_stats=True)\n",
       "            (act_fn): ReLU(inplace=True)\n",
       "          )\n",
       "          (conv_1): ConvLayer(\n",
       "            (conv): Conv2d(128, 128, kernel_size=(3, 3), stride=(1, 1), padding=(1, 1), bias=False)\n",
       "            (bn): BatchNorm2d(128, eps=1e-05, momentum=0.1, affine=True, track_running_stats=True)\n",
       "          )\n",
       "        )\n",
       "        (downsample): ConvLayer(\n",
       "          (conv): Conv2d(64, 128, kernel_size=(1, 1), stride=(2, 2), bias=False)\n",
       "          (bn): BatchNorm2d(128, eps=1e-05, momentum=0.1, affine=True, track_running_stats=True)\n",
       "        )\n",
       "        (merge): Noop()\n",
       "        (act_conn): ReLU(inplace=True)\n",
       "      )\n",
       "      (block_1): BasicBlock(\n",
       "        (conv): Sequential(\n",
       "          (conv_0): ConvLayer(\n",
       "            (conv): Conv2d(128, 128, kernel_size=(3, 3), stride=(1, 1), padding=(1, 1), bias=False)\n",
       "            (bn): BatchNorm2d(128, eps=1e-05, momentum=0.1, affine=True, track_running_stats=True)\n",
       "            (act_fn): ReLU(inplace=True)\n",
       "          )\n",
       "          (conv_1): ConvLayer(\n",
       "            (conv): Conv2d(128, 128, kernel_size=(3, 3), stride=(1, 1), padding=(1, 1), bias=False)\n",
       "            (bn): BatchNorm2d(128, eps=1e-05, momentum=0.1, affine=True, track_running_stats=True)\n",
       "          )\n",
       "        )\n",
       "        (merge): Noop()\n",
       "        (act_conn): ReLU(inplace=True)\n",
       "      )\n",
       "    )\n",
       "    (layer_2): BasicLayer(\n",
       "      from 128 to 256, 2 blocks, expansion 1.\n",
       "      (block_0): BasicBlock(\n",
       "        (conv): Sequential(\n",
       "          (conv_0): ConvLayer(\n",
       "            (conv): Conv2d(128, 256, kernel_size=(3, 3), stride=(2, 2), padding=(1, 1), bias=False)\n",
       "            (bn): BatchNorm2d(256, eps=1e-05, momentum=0.1, affine=True, track_running_stats=True)\n",
       "            (act_fn): ReLU(inplace=True)\n",
       "          )\n",
       "          (conv_1): ConvLayer(\n",
       "            (conv): Conv2d(256, 256, kernel_size=(3, 3), stride=(1, 1), padding=(1, 1), bias=False)\n",
       "            (bn): BatchNorm2d(256, eps=1e-05, momentum=0.1, affine=True, track_running_stats=True)\n",
       "          )\n",
       "        )\n",
       "        (downsample): ConvLayer(\n",
       "          (conv): Conv2d(128, 256, kernel_size=(1, 1), stride=(2, 2), bias=False)\n",
       "          (bn): BatchNorm2d(256, eps=1e-05, momentum=0.1, affine=True, track_running_stats=True)\n",
       "        )\n",
       "        (merge): Noop()\n",
       "        (act_conn): ReLU(inplace=True)\n",
       "      )\n",
       "      (block_1): BasicBlock(\n",
       "        (conv): Sequential(\n",
       "          (conv_0): ConvLayer(\n",
       "            (conv): Conv2d(256, 256, kernel_size=(3, 3), stride=(1, 1), padding=(1, 1), bias=False)\n",
       "            (bn): BatchNorm2d(256, eps=1e-05, momentum=0.1, affine=True, track_running_stats=True)\n",
       "            (act_fn): ReLU(inplace=True)\n",
       "          )\n",
       "          (conv_1): ConvLayer(\n",
       "            (conv): Conv2d(256, 256, kernel_size=(3, 3), stride=(1, 1), padding=(1, 1), bias=False)\n",
       "            (bn): BatchNorm2d(256, eps=1e-05, momentum=0.1, affine=True, track_running_stats=True)\n",
       "          )\n",
       "        )\n",
       "        (merge): Noop()\n",
       "        (act_conn): ReLU(inplace=True)\n",
       "      )\n",
       "    )\n",
       "    (layer_3): BasicLayer(\n",
       "      from 256 to 512, 2 blocks, expansion 1.\n",
       "      (block_0): BasicBlock(\n",
       "        (conv): Sequential(\n",
       "          (conv_0): ConvLayer(\n",
       "            (conv): Conv2d(256, 512, kernel_size=(3, 3), stride=(2, 2), padding=(1, 1), bias=False)\n",
       "            (bn): BatchNorm2d(512, eps=1e-05, momentum=0.1, affine=True, track_running_stats=True)\n",
       "            (act_fn): ReLU(inplace=True)\n",
       "          )\n",
       "          (conv_1): ConvLayer(\n",
       "            (conv): Conv2d(512, 512, kernel_size=(3, 3), stride=(1, 1), padding=(1, 1), bias=False)\n",
       "            (bn): BatchNorm2d(512, eps=1e-05, momentum=0.1, affine=True, track_running_stats=True)\n",
       "          )\n",
       "        )\n",
       "        (downsample): ConvLayer(\n",
       "          (conv): Conv2d(256, 512, kernel_size=(1, 1), stride=(2, 2), bias=False)\n",
       "          (bn): BatchNorm2d(512, eps=1e-05, momentum=0.1, affine=True, track_running_stats=True)\n",
       "        )\n",
       "        (merge): Noop()\n",
       "        (act_conn): ReLU(inplace=True)\n",
       "      )\n",
       "      (block_1): BasicBlock(\n",
       "        (conv): Sequential(\n",
       "          (conv_0): ConvLayer(\n",
       "            (conv): Conv2d(512, 512, kernel_size=(3, 3), stride=(1, 1), padding=(1, 1), bias=False)\n",
       "            (bn): BatchNorm2d(512, eps=1e-05, momentum=0.1, affine=True, track_running_stats=True)\n",
       "            (act_fn): ReLU(inplace=True)\n",
       "          )\n",
       "          (conv_1): ConvLayer(\n",
       "            (conv): Conv2d(512, 512, kernel_size=(3, 3), stride=(1, 1), padding=(1, 1), bias=False)\n",
       "            (bn): BatchNorm2d(512, eps=1e-05, momentum=0.1, affine=True, track_running_stats=True)\n",
       "          )\n",
       "        )\n",
       "        (merge): Noop()\n",
       "        (act_conn): ReLU(inplace=True)\n",
       "      )\n",
       "    )\n",
       "  )\n",
       "  (head): Head(\n",
       "    (pool): AdaptiveAvgPool2d(output_size=(1, 1))\n",
       "    (flat): Flatten()\n",
       "    (fc): Linear(in_features=512, out_features=1000, bias=True)\n",
       "  )\n",
       ")"
      ]
     },
     "execution_count": 37,
     "metadata": {},
     "output_type": "execute_result"
    }
   ],
   "source": [
    "model"
   ]
  },
  {
   "cell_type": "code",
   "execution_count": 38,
   "metadata": {
    "ExecuteTime": {
     "end_time": "2020-09-15T07:48:06.841792Z",
     "start_time": "2020-09-15T07:48:06.575545Z"
    }
   },
   "outputs": [
    {
     "data": {
      "text/plain": [
       "torch.Size([16, 1000])"
      ]
     },
     "execution_count": 38,
     "metadata": {},
     "output_type": "execute_result"
    }
   ],
   "source": [
    "bs_test = 16\n",
    "xb = torch.randn(bs_test, 3, 128, 128)\n",
    "y = model(xb)\n",
    "y.shape"
   ]
  },
  {
   "cell_type": "code",
   "execution_count": 39,
   "metadata": {
    "ExecuteTime": {
     "end_time": "2020-09-15T07:48:07.771461Z",
     "start_time": "2020-09-15T07:48:07.599293Z"
    }
   },
   "outputs": [
    {
     "data": {
      "text/plain": [
       "BasicLayer(\n",
       "  from 64 to 64, 2 blocks, expansion 1.\n",
       "  (block_0): BasicBlock(\n",
       "    (conv): Sequential(\n",
       "      (conv_0): ConvLayer(\n",
       "        (conv): Conv2d(64, 64, kernel_size=(3, 3), stride=(1, 1), padding=(1, 1), bias=False)\n",
       "        (act_fn): ReLU(inplace=True)\n",
       "        (bn): BatchNorm2d(64, eps=1e-05, momentum=0.1, affine=True, track_running_stats=True)\n",
       "      )\n",
       "      (conv_1): ConvLayer(\n",
       "        (conv): Conv2d(64, 64, kernel_size=(3, 3), stride=(1, 1), padding=(1, 1), bias=False)\n",
       "        (bn): BatchNorm2d(64, eps=1e-05, momentum=0.1, affine=True, track_running_stats=True)\n",
       "      )\n",
       "    )\n",
       "    (merge): Noop()\n",
       "    (act_conn): ReLU(inplace=True)\n",
       "  )\n",
       "  (block_1): BasicBlock(\n",
       "    (conv): Sequential(\n",
       "      (conv_0): ConvLayer(\n",
       "        (conv): Conv2d(64, 64, kernel_size=(3, 3), stride=(1, 1), padding=(1, 1), bias=False)\n",
       "        (act_fn): ReLU(inplace=True)\n",
       "        (bn): BatchNorm2d(64, eps=1e-05, momentum=0.1, affine=True, track_running_stats=True)\n",
       "      )\n",
       "      (conv_1): ConvLayer(\n",
       "        (conv): Conv2d(64, 64, kernel_size=(3, 3), stride=(1, 1), padding=(1, 1), bias=False)\n",
       "        (bn): BatchNorm2d(64, eps=1e-05, momentum=0.1, affine=True, track_running_stats=True)\n",
       "      )\n",
       "    )\n",
       "    (merge): Noop()\n",
       "    (act_conn): ReLU(inplace=True)\n",
       "  )\n",
       ")"
      ]
     },
     "execution_count": 39,
     "metadata": {},
     "output_type": "execute_result"
    }
   ],
   "source": [
    "%nbdev_hide\n",
    "model = Net(bn_1st=False)\n",
    "model.body.layer_0"
   ]
  },
  {
   "cell_type": "code",
   "execution_count": 40,
   "metadata": {
    "ExecuteTime": {
     "end_time": "2020-09-15T07:48:08.706261Z",
     "start_time": "2020-09-15T07:48:08.567145Z"
    }
   },
   "outputs": [
    {
     "name": "stdout",
     "output_type": "stream",
     "text": [
      "torch.Size([8, 1000])\n"
     ]
    }
   ],
   "source": [
    "%nbdev_hide\n",
    "bs_test = 8\n",
    "xb = torch.randn(bs_test, 3, 128, 128)\n",
    "y = model(xb)\n",
    "print(y.shape)\n",
    "assert y.shape == torch.Size([bs_test, 1000]), f\"size expected {bs_test}, 1000\""
   ]
  },
  {
   "cell_type": "code",
   "execution_count": 41,
   "metadata": {
    "ExecuteTime": {
     "end_time": "2020-09-15T07:48:09.591909Z",
     "start_time": "2020-09-15T07:48:09.433365Z"
    }
   },
   "outputs": [
    {
     "data": {
      "text/plain": [
       "Net(\n",
       "  (stem): Stem(\n",
       "    sizes: [3, 64]\n",
       "    (conv_0): ConvLayer(\n",
       "      (conv): Conv2d(3, 64, kernel_size=(3, 3), stride=(2, 2), padding=(1, 1), bias=False)\n",
       "      (bn): BatchNorm2d(64, eps=1e-05, momentum=0.1, affine=True, track_running_stats=True)\n",
       "      (act_fn): ReLU(inplace=True)\n",
       "    )\n",
       "    (pool): MaxPool2d(kernel_size=3, stride=2, padding=1, dilation=1, ceil_mode=False)\n",
       "  )\n",
       "  (body): Body(\n",
       "    (layer_0): BasicLayer(\n",
       "      from 64 to 64, 2 blocks, expansion 1.\n",
       "      (block_0): BasicBlock(\n",
       "        (conv): Sequential(\n",
       "          (conv_0): ConvLayer(\n",
       "            (conv): Conv2d(64, 64, kernel_size=(3, 3), stride=(1, 1), padding=(1, 1), bias=False)\n",
       "            (bn): BatchNorm2d(64, eps=1e-05, momentum=0.1, affine=True, track_running_stats=True)\n",
       "            (act_fn): ReLU(inplace=True)\n",
       "          )\n",
       "          (conv_1): ConvLayer(\n",
       "            (conv): Conv2d(64, 64, kernel_size=(3, 3), stride=(1, 1), padding=(1, 1), bias=False)\n",
       "            (bn): BatchNorm2d(64, eps=1e-05, momentum=0.1, affine=True, track_running_stats=True)\n",
       "          )\n",
       "        )\n",
       "        (merge): Noop()\n",
       "        (act_conn): ReLU(inplace=True)\n",
       "      )\n",
       "      (block_1): BasicBlock(\n",
       "        (conv): Sequential(\n",
       "          (conv_0): ConvLayer(\n",
       "            (conv): Conv2d(64, 64, kernel_size=(3, 3), stride=(1, 1), padding=(1, 1), bias=False)\n",
       "            (bn): BatchNorm2d(64, eps=1e-05, momentum=0.1, affine=True, track_running_stats=True)\n",
       "            (act_fn): ReLU(inplace=True)\n",
       "          )\n",
       "          (conv_1): ConvLayer(\n",
       "            (conv): Conv2d(64, 64, kernel_size=(3, 3), stride=(1, 1), padding=(1, 1), bias=False)\n",
       "            (bn): BatchNorm2d(64, eps=1e-05, momentum=0.1, affine=True, track_running_stats=True)\n",
       "          )\n",
       "        )\n",
       "        (merge): Noop()\n",
       "        (act_conn): ReLU(inplace=True)\n",
       "      )\n",
       "    )\n",
       "    (layer_1): BasicLayer(\n",
       "      from 64 to 128, 2 blocks, expansion 1.\n",
       "      (block_0): BasicBlock(\n",
       "        (conv): Sequential(\n",
       "          (conv_0): ConvLayer(\n",
       "            (conv): Conv2d(64, 128, kernel_size=(3, 3), stride=(2, 2), padding=(1, 1), bias=False)\n",
       "            (bn): BatchNorm2d(128, eps=1e-05, momentum=0.1, affine=True, track_running_stats=True)\n",
       "            (act_fn): ReLU(inplace=True)\n",
       "          )\n",
       "          (conv_1): ConvLayer(\n",
       "            (conv): Conv2d(128, 128, kernel_size=(3, 3), stride=(1, 1), padding=(1, 1), bias=False)\n",
       "            (bn): BatchNorm2d(128, eps=1e-05, momentum=0.1, affine=True, track_running_stats=True)\n",
       "          )\n",
       "        )\n",
       "        (downsample): ConvLayer(\n",
       "          (conv): Conv2d(64, 128, kernel_size=(1, 1), stride=(2, 2), bias=False)\n",
       "          (bn): BatchNorm2d(128, eps=1e-05, momentum=0.1, affine=True, track_running_stats=True)\n",
       "        )\n",
       "        (merge): Noop()\n",
       "        (act_conn): ReLU(inplace=True)\n",
       "      )\n",
       "      (block_1): BasicBlock(\n",
       "        (conv): Sequential(\n",
       "          (conv_0): ConvLayer(\n",
       "            (conv): Conv2d(128, 128, kernel_size=(3, 3), stride=(1, 1), padding=(1, 1), bias=False)\n",
       "            (bn): BatchNorm2d(128, eps=1e-05, momentum=0.1, affine=True, track_running_stats=True)\n",
       "            (act_fn): ReLU(inplace=True)\n",
       "          )\n",
       "          (conv_1): ConvLayer(\n",
       "            (conv): Conv2d(128, 128, kernel_size=(3, 3), stride=(1, 1), padding=(1, 1), bias=False)\n",
       "            (bn): BatchNorm2d(128, eps=1e-05, momentum=0.1, affine=True, track_running_stats=True)\n",
       "          )\n",
       "        )\n",
       "        (merge): Noop()\n",
       "        (act_conn): ReLU(inplace=True)\n",
       "      )\n",
       "    )\n",
       "    (layer_2): BasicLayer(\n",
       "      from 128 to 256, 2 blocks, expansion 1.\n",
       "      (block_0): BasicBlock(\n",
       "        (conv): Sequential(\n",
       "          (conv_0): ConvLayer(\n",
       "            (conv): Conv2d(128, 256, kernel_size=(3, 3), stride=(2, 2), padding=(1, 1), bias=False)\n",
       "            (bn): BatchNorm2d(256, eps=1e-05, momentum=0.1, affine=True, track_running_stats=True)\n",
       "            (act_fn): ReLU(inplace=True)\n",
       "          )\n",
       "          (conv_1): ConvLayer(\n",
       "            (conv): Conv2d(256, 256, kernel_size=(3, 3), stride=(1, 1), padding=(1, 1), bias=False)\n",
       "            (bn): BatchNorm2d(256, eps=1e-05, momentum=0.1, affine=True, track_running_stats=True)\n",
       "          )\n",
       "        )\n",
       "        (downsample): ConvLayer(\n",
       "          (conv): Conv2d(128, 256, kernel_size=(1, 1), stride=(2, 2), bias=False)\n",
       "          (bn): BatchNorm2d(256, eps=1e-05, momentum=0.1, affine=True, track_running_stats=True)\n",
       "        )\n",
       "        (merge): Noop()\n",
       "        (act_conn): ReLU(inplace=True)\n",
       "      )\n",
       "      (block_1): BasicBlock(\n",
       "        (conv): Sequential(\n",
       "          (conv_0): ConvLayer(\n",
       "            (conv): Conv2d(256, 256, kernel_size=(3, 3), stride=(1, 1), padding=(1, 1), bias=False)\n",
       "            (bn): BatchNorm2d(256, eps=1e-05, momentum=0.1, affine=True, track_running_stats=True)\n",
       "            (act_fn): ReLU(inplace=True)\n",
       "          )\n",
       "          (conv_1): ConvLayer(\n",
       "            (conv): Conv2d(256, 256, kernel_size=(3, 3), stride=(1, 1), padding=(1, 1), bias=False)\n",
       "            (bn): BatchNorm2d(256, eps=1e-05, momentum=0.1, affine=True, track_running_stats=True)\n",
       "          )\n",
       "        )\n",
       "        (merge): Noop()\n",
       "        (act_conn): ReLU(inplace=True)\n",
       "      )\n",
       "    )\n",
       "    (layer_3): BasicLayer(\n",
       "      from 256 to 512, 2 blocks, expansion 1.\n",
       "      (block_0): BasicBlock(\n",
       "        (conv): Sequential(\n",
       "          (conv_0): ConvLayer(\n",
       "            (conv): Conv2d(256, 512, kernel_size=(3, 3), stride=(2, 2), padding=(1, 1), bias=False)\n",
       "            (bn): BatchNorm2d(512, eps=1e-05, momentum=0.1, affine=True, track_running_stats=True)\n",
       "            (act_fn): ReLU(inplace=True)\n",
       "          )\n",
       "          (conv_1): ConvLayer(\n",
       "            (conv): Conv2d(512, 512, kernel_size=(3, 3), stride=(1, 1), padding=(1, 1), bias=False)\n",
       "            (bn): BatchNorm2d(512, eps=1e-05, momentum=0.1, affine=True, track_running_stats=True)\n",
       "          )\n",
       "        )\n",
       "        (downsample): ConvLayer(\n",
       "          (conv): Conv2d(256, 512, kernel_size=(1, 1), stride=(2, 2), bias=False)\n",
       "          (bn): BatchNorm2d(512, eps=1e-05, momentum=0.1, affine=True, track_running_stats=True)\n",
       "        )\n",
       "        (merge): Noop()\n",
       "        (act_conn): ReLU(inplace=True)\n",
       "      )\n",
       "      (block_1): BasicBlock(\n",
       "        (conv): Sequential(\n",
       "          (conv_0): ConvLayer(\n",
       "            (conv): Conv2d(512, 512, kernel_size=(3, 3), stride=(1, 1), padding=(1, 1), bias=False)\n",
       "            (bn): BatchNorm2d(512, eps=1e-05, momentum=0.1, affine=True, track_running_stats=True)\n",
       "            (act_fn): ReLU(inplace=True)\n",
       "          )\n",
       "          (conv_1): ConvLayer(\n",
       "            (conv): Conv2d(512, 512, kernel_size=(3, 3), stride=(1, 1), padding=(1, 1), bias=False)\n",
       "            (bn): BatchNorm2d(512, eps=1e-05, momentum=0.1, affine=True, track_running_stats=True)\n",
       "          )\n",
       "        )\n",
       "        (merge): Noop()\n",
       "        (act_conn): ReLU(inplace=True)\n",
       "      )\n",
       "    )\n",
       "  )\n",
       "  (head): Head(\n",
       "    (pool): AdaptiveAvgPool2d(output_size=(1, 1))\n",
       "    (flat): Flatten()\n",
       "    (fc): Linear(in_features=512, out_features=1000, bias=True)\n",
       "  )\n",
       ")"
      ]
     },
     "execution_count": 41,
     "metadata": {},
     "output_type": "execute_result"
    }
   ],
   "source": [
    "%nbdev_hide\n",
    "model = Net(sa=True)\n",
    "model"
   ]
  },
  {
   "cell_type": "code",
   "execution_count": 42,
   "metadata": {
    "ExecuteTime": {
     "end_time": "2020-09-15T07:48:10.888883Z",
     "start_time": "2020-09-15T07:48:10.772022Z"
    }
   },
   "outputs": [
    {
     "name": "stdout",
     "output_type": "stream",
     "text": [
      "torch.Size([8, 1000])\n"
     ]
    }
   ],
   "source": [
    "%nbdev_hide\n",
    "bs_test = 8\n",
    "xb = torch.randn(bs_test, 3, 128, 128)\n",
    "y = model(xb)\n",
    "print(y.shape)\n",
    "assert y.shape == torch.Size([bs_test, 1000]), f\"size expected {bs_test}, 1000\""
   ]
  },
  {
   "cell_type": "markdown",
   "metadata": {},
   "source": [
    "# model constructor\n",
    "by ayasyrev"
   ]
  },
  {
   "cell_type": "code",
   "execution_count": 44,
   "metadata": {
    "ExecuteTime": {
     "end_time": "2020-09-15T07:48:53.788843Z",
     "start_time": "2020-09-15T07:48:53.151412Z"
    }
   },
   "outputs": [
    {
     "name": "stdout",
     "output_type": "stream",
     "text": [
      "Converted 00_Net.ipynb.\n",
      "Converted 01_activations.ipynb.\n",
      "Converted 01_layers.ipynb.\n",
      "Converted 03_MXResNet.ipynb.\n",
      "Converted 04_YaResNet.ipynb.\n",
      "Converted 05_Twist.ipynb.\n",
      "Converted 10_constructor.ipynb.\n",
      "Converted 11_resnet.ipynb.\n",
      "Converted 12_xresnet.ipynb.\n",
      "Converted index.ipynb.\n"
     ]
    }
   ],
   "source": [
    "%nbdev_hide\n",
    "from nbdev.export import *\n",
    "notebook2script()"
   ]
  },
  {
   "cell_type": "code",
   "execution_count": null,
   "metadata": {},
   "outputs": [],
   "source": []
  },
  {
   "cell_type": "code",
   "execution_count": null,
   "metadata": {},
   "outputs": [],
   "source": []
  },
  {
   "cell_type": "code",
   "execution_count": null,
   "metadata": {},
   "outputs": [],
   "source": []
  }
 ],
 "metadata": {
  "kernelspec": {
   "display_name": "Python 3",
   "language": "python",
   "name": "python3"
  },
  "language_info": {
   "codemirror_mode": {
    "name": "ipython",
    "version": 3
   },
   "file_extension": ".py",
   "mimetype": "text/x-python",
   "name": "python",
   "nbconvert_exporter": "python",
   "pygments_lexer": "ipython3",
   "version": "3.7.7"
  },
  "toc": {
   "base_numbering": 1,
   "nav_menu": {},
   "number_sections": true,
   "sideBar": true,
   "skip_h1_title": false,
   "title_cell": "Table of Contents",
   "title_sidebar": "Contents",
   "toc_cell": false,
   "toc_position": {},
   "toc_section_display": true,
   "toc_window_display": true
  }
 },
 "nbformat": 4,
 "nbformat_minor": 2
}
